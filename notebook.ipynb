{
 "cells": [
  {
   "cell_type": "markdown",
   "metadata": {},
   "source": [
    "# Project: Identify Customer Segments\n",
    "\n",
    "In this project, I apply unsupervised learning techniques to identify segments of the population that form the core customer base for a mail-order sales company in Germany. These segments can then be used to direct marketing campaigns towards audiences that will have the highest expected rate of returns. The data used was provided by Udacity partners at Bertelsmann Arvato Analytics."
   ]
  },
  {
   "cell_type": "code",
   "execution_count": 1,
   "metadata": {},
   "outputs": [
    {
     "name": "stderr",
     "output_type": "stream",
     "text": [
      "/Users/bmsbm/anaconda3/lib/python3.6/site-packages/lightgbm/__init__.py:46: UserWarning: Starting from version 2.2.1, the library file in distribution wheels for macOS is built by the Apple Clang (Xcode_9.4.1) compiler.\n",
      "This means that in case of installing LightGBM from PyPI via the ``pip install lightgbm`` command, you don't need to install the gcc compiler anymore.\n",
      "Instead of that, you need to install the OpenMP library, which is required for running LightGBM on the system with the Apple Clang compiler.\n",
      "You can install the OpenMP library by the following command: ``brew install libomp``.\n",
      "  \"You can install the OpenMP library by the following command: ``brew install libomp``.\", UserWarning)\n",
      "[MLENS] backend: threading\n"
     ]
    }
   ],
   "source": [
    "import numpy as np\n",
    "import pandas as pd\n",
    "import matplotlib.pyplot as plt\n",
    "import seaborn as sns\n",
    "\n",
    "import datetime\n",
    "\n",
    "from sklearn.preprocessing import StandardScaler, RobustScaler, MinMaxScaler\n",
    "from sklearn.decomposition import PCA\n",
    "from sklearn.cluster import KMeans\n",
    "from sklearn.pipeline import Pipeline\n",
    "from sklearn.impute import SimpleImputer\n",
    "from sklearn.compose import ColumnTransformer\n",
    "\n",
    "from sklearn.svm import SVC, LinearSVC\n",
    "from sklearn.naive_bayes import GaussianNB\n",
    "from sklearn.ensemble import RandomForestClassifier, GradientBoostingClassifier\n",
    "from sklearn.linear_model import LogisticRegression\n",
    "from sklearn.neighbors import KNeighborsClassifier\n",
    "from sklearn.neural_network import MLPClassifier\n",
    "from sklearn.kernel_approximation import Nystroem\n",
    "from sklearn.kernel_approximation import RBFSampler\n",
    "from sklearn.pipeline import make_pipeline\n",
    "\n",
    "from sklearn.model_selection import GridSearchCV, RandomizedSearchCV \n",
    "from sklearn.metrics import roc_auc_score\n",
    "from sklearn.ensemble import RandomForestClassifier, AdaBoostClassifier\n",
    "import lightgbm as lgb\n",
    "from sklearn.model_selection import KFold, cross_val_score, train_test_split, StratifiedKFold \n",
    "\n",
    "from hyperopt import hp\n",
    "from hyperopt import fmin, tpe, Trials\n",
    "from hyperopt import space_eval\n",
    "\n",
    "from scipy.stats import skew\n",
    "\n",
    "from mlens.ensemble import SuperLearner\n",
    "import pickle\n",
    "\n",
    "import helper as t\n",
    "\n",
    "#for reproducibility\n",
    "SEED=42\n",
    "\n",
    "%matplotlib inline"
   ]
  },
  {
   "cell_type": "markdown",
   "metadata": {},
   "source": [
    "## Part 0: Get to Know the Data\n",
    "\n",
    "There are four data files associated with this project:\n",
    "\n",
    "- `Udacity_AZDIAS_052018.csv`: Demographics data for the general population of Germany; 891 211 persons (rows) x 366 features (columns).\n",
    "- `Udacity_CUSTOMERS_052018.csv`: Demographics data for customers of a mail-order company; 191 652 persons (rows) x 369 features (columns).\n",
    "- `Udacity_MAILOUT_052018_TRAIN.csv`: Demographics data for individuals who were targets of a marketing campaign; 42 982 persons (rows) x 367 (columns).\n",
    "- `Udacity_MAILOUT_052018_TEST.csv`: Demographics data for individuals who were targets of a marketing campaign; 42 833 persons (rows) x 366 (columns).\n",
    "\n",
    "Each row of the demographics files represents a single person, but also includes information outside of individuals, including information about their household, building, and neighborhood. Use the information from the first two files to figure out how customers (\"CUSTOMERS\") are similar to or differ from the general population at large (\"AZDIAS\"), then use your analysis to make predictions on the other two files (\"MAILOUT\"), predicting which recipients are most likely to become a customer for the mail-order company.\n",
    "\n",
    "The \"CUSTOMERS\" file contains three extra columns ('CUSTOMER_GROUP', 'ONLINE_PURCHASE', and 'PRODUCT_GROUP'), which provide broad information about the customers depicted in the file. The original \"MAILOUT\" file included one additional column, \"RESPONSE\", which indicated whether or not each recipient became a customer of the company. For the \"TRAIN\" subset, this column has been retained, but in the \"TEST\" subset it has been removed; it is against that withheld column that your final predictions will be assessed in the Kaggle competition.\n",
    "\n",
    "Otherwise, all of the remaining columns are the same between the three data files. For more information about the columns depicted in the files, you can refer to two Excel spreadsheets provided in the workspace. [One of them](./DIAS Information Levels - Attributes 2017.xlsx) is a top-level list of attributes and descriptions, organized by informational category. [The other](./DIAS Attributes - Values 2017.xlsx) is a detailed mapping of data values for each feature in alphabetical order.\n",
    "\n",
    "In the below cell, we've provided some initial code to load in the first two datasets. Note for all of the `.csv` data files in this project that they're semicolon (`;`) delimited, so an additional argument in the [`read_csv()`](https://pandas.pydata.org/pandas-docs/stable/generated/pandas.read_csv.html) call has been included to read in the data properly. Also, considering the size of the datasets, it may take some time for them to load completely.\n",
    "\n",
    "You'll notice when the data is loaded in that a warning message will immediately pop up. Before you really start digging into the modeling and analysis, you're going to need to perform some cleaning. Take some time to browse the structure of the data and look over the informational spreadsheets to understand the data values. Make some decisions on which features to keep, which features to drop, and if any revisions need to be made on data formats. It'll be a good idea to create a function with pre-processing steps, since you'll need to clean all of the datasets before you work with them."
   ]
  },
  {
   "cell_type": "code",
   "execution_count": 2,
   "metadata": {},
   "outputs": [],
   "source": [
    "# Load in the general demographics data.\n",
    "azdias = pd.read_csv('Udacity_AZDIAS_052018.csv', dtype = {18: 'str', 19: 'str'}, sep=';')"
   ]
  },
  {
   "cell_type": "markdown",
   "metadata": {},
   "source": [
    "Using the file with the mapping of data values for each feature, I created a csv file of features and the corresponding values for missing values. I then pulled the `feat_info.csv` file from the work done in the first term, and combined it with this file to create a data dictionary, which I saved as `AZDIAS_Feature_Summary.csv`. \n",
    "\n",
    "I use this data dictionary to make decisions in this project."
   ]
  },
  {
   "cell_type": "code",
   "execution_count": 3,
   "metadata": {},
   "outputs": [],
   "source": [
    "# Load in the feature summary file.\n",
    "feat_info = pd.read_csv(\"AZDIAS_Feature_Summary.csv\", sep=\";\", index_col=0)"
   ]
  },
  {
   "cell_type": "code",
   "execution_count": 4,
   "metadata": {},
   "outputs": [
    {
     "name": "stdout",
     "output_type": "stream",
     "text": [
      "The general dataset has 891221 rows and 366 columns\n",
      "The summary dataset has 374 rows and 4 columns\n"
     ]
    }
   ],
   "source": [
    "# Check the structure of the data after it's loaded (e.g. print the number of\n",
    "# rows and columns, print the first few rows).\n",
    "print(\"The general dataset has {} rows and {} columns\".format(azdias.shape[0], azdias.shape[1]))\n",
    "print(\"The summary dataset has {} rows and {} columns\".format(feat_info.shape[0], feat_info.shape[1]))"
   ]
  },
  {
   "cell_type": "code",
   "execution_count": 5,
   "metadata": {},
   "outputs": [
    {
     "data": {
      "text/html": [
       "<div>\n",
       "<style scoped>\n",
       "    .dataframe tbody tr th:only-of-type {\n",
       "        vertical-align: middle;\n",
       "    }\n",
       "\n",
       "    .dataframe tbody tr th {\n",
       "        vertical-align: top;\n",
       "    }\n",
       "\n",
       "    .dataframe thead th {\n",
       "        text-align: right;\n",
       "    }\n",
       "</style>\n",
       "<table border=\"1\" class=\"dataframe\">\n",
       "  <thead>\n",
       "    <tr style=\"text-align: right;\">\n",
       "      <th></th>\n",
       "      <th>LNR</th>\n",
       "      <th>AGER_TYP</th>\n",
       "      <th>AKT_DAT_KL</th>\n",
       "      <th>ALTER_HH</th>\n",
       "      <th>ALTER_KIND1</th>\n",
       "      <th>ALTER_KIND2</th>\n",
       "      <th>ALTER_KIND3</th>\n",
       "      <th>ALTER_KIND4</th>\n",
       "      <th>ALTERSKATEGORIE_FEIN</th>\n",
       "      <th>ANZ_HAUSHALTE_AKTIV</th>\n",
       "      <th>...</th>\n",
       "      <th>VHN</th>\n",
       "      <th>VK_DHT4A</th>\n",
       "      <th>VK_DISTANZ</th>\n",
       "      <th>VK_ZG11</th>\n",
       "      <th>W_KEIT_KIND_HH</th>\n",
       "      <th>WOHNDAUER_2008</th>\n",
       "      <th>WOHNLAGE</th>\n",
       "      <th>ZABEOTYP</th>\n",
       "      <th>ANREDE_KZ</th>\n",
       "      <th>ALTERSKATEGORIE_GROB</th>\n",
       "    </tr>\n",
       "  </thead>\n",
       "  <tbody>\n",
       "    <tr>\n",
       "      <th>0</th>\n",
       "      <td>910215</td>\n",
       "      <td>-1</td>\n",
       "      <td>NaN</td>\n",
       "      <td>NaN</td>\n",
       "      <td>NaN</td>\n",
       "      <td>NaN</td>\n",
       "      <td>NaN</td>\n",
       "      <td>NaN</td>\n",
       "      <td>NaN</td>\n",
       "      <td>NaN</td>\n",
       "      <td>...</td>\n",
       "      <td>NaN</td>\n",
       "      <td>NaN</td>\n",
       "      <td>NaN</td>\n",
       "      <td>NaN</td>\n",
       "      <td>NaN</td>\n",
       "      <td>NaN</td>\n",
       "      <td>NaN</td>\n",
       "      <td>3</td>\n",
       "      <td>1</td>\n",
       "      <td>2</td>\n",
       "    </tr>\n",
       "    <tr>\n",
       "      <th>1</th>\n",
       "      <td>910220</td>\n",
       "      <td>-1</td>\n",
       "      <td>9.0</td>\n",
       "      <td>0.0</td>\n",
       "      <td>NaN</td>\n",
       "      <td>NaN</td>\n",
       "      <td>NaN</td>\n",
       "      <td>NaN</td>\n",
       "      <td>21.0</td>\n",
       "      <td>11.0</td>\n",
       "      <td>...</td>\n",
       "      <td>4.0</td>\n",
       "      <td>8.0</td>\n",
       "      <td>11.0</td>\n",
       "      <td>10.0</td>\n",
       "      <td>3.0</td>\n",
       "      <td>9.0</td>\n",
       "      <td>4.0</td>\n",
       "      <td>5</td>\n",
       "      <td>2</td>\n",
       "      <td>1</td>\n",
       "    </tr>\n",
       "    <tr>\n",
       "      <th>2</th>\n",
       "      <td>910225</td>\n",
       "      <td>-1</td>\n",
       "      <td>9.0</td>\n",
       "      <td>17.0</td>\n",
       "      <td>NaN</td>\n",
       "      <td>NaN</td>\n",
       "      <td>NaN</td>\n",
       "      <td>NaN</td>\n",
       "      <td>17.0</td>\n",
       "      <td>10.0</td>\n",
       "      <td>...</td>\n",
       "      <td>2.0</td>\n",
       "      <td>9.0</td>\n",
       "      <td>9.0</td>\n",
       "      <td>6.0</td>\n",
       "      <td>3.0</td>\n",
       "      <td>9.0</td>\n",
       "      <td>2.0</td>\n",
       "      <td>5</td>\n",
       "      <td>2</td>\n",
       "      <td>3</td>\n",
       "    </tr>\n",
       "    <tr>\n",
       "      <th>3</th>\n",
       "      <td>910226</td>\n",
       "      <td>2</td>\n",
       "      <td>1.0</td>\n",
       "      <td>13.0</td>\n",
       "      <td>NaN</td>\n",
       "      <td>NaN</td>\n",
       "      <td>NaN</td>\n",
       "      <td>NaN</td>\n",
       "      <td>13.0</td>\n",
       "      <td>1.0</td>\n",
       "      <td>...</td>\n",
       "      <td>0.0</td>\n",
       "      <td>7.0</td>\n",
       "      <td>10.0</td>\n",
       "      <td>11.0</td>\n",
       "      <td>NaN</td>\n",
       "      <td>9.0</td>\n",
       "      <td>7.0</td>\n",
       "      <td>3</td>\n",
       "      <td>2</td>\n",
       "      <td>4</td>\n",
       "    </tr>\n",
       "    <tr>\n",
       "      <th>4</th>\n",
       "      <td>910241</td>\n",
       "      <td>-1</td>\n",
       "      <td>1.0</td>\n",
       "      <td>20.0</td>\n",
       "      <td>NaN</td>\n",
       "      <td>NaN</td>\n",
       "      <td>NaN</td>\n",
       "      <td>NaN</td>\n",
       "      <td>14.0</td>\n",
       "      <td>3.0</td>\n",
       "      <td>...</td>\n",
       "      <td>2.0</td>\n",
       "      <td>3.0</td>\n",
       "      <td>5.0</td>\n",
       "      <td>4.0</td>\n",
       "      <td>2.0</td>\n",
       "      <td>9.0</td>\n",
       "      <td>3.0</td>\n",
       "      <td>4</td>\n",
       "      <td>1</td>\n",
       "      <td>3</td>\n",
       "    </tr>\n",
       "  </tbody>\n",
       "</table>\n",
       "<p>5 rows × 366 columns</p>\n",
       "</div>"
      ],
      "text/plain": [
       "      LNR  AGER_TYP  AKT_DAT_KL  ALTER_HH  ALTER_KIND1  ALTER_KIND2  \\\n",
       "0  910215        -1         NaN       NaN          NaN          NaN   \n",
       "1  910220        -1         9.0       0.0          NaN          NaN   \n",
       "2  910225        -1         9.0      17.0          NaN          NaN   \n",
       "3  910226         2         1.0      13.0          NaN          NaN   \n",
       "4  910241        -1         1.0      20.0          NaN          NaN   \n",
       "\n",
       "   ALTER_KIND3  ALTER_KIND4  ALTERSKATEGORIE_FEIN  ANZ_HAUSHALTE_AKTIV  \\\n",
       "0          NaN          NaN                   NaN                  NaN   \n",
       "1          NaN          NaN                  21.0                 11.0   \n",
       "2          NaN          NaN                  17.0                 10.0   \n",
       "3          NaN          NaN                  13.0                  1.0   \n",
       "4          NaN          NaN                  14.0                  3.0   \n",
       "\n",
       "          ...           VHN  VK_DHT4A  VK_DISTANZ  VK_ZG11  W_KEIT_KIND_HH  \\\n",
       "0         ...           NaN       NaN         NaN      NaN             NaN   \n",
       "1         ...           4.0       8.0        11.0     10.0             3.0   \n",
       "2         ...           2.0       9.0         9.0      6.0             3.0   \n",
       "3         ...           0.0       7.0        10.0     11.0             NaN   \n",
       "4         ...           2.0       3.0         5.0      4.0             2.0   \n",
       "\n",
       "   WOHNDAUER_2008  WOHNLAGE ZABEOTYP ANREDE_KZ ALTERSKATEGORIE_GROB  \n",
       "0             NaN       NaN        3         1                    2  \n",
       "1             9.0       4.0        5         2                    1  \n",
       "2             9.0       2.0        5         2                    3  \n",
       "3             9.0       7.0        3         2                    4  \n",
       "4             9.0       3.0        4         1                    3  \n",
       "\n",
       "[5 rows x 366 columns]"
      ]
     },
     "metadata": {},
     "output_type": "display_data"
    }
   ],
   "source": [
    "display(azdias.head(5))"
   ]
  },
  {
   "cell_type": "code",
   "execution_count": 6,
   "metadata": {},
   "outputs": [
    {
     "data": {
      "text/html": [
       "<div>\n",
       "<style scoped>\n",
       "    .dataframe tbody tr th:only-of-type {\n",
       "        vertical-align: middle;\n",
       "    }\n",
       "\n",
       "    .dataframe tbody tr th {\n",
       "        vertical-align: top;\n",
       "    }\n",
       "\n",
       "    .dataframe thead th {\n",
       "        text-align: right;\n",
       "    }\n",
       "</style>\n",
       "<table border=\"1\" class=\"dataframe\">\n",
       "  <thead>\n",
       "    <tr style=\"text-align: right;\">\n",
       "      <th></th>\n",
       "      <th>attribute</th>\n",
       "      <th>information_level</th>\n",
       "      <th>type</th>\n",
       "      <th>missing_or_unknown</th>\n",
       "    </tr>\n",
       "  </thead>\n",
       "  <tbody>\n",
       "    <tr>\n",
       "      <th>0</th>\n",
       "      <td>AGER_TYP</td>\n",
       "      <td>person</td>\n",
       "      <td>categorical</td>\n",
       "      <td>[-1,0]</td>\n",
       "    </tr>\n",
       "    <tr>\n",
       "      <th>1</th>\n",
       "      <td>ALTERSKATEGORIE_GROB</td>\n",
       "      <td>person</td>\n",
       "      <td>ordinal</td>\n",
       "      <td>[-1,0,9]</td>\n",
       "    </tr>\n",
       "    <tr>\n",
       "      <th>2</th>\n",
       "      <td>ANREDE_KZ</td>\n",
       "      <td>person</td>\n",
       "      <td>categorical</td>\n",
       "      <td>[-1,0]</td>\n",
       "    </tr>\n",
       "    <tr>\n",
       "      <th>3</th>\n",
       "      <td>CJT_GESAMTTYP</td>\n",
       "      <td>person</td>\n",
       "      <td>categorical</td>\n",
       "      <td>[0]</td>\n",
       "    </tr>\n",
       "    <tr>\n",
       "      <th>4</th>\n",
       "      <td>FINANZ_MINIMALIST</td>\n",
       "      <td>person</td>\n",
       "      <td>ordinal</td>\n",
       "      <td>[-1]</td>\n",
       "    </tr>\n",
       "  </tbody>\n",
       "</table>\n",
       "</div>"
      ],
      "text/plain": [
       "              attribute information_level         type missing_or_unknown\n",
       "0              AGER_TYP            person  categorical             [-1,0]\n",
       "1  ALTERSKATEGORIE_GROB            person      ordinal           [-1,0,9]\n",
       "2             ANREDE_KZ            person  categorical             [-1,0]\n",
       "3         CJT_GESAMTTYP            person  categorical                [0]\n",
       "4     FINANZ_MINIMALIST            person      ordinal               [-1]"
      ]
     },
     "metadata": {},
     "output_type": "display_data"
    }
   ],
   "source": [
    "display(feat_info.head(5))"
   ]
  },
  {
   "cell_type": "code",
   "execution_count": 16,
   "metadata": {},
   "outputs": [
    {
     "data": {
      "text/html": [
       "<div>\n",
       "<style scoped>\n",
       "    .dataframe tbody tr th:only-of-type {\n",
       "        vertical-align: middle;\n",
       "    }\n",
       "\n",
       "    .dataframe tbody tr th {\n",
       "        vertical-align: top;\n",
       "    }\n",
       "\n",
       "    .dataframe thead th {\n",
       "        text-align: right;\n",
       "    }\n",
       "</style>\n",
       "<table border=\"1\" class=\"dataframe\">\n",
       "  <thead>\n",
       "    <tr style=\"text-align: right;\">\n",
       "      <th></th>\n",
       "      <th>LNR</th>\n",
       "      <th>AGER_TYP</th>\n",
       "      <th>AKT_DAT_KL</th>\n",
       "      <th>ALTER_HH</th>\n",
       "      <th>ALTER_KIND1</th>\n",
       "      <th>ALTER_KIND2</th>\n",
       "      <th>ALTER_KIND3</th>\n",
       "      <th>ALTER_KIND4</th>\n",
       "      <th>ALTERSKATEGORIE_FEIN</th>\n",
       "      <th>ANZ_HAUSHALTE_AKTIV</th>\n",
       "      <th>...</th>\n",
       "      <th>VHN</th>\n",
       "      <th>VK_DHT4A</th>\n",
       "      <th>VK_DISTANZ</th>\n",
       "      <th>VK_ZG11</th>\n",
       "      <th>W_KEIT_KIND_HH</th>\n",
       "      <th>WOHNDAUER_2008</th>\n",
       "      <th>WOHNLAGE</th>\n",
       "      <th>ZABEOTYP</th>\n",
       "      <th>ANREDE_KZ</th>\n",
       "      <th>ALTERSKATEGORIE_GROB</th>\n",
       "    </tr>\n",
       "  </thead>\n",
       "  <tbody>\n",
       "    <tr>\n",
       "      <th>count</th>\n",
       "      <td>8.912210e+05</td>\n",
       "      <td>891221.000000</td>\n",
       "      <td>817722.000000</td>\n",
       "      <td>817722.000000</td>\n",
       "      <td>81058.000000</td>\n",
       "      <td>29499.000000</td>\n",
       "      <td>6170.000000</td>\n",
       "      <td>1205.000000</td>\n",
       "      <td>628274.000000</td>\n",
       "      <td>798073.000000</td>\n",
       "      <td>...</td>\n",
       "      <td>770025.000000</td>\n",
       "      <td>815304.000000</td>\n",
       "      <td>815304.000000</td>\n",
       "      <td>815304.000000</td>\n",
       "      <td>783619.000000</td>\n",
       "      <td>817722.000000</td>\n",
       "      <td>798073.000000</td>\n",
       "      <td>891221.000000</td>\n",
       "      <td>891221.000000</td>\n",
       "      <td>891221.000000</td>\n",
       "    </tr>\n",
       "    <tr>\n",
       "      <th>mean</th>\n",
       "      <td>6.372630e+05</td>\n",
       "      <td>-0.358435</td>\n",
       "      <td>4.421928</td>\n",
       "      <td>10.864126</td>\n",
       "      <td>11.745392</td>\n",
       "      <td>13.402658</td>\n",
       "      <td>14.476013</td>\n",
       "      <td>15.089627</td>\n",
       "      <td>13.700717</td>\n",
       "      <td>8.287263</td>\n",
       "      <td>...</td>\n",
       "      <td>2.417322</td>\n",
       "      <td>6.001214</td>\n",
       "      <td>7.532130</td>\n",
       "      <td>5.945972</td>\n",
       "      <td>3.933406</td>\n",
       "      <td>7.908791</td>\n",
       "      <td>4.052836</td>\n",
       "      <td>3.362438</td>\n",
       "      <td>1.522098</td>\n",
       "      <td>2.777398</td>\n",
       "    </tr>\n",
       "    <tr>\n",
       "      <th>std</th>\n",
       "      <td>2.572735e+05</td>\n",
       "      <td>1.198724</td>\n",
       "      <td>3.638805</td>\n",
       "      <td>7.639683</td>\n",
       "      <td>4.097660</td>\n",
       "      <td>3.243300</td>\n",
       "      <td>2.712427</td>\n",
       "      <td>2.452932</td>\n",
       "      <td>5.079849</td>\n",
       "      <td>15.628087</td>\n",
       "      <td>...</td>\n",
       "      <td>1.166572</td>\n",
       "      <td>2.856091</td>\n",
       "      <td>3.247789</td>\n",
       "      <td>2.771464</td>\n",
       "      <td>1.964701</td>\n",
       "      <td>1.923137</td>\n",
       "      <td>1.949539</td>\n",
       "      <td>1.352704</td>\n",
       "      <td>0.499512</td>\n",
       "      <td>1.068775</td>\n",
       "    </tr>\n",
       "    <tr>\n",
       "      <th>min</th>\n",
       "      <td>1.916530e+05</td>\n",
       "      <td>-1.000000</td>\n",
       "      <td>1.000000</td>\n",
       "      <td>0.000000</td>\n",
       "      <td>2.000000</td>\n",
       "      <td>2.000000</td>\n",
       "      <td>4.000000</td>\n",
       "      <td>7.000000</td>\n",
       "      <td>0.000000</td>\n",
       "      <td>0.000000</td>\n",
       "      <td>...</td>\n",
       "      <td>0.000000</td>\n",
       "      <td>1.000000</td>\n",
       "      <td>1.000000</td>\n",
       "      <td>1.000000</td>\n",
       "      <td>0.000000</td>\n",
       "      <td>1.000000</td>\n",
       "      <td>0.000000</td>\n",
       "      <td>1.000000</td>\n",
       "      <td>1.000000</td>\n",
       "      <td>1.000000</td>\n",
       "    </tr>\n",
       "    <tr>\n",
       "      <th>25%</th>\n",
       "      <td>4.144580e+05</td>\n",
       "      <td>-1.000000</td>\n",
       "      <td>1.000000</td>\n",
       "      <td>0.000000</td>\n",
       "      <td>8.000000</td>\n",
       "      <td>11.000000</td>\n",
       "      <td>13.000000</td>\n",
       "      <td>14.000000</td>\n",
       "      <td>11.000000</td>\n",
       "      <td>1.000000</td>\n",
       "      <td>...</td>\n",
       "      <td>2.000000</td>\n",
       "      <td>3.000000</td>\n",
       "      <td>5.000000</td>\n",
       "      <td>4.000000</td>\n",
       "      <td>2.000000</td>\n",
       "      <td>8.000000</td>\n",
       "      <td>3.000000</td>\n",
       "      <td>3.000000</td>\n",
       "      <td>1.000000</td>\n",
       "      <td>2.000000</td>\n",
       "    </tr>\n",
       "    <tr>\n",
       "      <th>50%</th>\n",
       "      <td>6.372630e+05</td>\n",
       "      <td>-1.000000</td>\n",
       "      <td>3.000000</td>\n",
       "      <td>13.000000</td>\n",
       "      <td>12.000000</td>\n",
       "      <td>14.000000</td>\n",
       "      <td>15.000000</td>\n",
       "      <td>15.000000</td>\n",
       "      <td>14.000000</td>\n",
       "      <td>4.000000</td>\n",
       "      <td>...</td>\n",
       "      <td>2.000000</td>\n",
       "      <td>6.000000</td>\n",
       "      <td>8.000000</td>\n",
       "      <td>6.000000</td>\n",
       "      <td>4.000000</td>\n",
       "      <td>9.000000</td>\n",
       "      <td>3.000000</td>\n",
       "      <td>3.000000</td>\n",
       "      <td>2.000000</td>\n",
       "      <td>3.000000</td>\n",
       "    </tr>\n",
       "    <tr>\n",
       "      <th>75%</th>\n",
       "      <td>8.600680e+05</td>\n",
       "      <td>-1.000000</td>\n",
       "      <td>9.000000</td>\n",
       "      <td>17.000000</td>\n",
       "      <td>15.000000</td>\n",
       "      <td>16.000000</td>\n",
       "      <td>17.000000</td>\n",
       "      <td>17.000000</td>\n",
       "      <td>17.000000</td>\n",
       "      <td>9.000000</td>\n",
       "      <td>...</td>\n",
       "      <td>3.000000</td>\n",
       "      <td>9.000000</td>\n",
       "      <td>10.000000</td>\n",
       "      <td>8.000000</td>\n",
       "      <td>6.000000</td>\n",
       "      <td>9.000000</td>\n",
       "      <td>5.000000</td>\n",
       "      <td>4.000000</td>\n",
       "      <td>2.000000</td>\n",
       "      <td>4.000000</td>\n",
       "    </tr>\n",
       "    <tr>\n",
       "      <th>max</th>\n",
       "      <td>1.082873e+06</td>\n",
       "      <td>3.000000</td>\n",
       "      <td>9.000000</td>\n",
       "      <td>21.000000</td>\n",
       "      <td>18.000000</td>\n",
       "      <td>18.000000</td>\n",
       "      <td>18.000000</td>\n",
       "      <td>18.000000</td>\n",
       "      <td>25.000000</td>\n",
       "      <td>595.000000</td>\n",
       "      <td>...</td>\n",
       "      <td>4.000000</td>\n",
       "      <td>11.000000</td>\n",
       "      <td>13.000000</td>\n",
       "      <td>11.000000</td>\n",
       "      <td>6.000000</td>\n",
       "      <td>9.000000</td>\n",
       "      <td>8.000000</td>\n",
       "      <td>6.000000</td>\n",
       "      <td>2.000000</td>\n",
       "      <td>9.000000</td>\n",
       "    </tr>\n",
       "  </tbody>\n",
       "</table>\n",
       "<p>8 rows × 360 columns</p>\n",
       "</div>"
      ],
      "text/plain": [
       "                LNR       AGER_TYP     AKT_DAT_KL       ALTER_HH  \\\n",
       "count  8.912210e+05  891221.000000  817722.000000  817722.000000   \n",
       "mean   6.372630e+05      -0.358435       4.421928      10.864126   \n",
       "std    2.572735e+05       1.198724       3.638805       7.639683   \n",
       "min    1.916530e+05      -1.000000       1.000000       0.000000   \n",
       "25%    4.144580e+05      -1.000000       1.000000       0.000000   \n",
       "50%    6.372630e+05      -1.000000       3.000000      13.000000   \n",
       "75%    8.600680e+05      -1.000000       9.000000      17.000000   \n",
       "max    1.082873e+06       3.000000       9.000000      21.000000   \n",
       "\n",
       "        ALTER_KIND1   ALTER_KIND2  ALTER_KIND3  ALTER_KIND4  \\\n",
       "count  81058.000000  29499.000000  6170.000000  1205.000000   \n",
       "mean      11.745392     13.402658    14.476013    15.089627   \n",
       "std        4.097660      3.243300     2.712427     2.452932   \n",
       "min        2.000000      2.000000     4.000000     7.000000   \n",
       "25%        8.000000     11.000000    13.000000    14.000000   \n",
       "50%       12.000000     14.000000    15.000000    15.000000   \n",
       "75%       15.000000     16.000000    17.000000    17.000000   \n",
       "max       18.000000     18.000000    18.000000    18.000000   \n",
       "\n",
       "       ALTERSKATEGORIE_FEIN  ANZ_HAUSHALTE_AKTIV          ...           \\\n",
       "count         628274.000000        798073.000000          ...            \n",
       "mean              13.700717             8.287263          ...            \n",
       "std                5.079849            15.628087          ...            \n",
       "min                0.000000             0.000000          ...            \n",
       "25%               11.000000             1.000000          ...            \n",
       "50%               14.000000             4.000000          ...            \n",
       "75%               17.000000             9.000000          ...            \n",
       "max               25.000000           595.000000          ...            \n",
       "\n",
       "                 VHN       VK_DHT4A     VK_DISTANZ        VK_ZG11  \\\n",
       "count  770025.000000  815304.000000  815304.000000  815304.000000   \n",
       "mean        2.417322       6.001214       7.532130       5.945972   \n",
       "std         1.166572       2.856091       3.247789       2.771464   \n",
       "min         0.000000       1.000000       1.000000       1.000000   \n",
       "25%         2.000000       3.000000       5.000000       4.000000   \n",
       "50%         2.000000       6.000000       8.000000       6.000000   \n",
       "75%         3.000000       9.000000      10.000000       8.000000   \n",
       "max         4.000000      11.000000      13.000000      11.000000   \n",
       "\n",
       "       W_KEIT_KIND_HH  WOHNDAUER_2008       WOHNLAGE       ZABEOTYP  \\\n",
       "count   783619.000000   817722.000000  798073.000000  891221.000000   \n",
       "mean         3.933406        7.908791       4.052836       3.362438   \n",
       "std          1.964701        1.923137       1.949539       1.352704   \n",
       "min          0.000000        1.000000       0.000000       1.000000   \n",
       "25%          2.000000        8.000000       3.000000       3.000000   \n",
       "50%          4.000000        9.000000       3.000000       3.000000   \n",
       "75%          6.000000        9.000000       5.000000       4.000000   \n",
       "max          6.000000        9.000000       8.000000       6.000000   \n",
       "\n",
       "           ANREDE_KZ  ALTERSKATEGORIE_GROB  \n",
       "count  891221.000000         891221.000000  \n",
       "mean        1.522098              2.777398  \n",
       "std         0.499512              1.068775  \n",
       "min         1.000000              1.000000  \n",
       "25%         1.000000              2.000000  \n",
       "50%         2.000000              3.000000  \n",
       "75%         2.000000              4.000000  \n",
       "max         2.000000              9.000000  \n",
       "\n",
       "[8 rows x 360 columns]"
      ]
     },
     "execution_count": 16,
     "metadata": {},
     "output_type": "execute_result"
    }
   ],
   "source": [
    "azdias.describe()"
   ]
  },
  {
   "cell_type": "markdown",
   "metadata": {},
   "source": [
    "The feature summary file contains a summary of properties for each demographics data column. I use this file to make cleaning decisions during this stage of the project. \n",
    "\n",
    "The fourth column of the feature attributes summary (loaded in above as `feat_info`) documents the codes from the data dictionary that indicate missing or unknown data. While the file encodes this as a list (e.g. `[-1,0]`), this will get read in as a string object. As such, some parsing is needed in order to identify missing values and clean the data.\n",
    "\n",
    "To do this, I create a new \"missing_or_unknown\" column, with the string values converted to integers where appropriate.\n",
    "\n",
    "There are some attributes which are found in the data dictionary, but not in the original dataset, and vice versa. Those attributes found in the dataset but not in the dictionary pose a particular problem, because I wouldn't be able to tell which values correspond to missing values in the data. While compiling the data dictionary, I looked for similar variables in the existing dictionary, and assumed that the missing values were also similar. For example, I assumed that all the variables of the type `D19` were similar, in type and level of information, and that the missing values were also similar.\n",
    "\n",
    "For the features in the data dictionary which are not found in the dataset, I will drop them from the data dictionary."
   ]
  },
  {
   "cell_type": "code",
   "execution_count": 4,
   "metadata": {},
   "outputs": [],
   "source": [
    "feat_info = t.clean_data_dictionary(feat_info, azdias)"
   ]
  },
  {
   "cell_type": "markdown",
   "metadata": {},
   "source": [
    "I want to see how much data takes on a 'missing' or 'unknown' code, and how much data is naturally missing. To do this, I will count the number of 'NAs' in the dataset before and after replacing the missing codes. The difference between these values is the number of encoded missing values."
   ]
  },
  {
   "cell_type": "code",
   "execution_count": 8,
   "metadata": {},
   "outputs": [
    {
     "name": "stdout",
     "output_type": "stream",
     "text": [
      "The number of naturally missing data points is  33492923\n"
     ]
    }
   ],
   "source": [
    "natural_missing_values = azdias.isnull().sum().sum()\n",
    "print(\"The number of naturally missing data points is \", natural_missing_values)"
   ]
  },
  {
   "cell_type": "markdown",
   "metadata": {},
   "source": [
    "Now I replace all the missing values in the original dataset, and see what proportion of the missing data was natural"
   ]
  },
  {
   "cell_type": "code",
   "execution_count": 9,
   "metadata": {},
   "outputs": [],
   "source": [
    "t.replace_missing_values(azdias, feat_info)"
   ]
  },
  {
   "cell_type": "code",
   "execution_count": 10,
   "metadata": {},
   "outputs": [
    {
     "name": "stdout",
     "output_type": "stream",
     "text": [
      "There were 28841309 encoded missing values in the dataset, which represents 46.27% of the total number of missing values in the dataset\n"
     ]
    }
   ],
   "source": [
    "total_missing_values = azdias.isnull().sum().sum()\n",
    "encoded_missing_values = total_missing_values - natural_missing_values\n",
    "print(\"There were {} encoded missing values in the dataset, which represents {}% of the total number of missing values in the dataset\"\n",
    "      .format(encoded_missing_values, round(encoded_missing_values/total_missing_values *100, 2)))"
   ]
  },
  {
   "cell_type": "markdown",
   "metadata": {},
   "source": [
    "####  Assess Missing Data in Each Column\n",
    "\n",
    "Here I assess the number of missing data points in each column of the dataset."
   ]
  },
  {
   "cell_type": "code",
   "execution_count": 11,
   "metadata": {},
   "outputs": [
    {
     "data": {
      "image/png": "[encoded data removed]",
      "text/plain": [
       "<Figure size 1800x720 with 1 Axes>"
      ]
     },
     "metadata": {},
     "output_type": "display_data"
    }
   ],
   "source": [
    "t.show_dist_missing_values_column(azdias)"
   ]
  },
  {
   "cell_type": "markdown",
   "metadata": {},
   "source": [
    "I will eliminate any column which has more than 30% of missing data points."
   ]
  },
  {
   "cell_type": "code",
   "execution_count": 12,
   "metadata": {},
   "outputs": [
    {
     "name": "stdout",
     "output_type": "stream",
     "text": [
      "['ALTER_KIND4', 'D19_VERSI_ONLINE_QUOTE_12', 'TITEL_KZ', 'ALTER_KIND3', 'D19_BANKEN_LOKAL', 'ALTER_KIND2', 'D19_DIGIT_SERV', 'D19_TIERARTIKEL', 'D19_NAHRUNGSERGAENZUNG', 'D19_GARTEN', 'D19_BANKEN_ONLINE_QUOTE_12', 'D19_LEBENSMITTEL', 'D19_BANKEN_ANZ_12', 'D19_ENERGIE', 'D19_TELKO_ANZ_24', 'D19_BANKEN_REST', 'ALTER_KIND1', 'D19_BILDUNG', 'D19_RATGEBER', 'D19_FREIZEIT', 'D19_BANKEN_GROSS', 'D19_VERSI_ANZ_24', 'D19_SCHUHE', 'D19_HANDWERK', 'D19_KINDERARTIKEL', 'D19_LOTTO', 'D19_VERSAND_REST', 'D19_TELKO_MOBILE', 'D19_HAUS_DEKO', 'AGER_TYP', 'EXTSEL992', 'D19_VERSICHERUNGEN', 'D19_TECHNIK', 'D19_BUCH_CD', 'D19_VOLLSORTIMENT', 'D19_GESAMT_ANZ_12', 'KK_KUNDENTYP', 'D19_VERSAND_ANZ_24', 'D19_KONSUMTYP', 'D19_SONSTIGE', 'D19_GESAMT_ANZ_24', 'KBA05_BAUMAX', 'GEBURTSJAHR', 'AKT_DAT_KL', 'ALTER_HH', 'ALTERSKATEGORIE_FEIN']\n"
     ]
    }
   ],
   "source": [
    "n_missing_column_data = azdias.isnull().sum(axis=0).sort_values(ascending=False)\n",
    "\n",
    "prop_missing_column_data = n_missing_column_data/azdias.shape[0]\n",
    "\n",
    "columns_to_drop = list(n_missing_column_data[prop_missing_column_data >=0.3].index.values)\n",
    "\n",
    "print(columns_to_drop)"
   ]
  },
  {
   "cell_type": "code",
   "execution_count": 13,
   "metadata": {},
   "outputs": [],
   "source": [
    "azdias_reduced = azdias.drop(columns_to_drop, axis=1)"
   ]
  },
  {
   "cell_type": "markdown",
   "metadata": {},
   "source": [
    "I found that the data which represented similar features, but on different scales, tended to have similar amounts of missing data. For example  `CAMEO_DEU_2015`, `CAMEO_DEUG_2015`, and `CAMEO_INTL_2015`, which are data on wealth/lifestyle topology on a rough, detailed and international scale respectively, have almost the same amount of missing data.\n",
    "\n",
    "The columns with lots of missing data tended to be those of individual records, like people's titles, dates of birth, ageing, etc."
   ]
  },
  {
   "cell_type": "markdown",
   "metadata": {},
   "source": [
    "#### Step 1.1.3: Assess Missing Data in Each Row\n",
    "\n",
    "I now do the same for the rows in the dataset."
   ]
  },
  {
   "cell_type": "code",
   "execution_count": 14,
   "metadata": {},
   "outputs": [],
   "source": [
    "# How much data is missing in each row of the dataset?\n",
    "n_missing_row_data = azdias_reduced.isnull().sum(axis=1)"
   ]
  },
  {
   "cell_type": "code",
   "execution_count": 15,
   "metadata": {},
   "outputs": [
    {
     "data": {
      "image/png": "[encoded data removed]",
      "text/plain": [
       "<Figure size 1800x720 with 1 Axes>"
      ]
     },
     "metadata": {},
     "output_type": "display_data"
    }
   ],
   "source": [
    "# Investigate patterns in the amount of missing data in each row.\n",
    "fig = plt.figure(figsize=(25,10))\n",
    "sns.set_style(\"ticks\")\n",
    "ax = n_missing_row_data.plot.hist()\n",
    "ax.set_title(\"Histogram showing distribution of missing data in rows of dataset\")\n",
    "ax.set_xlabel(\"Attributes\")\n",
    "ax.set_ylabel(\"Number of missing data points\")\n",
    "plt.show()"
   ]
  },
  {
   "cell_type": "code",
   "execution_count": 16,
   "metadata": {},
   "outputs": [
    {
     "data": {
      "text/plain": [
       "count    891221.000000\n",
       "mean         33.345054\n",
       "std          74.936148\n",
       "min           0.000000\n",
       "25%           0.000000\n",
       "50%           2.000000\n",
       "75%           7.000000\n",
       "max         249.000000\n",
       "dtype: float64"
      ]
     },
     "execution_count": 16,
     "metadata": {},
     "output_type": "execute_result"
    }
   ],
   "source": [
    "n_missing_row_data.describe()"
   ]
  },
  {
   "cell_type": "markdown",
   "metadata": {},
   "source": [
    "Now I divide the dataset into two subsets based on the number of missing values in each row. The first dataset is comprised of rows with fewer than 25 missing values, while the second dataset contains the rest of the datapoints."
   ]
  },
  {
   "cell_type": "code",
   "execution_count": 17,
   "metadata": {},
   "outputs": [],
   "source": [
    "i=25\n",
    "rows_wo_missing_values = list(np.where(n_missing_row_data <=i)[0])\n",
    "rows_with_missing_values = list(np.where(n_missing_row_data >i)[0])\n",
    "\n",
    "azdias_few_missing_values = azdias_reduced.loc[rows_wo_missing_values, :]\n",
    "azdias_many_missing_values = azdias_reduced.loc[rows_with_missing_values, :]"
   ]
  },
  {
   "cell_type": "markdown",
   "metadata": {},
   "source": [
    "Now I compare the distribution of values for five columns where there are no or few missing values, between the two subsets."
   ]
  },
  {
   "cell_type": "code",
   "execution_count": 18,
   "metadata": {},
   "outputs": [
    {
     "data": {
      "image/png": "[encoded data removed]",
      "text/plain": [
       "<Figure size 1440x1080 with 6 Axes>"
      ]
     },
     "metadata": {},
     "output_type": "display_data"
    }
   ],
   "source": [
    "t.compare_distribution(['BALLRAUM', 'GEBAEUDETYP', 'ANZ_HH_TITEL'], \n",
    "                       azdias_few_missing_values, \n",
    "                       azdias_many_missing_values,\n",
    "                       \"Dataset with few missing values\",\n",
    "                       \"Dataset with many missing values\"\n",
    "                      )"
   ]
  },
  {
   "cell_type": "markdown",
   "metadata": {},
   "source": [
    "From the bar charts above, the distributions of values between both datasets are quite similar. As such, from now on, I will use the dataset with few missing values."
   ]
  },
  {
   "cell_type": "markdown",
   "metadata": {},
   "source": [
    "### Step 1.2: Select and Re-Encode Features"
   ]
  },
  {
   "cell_type": "code",
   "execution_count": 19,
   "metadata": {},
   "outputs": [
    {
     "name": "stdout",
     "output_type": "stream",
     "text": [
      "There are 28 categorical features\n",
      "There are 322 ordinal features\n",
      "There are 7 numeric features\n",
      "There are 7 mixed features\n",
      "There are 1 interval features\n",
      "There are 0 nan features\n"
     ]
    }
   ],
   "source": [
    "# How many features are there of each data type?\n",
    "for value in feat_info[\"type\"].unique():\n",
    "    print(\"There are {} {} features\".format(feat_info[feat_info[\"type\"]==value].shape[0],value))"
   ]
  },
  {
   "cell_type": "markdown",
   "metadata": {},
   "source": [
    "#### Step 1.2.1: Re-Encode Categorical Features"
   ]
  },
  {
   "cell_type": "code",
   "execution_count": 20,
   "metadata": {},
   "outputs": [],
   "source": [
    "cat_features, ord_features, num_features, mixed_features, interval_features = t.attributes_by_type(azdias, feat_info)"
   ]
  },
  {
   "cell_type": "code",
   "execution_count": 21,
   "metadata": {},
   "outputs": [
    {
     "name": "stdout",
     "output_type": "stream",
     "text": [
      "The following are the categorical features in the dataset: \n",
      "\n",
      "AGER_TYP\n",
      "ANREDE_KZ\n",
      "CJT_GESAMTTYP\n",
      "FINANZTYP\n",
      "GFK_URLAUBERTYP\n",
      "GREEN_AVANTGARDE\n",
      "LP_FAMILIE_FEIN\n",
      "LP_FAMILIE_GROB\n",
      "LP_STATUS_FEIN\n",
      "LP_STATUS_GROB\n",
      "NATIONALITAET_KZ\n",
      "SHOPPER_TYP\n",
      "SOHO_KZ\n",
      "TITEL_KZ\n",
      "VERS_TYP\n",
      "ZABEOTYP\n",
      "KK_KUNDENTYP\n",
      "GEBAEUDETYP\n",
      "OST_WEST_KZ\n",
      "CAMEO_DEUG_2015\n",
      "CAMEO_DEU_2015\n",
      "KBA05_MAXHERST\n",
      "CJT_TYP_3\n",
      "CJT_TYP_5\n",
      "CJT_KATALOGNUTZER\n",
      "CJT_TYP_2\n",
      "CJT_TYP_6\n",
      "CJT_TYP_1\n",
      "KBA05_AUTOQUOT\n"
     ]
    }
   ],
   "source": [
    "print(\"The following are the categorical features in the dataset: \\n\")\n",
    "for each in cat_features:\n",
    "    print(each)"
   ]
  },
  {
   "cell_type": "markdown",
   "metadata": {},
   "source": [
    "*OST_WEST_KZ* is binary, but needs to be re-encoded, since it takes on non-numeric values ('W' for West and 'O' for East)."
   ]
  },
  {
   "cell_type": "code",
   "execution_count": 22,
   "metadata": {},
   "outputs": [
    {
     "name": "stdout",
     "output_type": "stream",
     "text": [
      "The following are the mixed features in the dataset: \n",
      "\n",
      "LP_LEBENSPHASE_FEIN\n",
      "LP_LEBENSPHASE_GROB\n",
      "PRAEGENDE_JUGENDJAHRE\n",
      "WOHNLAGE\n",
      "CAMEO_INTL_2015\n",
      "KBA05_BAUMAX\n",
      "PLZ8_BAUMAX\n"
     ]
    }
   ],
   "source": [
    "print(\"The following are the mixed features in the dataset: \\n\")\n",
    "for each in mixed_features:\n",
    "    print(each)"
   ]
  },
  {
   "cell_type": "code",
   "execution_count": 23,
   "metadata": {},
   "outputs": [
    {
     "name": "stdout",
     "output_type": "stream",
     "text": [
      "The following are the interval features in the dataset: \n",
      "\n",
      "ALTER_HH\n"
     ]
    }
   ],
   "source": [
    "print(\"The following are the interval features in the dataset: \\n\")\n",
    "for each in interval_features:\n",
    "    print(each)"
   ]
  },
  {
   "cell_type": "markdown",
   "metadata": {},
   "source": [
    "From looking at the description of the remaining categorical features in the dataset, I came to the following conclusions:\n",
    "\n",
    "* `CACAMEO_DEUG_2015` and `CAMEO_DEU_2015` both describe the wealth and life stage typology, albeit at different scales. I will keep `CAMEO_DEUG_2015`, that which describes the typology at the rough scale.\n",
    "* The same is true of `LP_FAMILIE_FEIN` and `LP_FAMILIE_GROB` and `LP_STATUS_FEIN` and `LP_STATUS_GROB`.\n",
    "\n",
    "I also drop `GEBAEUDETYP`, which is a building-level feature, which simply describes the types of buildings.\n",
    "\n",
    "There are a handful of features that are marked as \"mixed\" in the feature summary that require special treatment in order to be included in the analysis. \n",
    "* `PRAEGENDE_JUGENDJAHRE` combines information on three dimensions: generation by decade, movement (mainstream vs. avantgarde), and nation (east vs. west). I create two new variables to capture the other two dimensions: an interval-type variable for decade, and a binary variable for movement.\n",
    "* `CAMEO_INTL_2015` combines information on two axes: wealth and life stage. I break up the two-digit codes by their 'tens'-place and 'ones'-place digits into two new ordinal variables (which, for the purposes of this project, is equivalent to just treating them as their raw numeric values).\n",
    "\n",
    "I created two new columns: `PJ_DECADE` to capture the decade dimension, and `PJ_movement` to capture the movement. For `PJ_decade`, I created six new categories, one for each decade represented in the data. For `PJ_movement`, I created a binary variable. 1 represents the Mainstream movement, while 2 represents the Avantgarde movement. I kept the `PLZ8_BAUMAX` feature, because I found it easy, and reasonable to separate the building types in the region into family and business type buildings. So I grouped all the family homes into one category, irrespective of the size, and left the business buildings in a category of its own.\n",
    "\n",
    "I will drop the `LP_LEBENSPHASE_FEIN` and `LP_LEBENSPHASE_GROB` features, because they were too cumbersome to separate appropriately, and the `WOHNLAGE` feature because I didn't find any reasonable way to aggregate the subdivisions between features.\n",
    "\n",
    "In the following cell, I clean the DataFrame using the following steps:\n",
    "\n",
    "* I drop the `LNR` and `D19_LETZTER_KAUF_BRANCHE` columns, because `LNR` is basically some form of an index, while `D19_LETZTER_KAUF_BRANCHE` has no explanation in the dictionary, and is some kind of categorical variable which I don't understand\n",
    "* I drop the columns identified above, which have more than 30% of missing values\n",
    "* I drop the rows with more than 25 missing values\n",
    "* I re-encode `OST_WEST_KZ`, for the reasons explained above\n",
    "* I replace all missing values with the mode for categorical variables, and the median of each column for ordinal variables. I prefer this to filling in all missing values with 0 because 0 sometimes indicates a missing or unknown value. \n",
    "* I one-hot encode the categorical variables identified in the dataset, and then engineer the mixed-type features identified above.\n",
    "* The variable `EINGEFUEGT` is in datetime format, I convert it into a numeric format, keeping only the year\n",
    "* I find the numerical features that are skewed, and perform a log transformation, and then use a MinMax Scaler to re-scale them\n"
   ]
  },
  {
   "cell_type": "code",
   "execution_count": 24,
   "metadata": {
    "scrolled": true
   },
   "outputs": [
    {
     "name": "stdout",
     "output_type": "stream",
     "text": [
      "Drop LNR and D19_LETZTER_KAUF_BRANCHE columns\n",
      "Drop columns with more than 20% missing values\n",
      "Drop rows with more than 25 missing values\n",
      "Re-encode 'OST_WEST_KZ'\n",
      "Imputing missing values for features\n",
      "One-hot encoding of categorical variables\n",
      "Re-encoding categorical features done.\n",
      "Engineering mixed-type features\n",
      "Engineering mixed-type features done\n",
      "Change EINGEFUEGT_AM to year\n",
      "Log transforming skewed numerical features...\n",
      "Log transforming skewed numerical features done\n",
      "Scaling numerical features..\n",
      "Scaling numerical features done\n"
     ]
    }
   ],
   "source": [
    "azdias = t.clean_data(azdias, feat_info)"
   ]
  },
  {
   "cell_type": "code",
   "execution_count": 25,
   "metadata": {},
   "outputs": [
    {
     "data": {
      "text/plain": [
       "(891221, 381)"
      ]
     },
     "execution_count": 25,
     "metadata": {},
     "output_type": "execute_result"
    }
   ],
   "source": [
    "azdias.shape"
   ]
  },
  {
   "cell_type": "markdown",
   "metadata": {},
   "source": [
    "### Dimensionality Reduction"
   ]
  },
  {
   "cell_type": "code",
   "execution_count": 26,
   "metadata": {},
   "outputs": [],
   "source": [
    "# Apply PCA to the data.\n",
    "pca = PCA()\n",
    "pca.fit(azdias);"
   ]
  },
  {
   "cell_type": "code",
   "execution_count": 27,
   "metadata": {},
   "outputs": [
    {
     "data": {
      "image/png": "[encoded data removed]",
      "text/plain": [
       "<Figure size 720x360 with 1 Axes>"
      ]
     },
     "metadata": {},
     "output_type": "display_data"
    }
   ],
   "source": [
    "t.pca_variance_explained(pca)"
   ]
  },
  {
   "cell_type": "code",
   "execution_count": 28,
   "metadata": {},
   "outputs": [
    {
     "data": {
      "image/png": "[encoded data removed]",
      "text/plain": [
       "<Figure size 1080x720 with 1 Axes>"
      ]
     },
     "metadata": {},
     "output_type": "display_data"
    }
   ],
   "source": [
    "y1 = t.scree_plot(pca)"
   ]
  },
  {
   "cell_type": "code",
   "execution_count": 29,
   "metadata": {},
   "outputs": [
    {
     "name": "stdout",
     "output_type": "stream",
     "text": [
      "We retain 89 components for analysis because they explain 92% of the variance in the data.\n"
     ]
    }
   ],
   "source": [
    "threshold = 0.92\n",
    "number_components = int(np.argwhere(y1>=threshold)[1])\n",
    "print(\"We retain {} components for analysis because they explain {}% of the variance in the data.\" \n",
    "      .format(number_components, int(threshold*100)))"
   ]
  },
  {
   "cell_type": "code",
   "execution_count": 30,
   "metadata": {},
   "outputs": [
    {
     "data": {
      "text/html": [
       "<div>\n",
       "<style scoped>\n",
       "    .dataframe tbody tr th:only-of-type {\n",
       "        vertical-align: middle;\n",
       "    }\n",
       "\n",
       "    .dataframe tbody tr th {\n",
       "        vertical-align: top;\n",
       "    }\n",
       "\n",
       "    .dataframe thead th {\n",
       "        text-align: right;\n",
       "    }\n",
       "</style>\n",
       "<table border=\"1\" class=\"dataframe\">\n",
       "  <thead>\n",
       "    <tr style=\"text-align: right;\">\n",
       "      <th></th>\n",
       "      <th>0</th>\n",
       "      <th>1</th>\n",
       "      <th>2</th>\n",
       "      <th>3</th>\n",
       "      <th>4</th>\n",
       "      <th>5</th>\n",
       "      <th>6</th>\n",
       "      <th>7</th>\n",
       "      <th>8</th>\n",
       "      <th>9</th>\n",
       "      <th>...</th>\n",
       "      <th>79</th>\n",
       "      <th>80</th>\n",
       "      <th>81</th>\n",
       "      <th>82</th>\n",
       "      <th>83</th>\n",
       "      <th>84</th>\n",
       "      <th>85</th>\n",
       "      <th>86</th>\n",
       "      <th>87</th>\n",
       "      <th>88</th>\n",
       "    </tr>\n",
       "  </thead>\n",
       "  <tbody>\n",
       "    <tr>\n",
       "      <th>0</th>\n",
       "      <td>-0.509995</td>\n",
       "      <td>-10.716734</td>\n",
       "      <td>-3.546897</td>\n",
       "      <td>11.327849</td>\n",
       "      <td>-4.172764</td>\n",
       "      <td>3.523194</td>\n",
       "      <td>5.663546</td>\n",
       "      <td>-0.675599</td>\n",
       "      <td>-2.888190</td>\n",
       "      <td>1.448159</td>\n",
       "      <td>...</td>\n",
       "      <td>0.243908</td>\n",
       "      <td>-0.749319</td>\n",
       "      <td>-0.761108</td>\n",
       "      <td>-0.399327</td>\n",
       "      <td>0.425608</td>\n",
       "      <td>-1.170153</td>\n",
       "      <td>-0.375805</td>\n",
       "      <td>0.954708</td>\n",
       "      <td>-0.492145</td>\n",
       "      <td>0.050573</td>\n",
       "    </tr>\n",
       "    <tr>\n",
       "      <th>1</th>\n",
       "      <td>9.000664</td>\n",
       "      <td>-6.640804</td>\n",
       "      <td>2.994374</td>\n",
       "      <td>2.811965</td>\n",
       "      <td>-3.736245</td>\n",
       "      <td>-7.677771</td>\n",
       "      <td>7.613512</td>\n",
       "      <td>6.274449</td>\n",
       "      <td>-1.457306</td>\n",
       "      <td>-2.826374</td>\n",
       "      <td>...</td>\n",
       "      <td>0.336064</td>\n",
       "      <td>2.962840</td>\n",
       "      <td>0.053509</td>\n",
       "      <td>0.100796</td>\n",
       "      <td>1.552590</td>\n",
       "      <td>0.290324</td>\n",
       "      <td>-0.235838</td>\n",
       "      <td>-0.539616</td>\n",
       "      <td>0.107771</td>\n",
       "      <td>-2.287456</td>\n",
       "    </tr>\n",
       "    <tr>\n",
       "      <th>2</th>\n",
       "      <td>-8.743278</td>\n",
       "      <td>29.132958</td>\n",
       "      <td>-8.423643</td>\n",
       "      <td>14.702505</td>\n",
       "      <td>-2.579482</td>\n",
       "      <td>-11.621802</td>\n",
       "      <td>3.983968</td>\n",
       "      <td>5.967174</td>\n",
       "      <td>-5.501312</td>\n",
       "      <td>0.031553</td>\n",
       "      <td>...</td>\n",
       "      <td>1.176549</td>\n",
       "      <td>-0.819056</td>\n",
       "      <td>0.834692</td>\n",
       "      <td>-0.802054</td>\n",
       "      <td>-1.659828</td>\n",
       "      <td>0.896762</td>\n",
       "      <td>-0.039951</td>\n",
       "      <td>0.774962</td>\n",
       "      <td>-0.878975</td>\n",
       "      <td>-0.412451</td>\n",
       "    </tr>\n",
       "    <tr>\n",
       "      <th>3</th>\n",
       "      <td>-18.278069</td>\n",
       "      <td>12.532355</td>\n",
       "      <td>7.846892</td>\n",
       "      <td>14.805884</td>\n",
       "      <td>2.499025</td>\n",
       "      <td>-3.501783</td>\n",
       "      <td>-1.663410</td>\n",
       "      <td>4.212207</td>\n",
       "      <td>-2.877110</td>\n",
       "      <td>2.600864</td>\n",
       "      <td>...</td>\n",
       "      <td>0.108324</td>\n",
       "      <td>0.016125</td>\n",
       "      <td>0.540309</td>\n",
       "      <td>0.048629</td>\n",
       "      <td>-0.036665</td>\n",
       "      <td>1.244359</td>\n",
       "      <td>-1.547672</td>\n",
       "      <td>0.741077</td>\n",
       "      <td>-0.392547</td>\n",
       "      <td>-0.784591</td>\n",
       "    </tr>\n",
       "    <tr>\n",
       "      <th>4</th>\n",
       "      <td>-3.300591</td>\n",
       "      <td>-1.125818</td>\n",
       "      <td>-2.403280</td>\n",
       "      <td>-19.231740</td>\n",
       "      <td>-7.580419</td>\n",
       "      <td>9.093023</td>\n",
       "      <td>-0.216251</td>\n",
       "      <td>1.547694</td>\n",
       "      <td>4.108965</td>\n",
       "      <td>-2.882805</td>\n",
       "      <td>...</td>\n",
       "      <td>0.056910</td>\n",
       "      <td>-0.147084</td>\n",
       "      <td>1.114085</td>\n",
       "      <td>-0.386516</td>\n",
       "      <td>-1.488687</td>\n",
       "      <td>0.900557</td>\n",
       "      <td>0.052154</td>\n",
       "      <td>3.138181</td>\n",
       "      <td>0.675388</td>\n",
       "      <td>1.038087</td>\n",
       "    </tr>\n",
       "  </tbody>\n",
       "</table>\n",
       "<p>5 rows × 89 columns</p>\n",
       "</div>"
      ],
      "text/plain": [
       "          0          1         2          3         4          5         6   \\\n",
       "0  -0.509995 -10.716734 -3.546897  11.327849 -4.172764   3.523194  5.663546   \n",
       "1   9.000664  -6.640804  2.994374   2.811965 -3.736245  -7.677771  7.613512   \n",
       "2  -8.743278  29.132958 -8.423643  14.702505 -2.579482 -11.621802  3.983968   \n",
       "3 -18.278069  12.532355  7.846892  14.805884  2.499025  -3.501783 -1.663410   \n",
       "4  -3.300591  -1.125818 -2.403280 -19.231740 -7.580419   9.093023 -0.216251   \n",
       "\n",
       "         7         8         9     ...           79        80        81  \\\n",
       "0 -0.675599 -2.888190  1.448159    ...     0.243908 -0.749319 -0.761108   \n",
       "1  6.274449 -1.457306 -2.826374    ...     0.336064  2.962840  0.053509   \n",
       "2  5.967174 -5.501312  0.031553    ...     1.176549 -0.819056  0.834692   \n",
       "3  4.212207 -2.877110  2.600864    ...     0.108324  0.016125  0.540309   \n",
       "4  1.547694  4.108965 -2.882805    ...     0.056910 -0.147084  1.114085   \n",
       "\n",
       "         82        83        84        85        86        87        88  \n",
       "0 -0.399327  0.425608 -1.170153 -0.375805  0.954708 -0.492145  0.050573  \n",
       "1  0.100796  1.552590  0.290324 -0.235838 -0.539616  0.107771 -2.287456  \n",
       "2 -0.802054 -1.659828  0.896762 -0.039951  0.774962 -0.878975 -0.412451  \n",
       "3  0.048629 -0.036665  1.244359 -1.547672  0.741077 -0.392547 -0.784591  \n",
       "4 -0.386516 -1.488687  0.900557  0.052154  3.138181  0.675388  1.038087  \n",
       "\n",
       "[5 rows x 89 columns]"
      ]
     },
     "execution_count": 30,
     "metadata": {},
     "output_type": "execute_result"
    }
   ],
   "source": [
    "# Re-apply PCA to the data while selecting for number of components to retain.\n",
    "pca = PCA(n_components=number_components)\n",
    "azdias_PCA = pd.DataFrame(pca.fit_transform(azdias))\n",
    "azdias_PCA.head()"
   ]
  },
  {
   "cell_type": "markdown",
   "metadata": {},
   "source": [
    "I decided to retain 89 components for the rest of the analysis, because they explain 92% of the variance in the data. I found this particularly interesting, that about 25% of the variables in the dataset explained almost all of the variance in the data."
   ]
  },
  {
   "cell_type": "code",
   "execution_count": 31,
   "metadata": {},
   "outputs": [
    {
     "name": "stdout",
     "output_type": "stream",
     "text": [
      "EXTSEL992                     -0.855372\n",
      "VK_ZG11                       -0.122053\n",
      "VK_DISTANZ                    -0.119640\n",
      "D19_VERSAND_ONLINE_QUOTE_12    0.078282\n",
      "D19_GESAMT_ONLINE_QUOTE_12     0.082892\n",
      "ANZ_STATISTISCHE_HAUSHALTE     0.395828\n",
      "Name: 1, dtype: float64\n"
     ]
    }
   ],
   "source": [
    "# Map weights for the second principal component to corresponding feature names\n",
    "# and then print the linked values, sorted by weight.\n",
    "print(t.pca_results(pca, 1, columns=list(azdias.columns)))"
   ]
  },
  {
   "cell_type": "markdown",
   "metadata": {},
   "source": [
    "## Step 3: Clustering\n",
    "\n",
    "### Step 3.1: Apply Clustering to General Population"
   ]
  },
  {
   "cell_type": "code",
   "execution_count": 32,
   "metadata": {},
   "outputs": [
    {
     "data": {
      "image/png": "[encoded data removed]",
      "text/plain": [
       "<Figure size 1080x720 with 1 Axes>"
      ]
     },
     "metadata": {},
     "output_type": "display_data"
    }
   ],
   "source": [
    "t.scree_plot_clusters(azdias_PCA, max_centers=30)"
   ]
  },
  {
   "cell_type": "markdown",
   "metadata": {},
   "source": [
    "There appears to be an elbow at K=15 clusters, so I will segment the population into 15 clusters."
   ]
  },
  {
   "cell_type": "code",
   "execution_count": 33,
   "metadata": {},
   "outputs": [],
   "source": [
    "n_clusters = 15\n",
    "kmeans = KMeans(n_clusters = n_clusters, random_state=SEED)\n",
    "azdias_clusters = kmeans.fit_predict(azdias_PCA);"
   ]
  },
  {
   "cell_type": "markdown",
   "metadata": {},
   "source": [
    "### Analysing Customer Data\n",
    "\n",
    "It's now time to see how the customer data maps on to the clusters from the general population. I will use the fits from the general population to clean, transform, and cluster the customer dataand then interpret how the general population fits apply to the customer data."
   ]
  },
  {
   "cell_type": "code",
   "execution_count": 34,
   "metadata": {},
   "outputs": [
    {
     "name": "stdout",
     "output_type": "stream",
     "text": [
      "Drop LNR and D19_LETZTER_KAUF_BRANCHE columns\n",
      "Drop columns with more than 20% missing values\n",
      "Drop rows with more than 25 missing values\n",
      "Re-encode 'OST_WEST_KZ'\n",
      "Imputing missing values for features\n",
      "One-hot encoding of categorical variables\n",
      "Re-encoding categorical features done.\n",
      "Engineering mixed-type features\n",
      "Engineering mixed-type features done\n",
      "Change EINGEFUEGT_AM to year\n",
      "Log transforming skewed numerical features...\n",
      "Log transforming skewed numerical features done\n",
      "Scaling numerical features..\n",
      "Scaling numerical features done\n"
     ]
    }
   ],
   "source": [
    "# Load in the customer demographics data.\n",
    "customers = pd.read_csv(\"Udacity_CUSTOMERS_052018.csv\", sep=\";\", dtype = {18: 'str', 19: 'str'})\n",
    "\n",
    "#Clean the customer demographics data.\n",
    "clean_customers = t.clean_data(customers, feat_info)"
   ]
  },
  {
   "cell_type": "code",
   "execution_count": 35,
   "metadata": {},
   "outputs": [],
   "source": [
    "customers_PCA = pd.DataFrame(pca.transform(clean_customers), columns = list(azdias_PCA));\n",
    "customer_clusters = kmeans.predict(customers_PCA);"
   ]
  },
  {
   "cell_type": "markdown",
   "metadata": {},
   "source": [
    "### Step 3.3: Compare Customer Data to Demographics Data\n",
    "\n",
    "Here, I compare the two cluster distributions to see where the strongest customer base for the company is."
   ]
  },
  {
   "cell_type": "code",
   "execution_count": 36,
   "metadata": {},
   "outputs": [
    {
     "data": {
      "image/png": "[encoded data removed]",
      "text/plain": [
       "<Figure size 1080x720 with 1 Axes>"
      ]
     },
     "metadata": {},
     "output_type": "display_data"
    }
   ],
   "source": [
    "n_general = []\n",
    "n_customer = []\n",
    "for i in range(n_clusters):\n",
    "    n_general.append(np.argwhere(azdias_clusters==i).shape[0]/azdias_clusters.shape[0])\n",
    "    n_customer.append(np.argwhere(customer_clusters==i).shape[0]/customer_clusters.shape[0])\n",
    "\n",
    "# A dataframe with the proportion of data in each cluster for the customer data \n",
    "# and the general population\n",
    "label_counts = pd.DataFrame({'General Dataset': n_general})\n",
    "label_counts['Customer Dataset'] = pd.Series(n_customer)\n",
    "label_counts['Clusters'] = pd.Series(list(range(n_clusters)))\n",
    "\n",
    "# Plotting bar chart to visualize these proportions\n",
    "customer_props = label_counts['Customer Dataset']\n",
    "general_props = label_counts['General Dataset']\n",
    "\n",
    "ind = np.arange(n_clusters) \n",
    "width = 0.35 \n",
    "\n",
    "plt.figure(figsize=(15,10))\n",
    "plt.bar(ind, general_props, width, color='green', label='General')\n",
    "plt.bar(ind + width, customer_props, width, color='red',\n",
    "    label='Customer')\n",
    "\n",
    "plt.ylabel('Proportion')\n",
    "plt.xlabel('Cluster')\n",
    "plt.title('Proportion of data points in each cluster for the General and Customer datasets')\n",
    "\n",
    "plt.xticks(ind + width / 2, range(n_clusters))\n",
    "plt.legend(loc='best')\n",
    "sns.despine()\n",
    "plt.show()"
   ]
  },
  {
   "cell_type": "code",
   "execution_count": 37,
   "metadata": {},
   "outputs": [],
   "source": [
    "customers_PCA['labels'] = customer_clusters"
   ]
  },
  {
   "cell_type": "code",
   "execution_count": 42,
   "metadata": {},
   "outputs": [],
   "source": [
    "over_represented_cluster = 6 # which cluster has an over-representation of customers?\n",
    "under_represented_cluster = 7 # which cluster has an under-representation of customers?\n",
    "\n",
    "#Get the rows corresponding to the sets identified above\n",
    "over_rprsntd_ind = customers_PCA[customers_PCA.labels==over_represented_cluster].index\n",
    "under_rprsntd_ind = customers_PCA[customers_PCA.labels==under_represented_cluster].index\n",
    "\n",
    "#Now go to the customer dataset and find the corresponding subsets\n",
    "over_rprsntd = clean_customers.loc[over_rprsntd_ind, :]\n",
    "under_rprsntd = clean_customers.loc[under_rprsntd_ind, :]"
   ]
  },
  {
   "cell_type": "code",
   "execution_count": 43,
   "metadata": {},
   "outputs": [
    {
     "data": {
      "image/png": "[encoded data removed]",
      "text/plain": [
       "<Figure size 1440x1080 with 8 Axes>"
      ]
     },
     "metadata": {},
     "output_type": "display_data"
    }
   ],
   "source": [
    "t.compare_distribution(['SEMIO_PFLICHT',\n",
    "                        'FINANZ_MINIMALIST', \n",
    "                        'PJ_movement',\n",
    "                        'SEMIO_SOZ'], \n",
    "                        over_rprsntd, \n",
    "                       under_rprsntd,\n",
    "                      \"target cluster\", \n",
    "                      \"general cluster\")"
   ]
  },
  {
   "cell_type": "markdown",
   "metadata": {},
   "source": [
    "### Compare Customer Data to Demographics Data\n",
    "\n",
    "There are more than 300 features in the dataset. As such it would be virtually impossible to compare both populations exhaustively. However, I selected four features and compared both populations, just for illustrative purposes. The four features I selected are:\n",
    "\n",
    "* `SEMIO-PFLICHT`: How dutiful the person is, with high values indicating low affinity for duty\n",
    "* `FINANZ-MINIMALIST`: How low their financial interest is, with high values indicating low affinity\n",
    "* `PJ-Movement`: Predominant movement of a person's youth\n",
    "* `SEMIO-SOZ`: How socially minded the person is, with high values indicating low affinity\n",
    "\n",
    "From the charts above, we can see that the target population is less dutiful, has a lower financial interest, and has a higher social affinity than the general population. The dominating movement of their youth is is Avantgarde, compared to the Mainstream movement for the general population."
   ]
  },
  {
   "cell_type": "markdown",
   "metadata": {},
   "source": [
    "## Part 2: Supervised Learning Model\n",
    "\n",
    "Now that you've found which parts of the population are more likely to be customers of the mail-order company, it's time to build a prediction model. Each of the rows in the \"MAILOUT\" data files represents an individual that was targeted for a mailout campaign. Ideally, we should be able to use the demographic information from each individual to decide whether or not it will be worth it to include that person in the campaign.\n",
    "\n",
    "The \"MAILOUT\" data has been split into two approximately equal parts, each with almost 43 000 data rows. In this part, you can verify your model with the \"TRAIN\" partition, which includes a column, \"RESPONSE\", that states whether or not a person became a customer of the company following the campaign. In the next part, you'll need to create predictions on the \"TEST\" partition, where the \"RESPONSE\" column has been withheld."
   ]
  },
  {
   "cell_type": "code",
   "execution_count": 5,
   "metadata": {},
   "outputs": [
    {
     "name": "stdout",
     "output_type": "stream",
     "text": [
      "Drop LNR and D19_LETZTER_KAUF_BRANCHE columns\n",
      "Drop columns with more than 20% missing values\n",
      "Drop rows with more than 25 missing values\n",
      "Re-encode 'OST_WEST_KZ'\n",
      "Imputing missing values for features\n",
      "One-hot encoding of categorical variables\n",
      "Re-encoding categorical features done.\n",
      "Engineering mixed-type features\n",
      "Engineering mixed-type features done\n",
      "Change EINGEFUEGT_AM to year\n",
      "Log transforming skewed numerical features...\n",
      "Log transforming skewed numerical features done\n",
      "Scaling numerical features..\n",
      "Scaling numerical features done\n"
     ]
    }
   ],
   "source": [
    "mailout_train = pd.read_csv('Udacity_MAILOUT_052018_TRAIN.csv', sep=';', dtype = {18:'str', 19:'str'})\n",
    "\n",
    "response = mailout_train[\"RESPONSE\"]\n",
    "\n",
    "mailout_train = t.clean_data(mailout_train, feat_info)"
   ]
  },
  {
   "cell_type": "code",
   "execution_count": 6,
   "metadata": {},
   "outputs": [],
   "source": [
    "mailout_train.drop('RESPONSE', axis=1, inplace=True)"
   ]
  },
  {
   "cell_type": "code",
   "execution_count": 7,
   "metadata": {},
   "outputs": [],
   "source": [
    "X_train, X_test, y_train, y_test = train_test_split(mailout_train,\n",
    "                                                   response,\n",
    "                                                   test_size=0.2,\n",
    "                                                   random_state=0)"
   ]
  },
  {
   "cell_type": "markdown",
   "metadata": {},
   "source": [
    "I'm going to use a stacked model for this part of the project. To do this, I will use the [mlens library](http://ml-ensemble.com/). My strategy would be to optimise a series of base learners, and then use a super learner to get the final probabilities.\n",
    "\n",
    "To tune the hyperparameters for each model, I use the `hyperopt` library, which I learnt to use using the tutorials [here](https://districtdatalabs.silvrback.com/parameter-tuning-with-hyperopt) and [here](http://steventhornton.ca/hyperparameter-tuning-with-hyperopt-in-python/)"
   ]
  },
  {
   "cell_type": "markdown",
   "metadata": {},
   "source": [
    "### Optimising Base Learners"
   ]
  },
  {
   "cell_type": "markdown",
   "metadata": {},
   "source": [
    "#### Objective function\n",
    "\n",
    "We have to define an objective function to minimize. Because we are interested in maximizing the ROC-AUC score, we will minimize 1-AUC."
   ]
  },
  {
   "cell_type": "code",
   "execution_count": 18,
   "metadata": {},
   "outputs": [],
   "source": [
    "def objective(params):\n",
    "    pipe.set_params(**params)\n",
    "    shuffle = StratifiedKFold(n_splits=5, shuffle=True)\n",
    "    score = cross_val_score(pipe, X_train, y_train, cv=shuffle, scoring='roc_auc', n_jobs=1)\n",
    "    return 1-score.mean()"
   ]
  },
  {
   "cell_type": "markdown",
   "metadata": {},
   "source": [
    "#### Logistic Regression"
   ]
  },
  {
   "cell_type": "code",
   "execution_count": 22,
   "metadata": {},
   "outputs": [
    {
     "name": "stdout",
     "output_type": "stream",
     "text": [
      "0.7132777032721078\n"
     ]
    }
   ],
   "source": [
    "lr = LogisticRegression(random_state=SEED, max_iter=4000, solver='lbfgs')\n",
    "\n",
    "# Parameter search space\n",
    "space = {}\n",
    "\n",
    "pipe = Pipeline([('clf', lr)])\n",
    "            \n",
    "# Integer between 1 and 50\n",
    "space['clf__C'] = hp.choice('clf__C', [0.001, 0.01, 0.1, 1, 10, 100])\n",
    "\n",
    "\n",
    "# The Trials object will store details of each iteration\n",
    "trials = Trials()\n",
    "\n",
    "# Run the hyperparameter search using the tpe algorithm\n",
    "best_lr = fmin(objective,\n",
    "            space,\n",
    "            algo=tpe.suggest,\n",
    "            max_evals=10,\n",
    "            trials=trials)\n",
    "\n",
    "best_params_lr = space_eval(space, best_lr)\n",
    "\n",
    "# Fit the model with the optimal hyperparamters\n",
    "pipe.set_params(**best_params_lr)\n",
    "pipe.fit(X_train, y_train);\n",
    "\n",
    "# Score with the test data\n",
    "y_score = pipe.predict_proba(X_test)\n",
    "auc_score = roc_auc_score(y_test, y_score[:,1])\n",
    "print(auc_score)"
   ]
  },
  {
   "cell_type": "code",
   "execution_count": 23,
   "metadata": {},
   "outputs": [
    {
     "data": {
      "text/plain": [
       "{'clf__C': 0.01}"
      ]
     },
     "execution_count": 23,
     "metadata": {},
     "output_type": "execute_result"
    }
   ],
   "source": [
    "best_params_lr"
   ]
  },
  {
   "cell_type": "markdown",
   "metadata": {},
   "source": [
    "#### Random Forest"
   ]
  },
  {
   "cell_type": "code",
   "execution_count": 45,
   "metadata": {},
   "outputs": [
    {
     "name": "stdout",
     "output_type": "stream",
     "text": [
      "0.725022540482253\n",
      "{'clf__bootstrap': False, 'clf__class_weight': {0: 79}, 'clf__criterion': 'entropy', 'clf__max_depth': 16, 'clf__max_features': 10, 'clf__min_samples_leaf': 17, 'clf__min_samples_split': 9, 'clf__n_estimators': 559}\n"
     ]
    }
   ],
   "source": [
    "rf = RandomForestClassifier(random_state=SEED)\n",
    "\n",
    "# Parameter search space\n",
    "space = {}\n",
    "\n",
    "pipe = Pipeline([('clf', rf)])\n",
    "            \n",
    "# Integer between 1 and 50\n",
    "space['clf__bootstrap'] = hp.choice('clf__bootstrap', [True, False])\n",
    "space['clf__max_depth'] = hp.choice('clf__max_depth', range(1,20))\n",
    "space['clf__max_features'] = hp.choice('clf__max_features', range(1,11))\n",
    "space['clf__criterion'] = hp.choice('clf__criterion', [\"gini\", \"entropy\"])\n",
    "space['clf__n_estimators'] = hp.choice('clf__n_estimators', range(100,2000))\n",
    "space['clf__class_weight'] = hp.choice('clf__class_weight', [{0:75},{0:76},{0:77},{0:78},{0:79},\n",
    "                                                             {0:80},{0:81},{0:82},{0:83},{0:84}, {0:85}])\n",
    "space['clf__min_samples_leaf'] = hp.choice('clf__min_samples_leaf', range(2,20))\n",
    "space['clf__min_samples_split'] = hp.choice('clf__min_samples_split', range(2,10))\n",
    "\n",
    "\n",
    "# The Trials object will store details of each iteration\n",
    "trials = Trials()\n",
    "\n",
    "# Run the hyperparameter search using the tpe algorithm\n",
    "best_rf = fmin(objective,\n",
    "            space,\n",
    "            algo=tpe.suggest,\n",
    "            max_evals=10,\n",
    "            trials=trials)\n",
    "\n",
    "best_params = space_eval(space, best_rf)\n",
    "\n",
    "# Fit the model with the optimal hyperparamters\n",
    "pipe.set_params(**best_params)\n",
    "pipe.fit(X_train, y_train);\n",
    "\n",
    "# Score with the test data\n",
    "y_score = pipe.predict_proba(X_test)\n",
    "auc_score = roc_auc_score(y_test, y_score[:,1])\n",
    "print(auc_score)\n",
    "print(best_params)"
   ]
  },
  {
   "cell_type": "markdown",
   "metadata": {},
   "source": [
    "#### Gradient Boosting Classifier"
   ]
  },
  {
   "cell_type": "code",
   "execution_count": 19,
   "metadata": {},
   "outputs": [
    {
     "name": "stdout",
     "output_type": "stream",
     "text": [
      "0.8076951394111838\n",
      "GradientBoostingClassifier(criterion='friedman_mse', init=None,\n",
      "              learning_rate=0.01, loss='deviance', max_depth=3,\n",
      "              max_features=None, max_leaf_nodes=None,\n",
      "              min_impurity_decrease=0.0, min_impurity_split=None,\n",
      "              min_samples_leaf=1, min_samples_split=2,\n",
      "              min_weight_fraction_leaf=0.0, n_estimators=100,\n",
      "              n_iter_no_change=None, presort='auto', random_state=42,\n",
      "              subsample=1.0, tol=0.0001, validation_fraction=0.1,\n",
      "              verbose=0, warm_start=False)\n"
     ]
    }
   ],
   "source": [
    "gb = GradientBoostingClassifier(random_state=SEED)\n",
    "\n",
    "params = {'n_estimators': [20, 50, 100, 150], \n",
    "         'learning_rate': [0.01, 0.1, 1]}\n",
    "\n",
    "grid_obj = RandomizedSearchCV(gb, params, scoring='roc_auc', cv=5)\n",
    "\n",
    "grid_fit = grid_obj.fit(X_train, y_train)\n",
    "\n",
    "# Get the estimator\n",
    "best_gb = grid_fit.best_estimator_\n",
    "\n",
    "# Make predictions using the unoptimized  model\n",
    "best_predictions = best_gb.predict_proba(X_test)[:,1]\n",
    "\n",
    "auc_score = roc_auc_score(y_test, best_predictions)\n",
    "print(auc_score)\n",
    "print(best_gb)\n"
   ]
  },
  {
   "cell_type": "markdown",
   "metadata": {},
   "source": [
    "#### LGBM Classifier"
   ]
  },
  {
   "cell_type": "code",
   "execution_count": 42,
   "metadata": {},
   "outputs": [
    {
     "name": "stdout",
     "output_type": "stream",
     "text": [
      "0.8123295305236641\n",
      "{'clf__learning_rate': 0.005, 'clf__max_depth': 19, 'clf__min_data_in_leaf': 3, 'clf__n_estimators': 425, 'clf__num_leaves': 11}\n"
     ]
    }
   ],
   "source": [
    "reg = lgb.LGBMClassifier(random_state=SEED)\n",
    "\n",
    "# Parameter search space\n",
    "space = {}\n",
    "\n",
    "pipe = Pipeline([('clf', reg)])\n",
    "\n",
    "            \n",
    "# Integer between 1 and 50\n",
    "space['clf__n_estimators'] = hp.choice('clf__n_estimators', range(100,1000))\n",
    "space['clf__learning_rate'] = hp.choice('clf__learning_rate', [0.001, 0.005, 0.01, 0.1, 1])\n",
    "space['clf__max_depth'] = hp.choice('clf__max_depth', range(2,30))\n",
    "space['clf__num_leaves'] = hp.choice('clf__num_leaves', range(2,50))\n",
    "space['clf__min_data_in_leaf'] = hp.choice('clf__min_data_in_leaf', range(2,10))\n",
    "\n",
    "\n",
    "# The Trials object will store details of each iteration\n",
    "trials = Trials()\n",
    "\n",
    "# Run the hyperparameter search using the tpe algorithm\n",
    "best_reg = fmin(objective,\n",
    "            space,\n",
    "            algo=tpe.suggest,\n",
    "            max_evals=10,\n",
    "            trials=trials)\n",
    "\n",
    "best_params = space_eval(space, best_reg)\n",
    "\n",
    "# Fit the model with the optimal hyperparamters\n",
    "pipe.set_params(**best_params)\n",
    "pipe.fit(X_train, y_train);\n",
    "\n",
    "# Score with the test data\n",
    "y_score = pipe.predict_proba(X_test)\n",
    "auc_score = roc_auc_score(y_test, y_score[:,1])\n",
    "print(auc_score)\n",
    "print(best_params)"
   ]
  },
  {
   "cell_type": "markdown",
   "metadata": {},
   "source": [
    "#### Multi-Layer Perceptron"
   ]
  },
  {
   "cell_type": "code",
   "execution_count": 26,
   "metadata": {},
   "outputs": [
    {
     "name": "stdout",
     "output_type": "stream",
     "text": [
      "0.6964504970232971\n",
      "{'clf__activation': 'relu', 'clf__hidden_layer_sizes': (70, 30, 10), 'clf__learning_rate': 'adaptive', 'clf__solver': 'adam'}\n"
     ]
    }
   ],
   "source": [
    "nn = MLPClassifier(random_state=SEED)\n",
    "\n",
    "# Parameter search space\n",
    "space = {}\n",
    "\n",
    "pipe = Pipeline([('clf', nn)])\n",
    "            \n",
    "# Integer between 1 and 50\n",
    "space['clf__hidden_layer_sizes'] = hp.choice('clf__hidden_layer_sizes', [(50,50,50), (80, 20), (70,30,10)] )\n",
    "space['clf__activation'] = hp.choice('clf__activation', ['tanh', 'relu'])\n",
    "space['clf__solver'] = hp.choice('clf__solver', ['sgd', 'adam'])\n",
    "space['clf__learning_rate'] = hp.choice('clf__learning_rate', ['constant', 'adaptive'])\n",
    "\n",
    "\n",
    "# The Trials object will store details of each iteration\n",
    "trials = Trials()\n",
    "\n",
    "# Run the hyperparameter search using the tpe algorithm\n",
    "best_nn = fmin(objective,\n",
    "            space,\n",
    "            algo=tpe.suggest,\n",
    "            max_evals=10,\n",
    "            trials=trials)\n",
    "\n",
    "best_params_nn = space_eval(space, best_nn)\n",
    "\n",
    "# Fit the model with the optimal hyperparamters\n",
    "pipe.set_params(**best_params_nn)\n",
    "pipe.fit(X_train, y_train);\n",
    "\n",
    "# Score with the test data\n",
    "y_score = pipe.predict_proba(X_test)\n",
    "auc_score = roc_auc_score(y_test, y_score[:,1])\n",
    "print(auc_score)\n",
    "print(best_params_nn)"
   ]
  },
  {
   "cell_type": "markdown",
   "metadata": {},
   "source": [
    "At this point, I test each of the base classifiers to get their ROC AUC scores"
   ]
  },
  {
   "cell_type": "code",
   "execution_count": 40,
   "metadata": {},
   "outputs": [
    {
     "name": "stdout",
     "output_type": "stream",
     "text": [
      "The following are the ROC AUC scores for the various base learners:\n",
      "\n",
      "Gaussian Naive Bayes: 0.7483734606776189 \n",
      "\n",
      "Random Forest: 0.7483734606776189 \n",
      "\n",
      "Gradient Boosting: 0.7924259448879545 \n",
      "\n",
      "LightGBM Classifier: 0.806769733682503 \n",
      "\n",
      "Multi-Layer Perceptron: 0.6964504970232971 \n",
      "\n",
      "Logistic Regression: 0.7132777032721078 \n",
      "\n"
     ]
    }
   ],
   "source": [
    "nb = GaussianNB()\n",
    "rf = RandomForestClassifier(bootstrap=False,\n",
    "                             class_weight={0: 80}, \n",
    "                             criterion='entropy',\n",
    "                             max_depth=2,\n",
    "                             min_samples_leaf=8,\n",
    "                             min_samples_split=2,\n",
    "                             n_estimators=1000,\n",
    "                             random_state=42)\n",
    "\n",
    "gb = GradientBoostingClassifier(n_estimators=100,\n",
    "                                    learning_rate=0.1,\n",
    "                                    random_state=SEED)\n",
    "\n",
    "reg = lgb.LGBMClassifier(random_state=SEED,\n",
    "                        learning_rate=0.001,\n",
    "                        max_depth=16,\n",
    "                        min_data_in_leaf=2,\n",
    "                        n_estimators=589, \n",
    "                        num_leaves=47)\n",
    "\n",
    "nn = MLPClassifier(learning_rate = 'adaptive',\n",
    "                   early_stopping=False,\n",
    "                   activation='relu',\n",
    "                   hidden_layer_sizes = (70, 30, 10),\n",
    "                   solver = 'adam',\n",
    "                   random_state=SEED)\n",
    "\n",
    "lr = LogisticRegression(C=0.01,\n",
    "                        random_state=SEED,\n",
    "                        solver='lbfgs', \n",
    "                        max_iter=4000)\n",
    "\n",
    "predictions_nb = (rf.fit(X_train, y_train)).predict_proba(X_test)[:,1]\n",
    "predictions_rf = (rf.fit(X_train, y_train)).predict_proba(X_test)[:,1]\n",
    "predictions_gb = (gb.fit(X_train, y_train)).predict_proba(X_test)[:,1]\n",
    "predictions_reg = (reg.fit(X_train, y_train)).predict_proba(X_test)[:,1]\n",
    "predictions_nn = (nn.fit(X_train, y_train)).predict_proba(X_test)[:,1]\n",
    "predictions_lr = (lr.fit(X_train, y_train)).predict_proba(X_test)[:,1]\n",
    "\n",
    "print(\"The following are the ROC AUC scores for the various base learners:\\n\")\n",
    "print(\"Gaussian Naive Bayes: {} \\n\".format(roc_auc_score(y_test, predictions_nb)))\n",
    "print(\"Random Forest: {} \\n\".format(roc_auc_score(y_test, predictions_rf)))\n",
    "print(\"Gradient Boosting: {} \\n\".format(roc_auc_score(y_test, predictions_gb)))\n",
    "print(\"LightGBM Classifier: {} \\n\".format(roc_auc_score(y_test, predictions_reg)))\n",
    "print(\"Multi-Layer Perceptron: {} \\n\".format(roc_auc_score(y_test, predictions_nn)))\n",
    "print(\"Logistic Regression: {} \\n\".format(roc_auc_score(y_test, predictions_lr)))"
   ]
  },
  {
   "cell_type": "markdown",
   "metadata": {},
   "source": [
    "## Stacked Model"
   ]
  },
  {
   "cell_type": "code",
   "execution_count": 8,
   "metadata": {},
   "outputs": [
    {
     "name": "stdout",
     "output_type": "stream",
     "text": [
      "0\n",
      "1\n",
      "2\n",
      "3\n",
      "4\n",
      "5\n",
      "6\n",
      "7\n",
      "8\n",
      "9\n",
      "10\n",
      "11\n",
      "12\n",
      "13\n",
      "14\n"
     ]
    }
   ],
   "source": [
    "def get_models(SEED):\n",
    "    \"\"\"Generate a library of base learners.\"\"\"\n",
    "    nb = GaussianNB()\n",
    "    lr = LogisticRegression(C=0.01, random_state=SEED, solver='lbfgs', max_iter=4000)\n",
    "    nn = MLPClassifier((80, 10), early_stopping=False, random_state=SEED)\n",
    "    gb = GradientBoostingClassifier(\n",
    "                            n_estimators=100,\n",
    "                            loss=\"exponential\",\n",
    "                            max_depth=3,\n",
    "                            subsample=0.5,\n",
    "                            learning_rate=0.1, \n",
    "                            random_state=SEED\n",
    "                            )\n",
    "    reg = lgb.LGBMClassifier(random_state=SEED,\n",
    "                             learning_rate=0.001,\n",
    "                             max_depth=10, \n",
    "                             n_estimators=500\n",
    "                            )\n",
    "    rf = RandomForestClassifier(bootstrap=False,\n",
    "                             class_weight={0: 80}, \n",
    "                             criterion='entropy',\n",
    "                             max_depth=2,\n",
    "                             min_samples_leaf=8,\n",
    "                             min_samples_split=2,\n",
    "                             n_estimators=1000,\n",
    "                             random_state=SEED)\n",
    "\n",
    "    models = {'naive bayes': nb,\n",
    "              'mlp-nn': nn,\n",
    "              'random forest': rf,\n",
    "              'gbm': gb,\n",
    "              'logistic': lr,\n",
    "               'lgbm': reg\n",
    "              }\n",
    "\n",
    "    return models\n",
    "\n",
    "\n",
    "\n",
    "meta_learner = GradientBoostingClassifier(\n",
    "    n_estimators=100,\n",
    "    loss=\"exponential\",\n",
    "    max_depth=3,\n",
    "    subsample=0.5,\n",
    "    learning_rate=0.1, \n",
    "    random_state=SEED\n",
    ")\n",
    "\n",
    "\n",
    "preds = []\n",
    "for SEED in range(15):\n",
    "    print(SEED)\n",
    "    base_learners = get_models(SEED)\n",
    "\n",
    "    sl = SuperLearner(\n",
    "        folds=10,\n",
    "        random_state=SEED,\n",
    "        verbose=0,\n",
    "        backend=\"multiprocessing\"\n",
    "    )\n",
    "\n",
    "    # Add the base learners and the meta learner\n",
    "    sl.add(list(base_learners.values()), proba=True) \n",
    "    sl.add_meta(meta_learner, proba=True)\n",
    "\n",
    "    predictions = (sl.fit(X_train, y_train)).predict_proba(X_test)[:,1]\n",
    "    score = roc_auc_score(y_test, predictions)\n",
    "    preds.append(score)"
   ]
  },
  {
   "cell_type": "code",
   "execution_count": 16,
   "metadata": {},
   "outputs": [
    {
     "name": "stdout",
     "output_type": "stream",
     "text": [
      "The model had an average ROC AUC score of 0.8147, with a variance of 3.0227e-05\n"
     ]
    }
   ],
   "source": [
    "print(\"The model had an average ROC AUC score of {:.4f}, with a variance of {:.4e}\".format(np.mean(preds), \n",
    "                                                                                           np.var(preds)))"
   ]
  },
  {
   "cell_type": "markdown",
   "metadata": {},
   "source": [
    "Now I fit the model on the entire dataset, for use in the kaggle competition"
   ]
  },
  {
   "cell_type": "code",
   "execution_count": null,
   "metadata": {},
   "outputs": [],
   "source": [
    "#sl.fit(mailout_train, response)\n",
    "\n",
    "#saving the model to a file\n",
    "\n",
    "filename = 'finalized_model.sav'\n",
    "pickle.dump(sl, open(filename, 'wb'))"
   ]
  },
  {
   "cell_type": "markdown",
   "metadata": {},
   "source": [
    "## Part 3: Kaggle Competition\n",
    "\n",
    "Now that you've created a model to predict which individuals are most likely to respond to a mailout campaign, it's time to test that model in competition through Kaggle. If you click on the link [here](http://www.kaggle.com/t/21e6d45d4c574c7fa2d868f0e8c83140), you'll be taken to the competition page where, if you have a Kaggle account, you can enter. If you're one of the top performers, you may have the chance to be contacted by a hiring manager from Arvato or Bertelsmann for an interview!\n",
    "\n",
    "Your entry to the competition should be a CSV file with two columns. The first column should be a copy of \"LNR\", which acts as an ID number for each individual in the \"TEST\" partition. The second column, \"RESPONSE\", should be some measure of how likely each individual became a customer – this might not be a straightforward probability. As you should have found in Part 2, there is a large output class imbalance, where most individuals did not respond to the mailout. Thus, predicting individual classes and using accuracy does not seem to be an appropriate performance evaluation method. Instead, the competition will be using AUC to evaluate performance. The exact values of the \"RESPONSE\" column do not matter as much: only that the higher values try to capture as many of the actual customers as possible, early in the ROC curve sweep."
   ]
  },
  {
   "cell_type": "code",
   "execution_count": 5,
   "metadata": {},
   "outputs": [],
   "source": [
    "mailout_test = pd.read_csv('Udacity_MAILOUT_052018_TEST.csv', sep=';', dtype = {18:'str', 19:'str'})"
   ]
  },
  {
   "cell_type": "code",
   "execution_count": 6,
   "metadata": {},
   "outputs": [
    {
     "data": {
      "text/plain": [
       "(42833, 366)"
      ]
     },
     "execution_count": 6,
     "metadata": {},
     "output_type": "execute_result"
    }
   ],
   "source": [
    "mailout_test.shape"
   ]
  },
  {
   "cell_type": "code",
   "execution_count": 7,
   "metadata": {},
   "outputs": [
    {
     "name": "stdout",
     "output_type": "stream",
     "text": [
      "Drop LNR and D19_LETZTER_KAUF_BRANCHE columns\n",
      "Drop columns with more than 20% missing values\n",
      "Drop rows with more than 25 missing values\n",
      "Re-encode 'OST_WEST_KZ'\n",
      "Imputing missing values for features\n",
      "One-hot encoding of categorical variables\n",
      "Re-encoding categorical features done.\n",
      "Engineering mixed-type features\n",
      "Engineering mixed-type features done\n",
      "Change EINGEFUEGT_AM to year\n",
      "Log transforming skewed numerical features...\n",
      "Log transforming skewed numerical features done\n",
      "Scaling numerical features..\n",
      "Scaling numerical features done\n"
     ]
    }
   ],
   "source": [
    "mailout_test = t.clean_data(mailout_test, feat_info)"
   ]
  },
  {
   "cell_type": "code",
   "execution_count": 8,
   "metadata": {},
   "outputs": [
    {
     "data": {
      "text/plain": [
       "(42833, 381)"
      ]
     },
     "execution_count": 8,
     "metadata": {},
     "output_type": "execute_result"
    }
   ],
   "source": [
    "mailout_test.shape"
   ]
  },
  {
   "cell_type": "code",
   "execution_count": 9,
   "metadata": {},
   "outputs": [
    {
     "name": "stdout",
     "output_type": "stream",
     "text": [
      "\n",
      "Predicting 2 layers\n",
      "Processing layer-1             done | 00:00:06\n",
      "Processing layer-2             done | 00:00:00\n",
      "Predict complete                    | 00:00:08\n"
     ]
    }
   ],
   "source": [
    "filename = 'finalized_model.sav'\n",
    "loaded_model = pickle.load(open(filename, 'rb'))\n",
    "kaggle_prediction = loaded_model.predict_proba(mailout_test)[:,1]"
   ]
  },
  {
   "cell_type": "code",
   "execution_count": 10,
   "metadata": {},
   "outputs": [
    {
     "data": {
      "text/plain": [
       "(42833, 2)"
      ]
     },
     "execution_count": 10,
     "metadata": {},
     "output_type": "execute_result"
    }
   ],
   "source": [
    "submission = pd.read_csv('Arvato_Capstone_Example_Submission.csv')\n",
    "submission.RESPONSE = kaggle_prediction\n",
    "submission.to_csv('kaggle_submission.csv', index=False)\n",
    "submission.shape"
   ]
  },
  {
   "cell_type": "code",
   "execution_count": null,
   "metadata": {},
   "outputs": [],
   "source": []
  }
 ],
 "metadata": {
  "kernelspec": {
   "display_name": "Python 3",
   "language": "python",
   "name": "python3"
  },
  "language_info": {
   "codemirror_mode": {
    "name": "ipython",
    "version": 3
   },
   "file_extension": ".py",
   "mimetype": "text/x-python",
   "name": "python",
   "nbconvert_exporter": "python",
   "pygments_lexer": "ipython3",
   "version": "3.6.5"
  }
 },
 "nbformat": 4,
 "nbformat_minor": 2
}
