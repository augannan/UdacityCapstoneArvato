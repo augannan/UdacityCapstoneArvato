{
 "cells": [
  {
   "cell_type": "markdown",
   "metadata": {},
   "source": [
    "# Project: Identify Customer Segments\n",
    "\n",
    "In this project, I apply unsupervised learning techniques to identify segments of the population that form the core customer base for a mail-order sales company in Germany. These segments can then be used to direct marketing campaigns towards audiences that will have the highest expected rate of returns. The data used was provided by Udacity partners at Bertelsmann Arvato Analytics."
   ]
  },
  {
   "cell_type": "code",
   "execution_count": 1,
   "metadata": {},
   "outputs": [
    {
     "name": "stderr",
     "output_type": "stream",
     "text": [
      "/Users/bmsbm/anaconda3/lib/python3.6/site-packages/lightgbm/__init__.py:46: UserWarning: Starting from version 2.2.1, the library file in distribution wheels for macOS is built by the Apple Clang (Xcode_9.4.1) compiler.\n",
      "This means that in case of installing LightGBM from PyPI via the ``pip install lightgbm`` command, you don't need to install the gcc compiler anymore.\n",
      "Instead of that, you need to install the OpenMP library, which is required for running LightGBM on the system with the Apple Clang compiler.\n",
      "You can install the OpenMP library by the following command: ``brew install libomp``.\n",
      "  \"You can install the OpenMP library by the following command: ``brew install libomp``.\", UserWarning)\n",
      "[MLENS] backend: threading\n"
     ]
    }
   ],
   "source": [
    "import numpy as np\n",
    "import pandas as pd\n",
    "import datetime\n",
    "import matplotlib.pyplot as plt\n",
    "import seaborn as sns\n",
    "from sklearn.preprocessing import StandardScaler, RobustScaler, MinMaxScaler\n",
    "from sklearn.decomposition import PCA\n",
    "from sklearn.cluster import KMeans\n",
    "from sklearn.pipeline import Pipeline\n",
    "from sklearn.impute import SimpleImputer\n",
    "from sklearn.compose import ColumnTransformer\n",
    "\n",
    "from sklearn.svm import SVC, LinearSVC\n",
    "from sklearn.naive_bayes import GaussianNB\n",
    "from sklearn.ensemble import RandomForestClassifier, GradientBoostingClassifier\n",
    "from sklearn.linear_model import LogisticRegression\n",
    "from sklearn.neighbors import KNeighborsClassifier\n",
    "from sklearn.neural_network import MLPClassifier\n",
    "from sklearn.kernel_approximation import Nystroem\n",
    "from sklearn.kernel_approximation import RBFSampler\n",
    "from sklearn.pipeline import make_pipeline\n",
    "\n",
    "from sklearn.model_selection import GridSearchCV\n",
    "from sklearn.metrics import roc_auc_score\n",
    "from sklearn.ensemble import RandomForestClassifier, AdaBoostClassifier\n",
    "import lightgbm as lgb\n",
    "from mlens.ensemble import SuperLearner\n",
    "from sklearn.model_selection import KFold, cross_val_score, train_test_split\n",
    "\n",
    "import helper as t\n",
    "\n",
    "#for reproducibility\n",
    "SEED=42\n",
    "\n",
    "%matplotlib inline"
   ]
  },
  {
   "cell_type": "markdown",
   "metadata": {},
   "source": [
    "## Part 0: Get to Know the Data\n",
    "\n",
    "There are four data files associated with this project:\n",
    "\n",
    "- `Udacity_AZDIAS_052018.csv`: Demographics data for the general population of Germany; 891 211 persons (rows) x 366 features (columns).\n",
    "- `Udacity_CUSTOMERS_052018.csv`: Demographics data for customers of a mail-order company; 191 652 persons (rows) x 369 features (columns).\n",
    "- `Udacity_MAILOUT_052018_TRAIN.csv`: Demographics data for individuals who were targets of a marketing campaign; 42 982 persons (rows) x 367 (columns).\n",
    "- `Udacity_MAILOUT_052018_TEST.csv`: Demographics data for individuals who were targets of a marketing campaign; 42 833 persons (rows) x 366 (columns).\n",
    "\n",
    "Each row of the demographics files represents a single person, but also includes information outside of individuals, including information about their household, building, and neighborhood. Use the information from the first two files to figure out how customers (\"CUSTOMERS\") are similar to or differ from the general population at large (\"AZDIAS\"), then use your analysis to make predictions on the other two files (\"MAILOUT\"), predicting which recipients are most likely to become a customer for the mail-order company.\n",
    "\n",
    "The \"CUSTOMERS\" file contains three extra columns ('CUSTOMER_GROUP', 'ONLINE_PURCHASE', and 'PRODUCT_GROUP'), which provide broad information about the customers depicted in the file. The original \"MAILOUT\" file included one additional column, \"RESPONSE\", which indicated whether or not each recipient became a customer of the company. For the \"TRAIN\" subset, this column has been retained, but in the \"TEST\" subset it has been removed; it is against that withheld column that your final predictions will be assessed in the Kaggle competition.\n",
    "\n",
    "Otherwise, all of the remaining columns are the same between the three data files. For more information about the columns depicted in the files, you can refer to two Excel spreadsheets provided in the workspace. [One of them](./DIAS Information Levels - Attributes 2017.xlsx) is a top-level list of attributes and descriptions, organized by informational category. [The other](./DIAS Attributes - Values 2017.xlsx) is a detailed mapping of data values for each feature in alphabetical order.\n",
    "\n",
    "In the below cell, we've provided some initial code to load in the first two datasets. Note for all of the `.csv` data files in this project that they're semicolon (`;`) delimited, so an additional argument in the [`read_csv()`](https://pandas.pydata.org/pandas-docs/stable/generated/pandas.read_csv.html) call has been included to read in the data properly. Also, considering the size of the datasets, it may take some time for them to load completely.\n",
    "\n",
    "You'll notice when the data is loaded in that a warning message will immediately pop up. Before you really start digging into the modeling and analysis, you're going to need to perform some cleaning. Take some time to browse the structure of the data and look over the informational spreadsheets to understand the data values. Make some decisions on which features to keep, which features to drop, and if any revisions need to be made on data formats. It'll be a good idea to create a function with pre-processing steps, since you'll need to clean all of the datasets before you work with them."
   ]
  },
  {
   "cell_type": "code",
   "execution_count": 2,
   "metadata": {},
   "outputs": [],
   "source": [
    "# Load in the general demographics data.\n",
    "azdias = pd.read_csv('Udacity_AZDIAS_052018.csv', dtype = {18: 'str', 19: 'str'}, sep=';')"
   ]
  },
  {
   "cell_type": "markdown",
   "metadata": {},
   "source": [
    "Using the file with the mapping of data values for each feature, I created a csv file of features and the corresponding values for missing values. I then pulled the `feat_info.csv` file from the work done in the first term, and combined it with this file to create a data dictionary, which I saved as `AZDIAS_Feature_Summary.csv`. \n",
    "\n",
    "I use this data dictionary to make decisions in this project."
   ]
  },
  {
   "cell_type": "code",
   "execution_count": 3,
   "metadata": {},
   "outputs": [],
   "source": [
    "# Load in the feature summary file.\n",
    "feat_info = pd.read_csv(\"AZDIAS_Feature_Summary.csv\", sep=\";\", index_col=0)"
   ]
  },
  {
   "cell_type": "code",
   "execution_count": 4,
   "metadata": {},
   "outputs": [
    {
     "name": "stdout",
     "output_type": "stream",
     "text": [
      "The general dataset has 891221 rows and 366 columns\n",
      "The summary dataset has 258 rows and 4 columns\n"
     ]
    }
   ],
   "source": [
    "# Check the structure of the data after it's loaded (e.g. print the number of\n",
    "# rows and columns, print the first few rows).\n",
    "print(\"The general dataset has {} rows and {} columns\".format(azdias.shape[0], azdias.shape[1]))\n",
    "print(\"The summary dataset has {} rows and {} columns\".format(feat_info.shape[0], feat_info.shape[1]))"
   ]
  },
  {
   "cell_type": "code",
   "execution_count": 5,
   "metadata": {},
   "outputs": [
    {
     "data": {
      "text/html": [
       "<div>\n",
       "<style scoped>\n",
       "    .dataframe tbody tr th:only-of-type {\n",
       "        vertical-align: middle;\n",
       "    }\n",
       "\n",
       "    .dataframe tbody tr th {\n",
       "        vertical-align: top;\n",
       "    }\n",
       "\n",
       "    .dataframe thead th {\n",
       "        text-align: right;\n",
       "    }\n",
       "</style>\n",
       "<table border=\"1\" class=\"dataframe\">\n",
       "  <thead>\n",
       "    <tr style=\"text-align: right;\">\n",
       "      <th></th>\n",
       "      <th>LNR</th>\n",
       "      <th>AGER_TYP</th>\n",
       "      <th>AKT_DAT_KL</th>\n",
       "      <th>ALTER_HH</th>\n",
       "      <th>ALTER_KIND1</th>\n",
       "      <th>ALTER_KIND2</th>\n",
       "      <th>ALTER_KIND3</th>\n",
       "      <th>ALTER_KIND4</th>\n",
       "      <th>ALTERSKATEGORIE_FEIN</th>\n",
       "      <th>ANZ_HAUSHALTE_AKTIV</th>\n",
       "      <th>...</th>\n",
       "      <th>VHN</th>\n",
       "      <th>VK_DHT4A</th>\n",
       "      <th>VK_DISTANZ</th>\n",
       "      <th>VK_ZG11</th>\n",
       "      <th>W_KEIT_KIND_HH</th>\n",
       "      <th>WOHNDAUER_2008</th>\n",
       "      <th>WOHNLAGE</th>\n",
       "      <th>ZABEOTYP</th>\n",
       "      <th>ANREDE_KZ</th>\n",
       "      <th>ALTERSKATEGORIE_GROB</th>\n",
       "    </tr>\n",
       "  </thead>\n",
       "  <tbody>\n",
       "    <tr>\n",
       "      <th>0</th>\n",
       "      <td>910215</td>\n",
       "      <td>-1</td>\n",
       "      <td>NaN</td>\n",
       "      <td>NaN</td>\n",
       "      <td>NaN</td>\n",
       "      <td>NaN</td>\n",
       "      <td>NaN</td>\n",
       "      <td>NaN</td>\n",
       "      <td>NaN</td>\n",
       "      <td>NaN</td>\n",
       "      <td>...</td>\n",
       "      <td>NaN</td>\n",
       "      <td>NaN</td>\n",
       "      <td>NaN</td>\n",
       "      <td>NaN</td>\n",
       "      <td>NaN</td>\n",
       "      <td>NaN</td>\n",
       "      <td>NaN</td>\n",
       "      <td>3</td>\n",
       "      <td>1</td>\n",
       "      <td>2</td>\n",
       "    </tr>\n",
       "    <tr>\n",
       "      <th>1</th>\n",
       "      <td>910220</td>\n",
       "      <td>-1</td>\n",
       "      <td>9.0</td>\n",
       "      <td>0.0</td>\n",
       "      <td>NaN</td>\n",
       "      <td>NaN</td>\n",
       "      <td>NaN</td>\n",
       "      <td>NaN</td>\n",
       "      <td>21.0</td>\n",
       "      <td>11.0</td>\n",
       "      <td>...</td>\n",
       "      <td>4.0</td>\n",
       "      <td>8.0</td>\n",
       "      <td>11.0</td>\n",
       "      <td>10.0</td>\n",
       "      <td>3.0</td>\n",
       "      <td>9.0</td>\n",
       "      <td>4.0</td>\n",
       "      <td>5</td>\n",
       "      <td>2</td>\n",
       "      <td>1</td>\n",
       "    </tr>\n",
       "    <tr>\n",
       "      <th>2</th>\n",
       "      <td>910225</td>\n",
       "      <td>-1</td>\n",
       "      <td>9.0</td>\n",
       "      <td>17.0</td>\n",
       "      <td>NaN</td>\n",
       "      <td>NaN</td>\n",
       "      <td>NaN</td>\n",
       "      <td>NaN</td>\n",
       "      <td>17.0</td>\n",
       "      <td>10.0</td>\n",
       "      <td>...</td>\n",
       "      <td>2.0</td>\n",
       "      <td>9.0</td>\n",
       "      <td>9.0</td>\n",
       "      <td>6.0</td>\n",
       "      <td>3.0</td>\n",
       "      <td>9.0</td>\n",
       "      <td>2.0</td>\n",
       "      <td>5</td>\n",
       "      <td>2</td>\n",
       "      <td>3</td>\n",
       "    </tr>\n",
       "    <tr>\n",
       "      <th>3</th>\n",
       "      <td>910226</td>\n",
       "      <td>2</td>\n",
       "      <td>1.0</td>\n",
       "      <td>13.0</td>\n",
       "      <td>NaN</td>\n",
       "      <td>NaN</td>\n",
       "      <td>NaN</td>\n",
       "      <td>NaN</td>\n",
       "      <td>13.0</td>\n",
       "      <td>1.0</td>\n",
       "      <td>...</td>\n",
       "      <td>0.0</td>\n",
       "      <td>7.0</td>\n",
       "      <td>10.0</td>\n",
       "      <td>11.0</td>\n",
       "      <td>NaN</td>\n",
       "      <td>9.0</td>\n",
       "      <td>7.0</td>\n",
       "      <td>3</td>\n",
       "      <td>2</td>\n",
       "      <td>4</td>\n",
       "    </tr>\n",
       "    <tr>\n",
       "      <th>4</th>\n",
       "      <td>910241</td>\n",
       "      <td>-1</td>\n",
       "      <td>1.0</td>\n",
       "      <td>20.0</td>\n",
       "      <td>NaN</td>\n",
       "      <td>NaN</td>\n",
       "      <td>NaN</td>\n",
       "      <td>NaN</td>\n",
       "      <td>14.0</td>\n",
       "      <td>3.0</td>\n",
       "      <td>...</td>\n",
       "      <td>2.0</td>\n",
       "      <td>3.0</td>\n",
       "      <td>5.0</td>\n",
       "      <td>4.0</td>\n",
       "      <td>2.0</td>\n",
       "      <td>9.0</td>\n",
       "      <td>3.0</td>\n",
       "      <td>4</td>\n",
       "      <td>1</td>\n",
       "      <td>3</td>\n",
       "    </tr>\n",
       "  </tbody>\n",
       "</table>\n",
       "<p>5 rows × 366 columns</p>\n",
       "</div>"
      ],
      "text/plain": [
       "      LNR  AGER_TYP  AKT_DAT_KL  ALTER_HH  ALTER_KIND1  ALTER_KIND2  \\\n",
       "0  910215        -1         NaN       NaN          NaN          NaN   \n",
       "1  910220        -1         9.0       0.0          NaN          NaN   \n",
       "2  910225        -1         9.0      17.0          NaN          NaN   \n",
       "3  910226         2         1.0      13.0          NaN          NaN   \n",
       "4  910241        -1         1.0      20.0          NaN          NaN   \n",
       "\n",
       "   ALTER_KIND3  ALTER_KIND4  ALTERSKATEGORIE_FEIN  ANZ_HAUSHALTE_AKTIV  \\\n",
       "0          NaN          NaN                   NaN                  NaN   \n",
       "1          NaN          NaN                  21.0                 11.0   \n",
       "2          NaN          NaN                  17.0                 10.0   \n",
       "3          NaN          NaN                  13.0                  1.0   \n",
       "4          NaN          NaN                  14.0                  3.0   \n",
       "\n",
       "          ...           VHN  VK_DHT4A  VK_DISTANZ  VK_ZG11  W_KEIT_KIND_HH  \\\n",
       "0         ...           NaN       NaN         NaN      NaN             NaN   \n",
       "1         ...           4.0       8.0        11.0     10.0             3.0   \n",
       "2         ...           2.0       9.0         9.0      6.0             3.0   \n",
       "3         ...           0.0       7.0        10.0     11.0             NaN   \n",
       "4         ...           2.0       3.0         5.0      4.0             2.0   \n",
       "\n",
       "   WOHNDAUER_2008  WOHNLAGE ZABEOTYP ANREDE_KZ ALTERSKATEGORIE_GROB  \n",
       "0             NaN       NaN        3         1                    2  \n",
       "1             9.0       4.0        5         2                    1  \n",
       "2             9.0       2.0        5         2                    3  \n",
       "3             9.0       7.0        3         2                    4  \n",
       "4             9.0       3.0        4         1                    3  \n",
       "\n",
       "[5 rows x 366 columns]"
      ]
     },
     "metadata": {},
     "output_type": "display_data"
    }
   ],
   "source": [
    "display(azdias.head(5))"
   ]
  },
  {
   "cell_type": "code",
   "execution_count": 6,
   "metadata": {},
   "outputs": [
    {
     "data": {
      "text/html": [
       "<div>\n",
       "<style scoped>\n",
       "    .dataframe tbody tr th:only-of-type {\n",
       "        vertical-align: middle;\n",
       "    }\n",
       "\n",
       "    .dataframe tbody tr th {\n",
       "        vertical-align: top;\n",
       "    }\n",
       "\n",
       "    .dataframe thead th {\n",
       "        text-align: right;\n",
       "    }\n",
       "</style>\n",
       "<table border=\"1\" class=\"dataframe\">\n",
       "  <thead>\n",
       "    <tr style=\"text-align: right;\">\n",
       "      <th></th>\n",
       "      <th>attribute</th>\n",
       "      <th>information_level</th>\n",
       "      <th>type</th>\n",
       "      <th>missing_or_unknown</th>\n",
       "    </tr>\n",
       "  </thead>\n",
       "  <tbody>\n",
       "    <tr>\n",
       "      <th>0</th>\n",
       "      <td>AGER_TYP</td>\n",
       "      <td>person</td>\n",
       "      <td>categorical</td>\n",
       "      <td>[-1,0]</td>\n",
       "    </tr>\n",
       "    <tr>\n",
       "      <th>1</th>\n",
       "      <td>ALTERSKATEGORIE_GROB</td>\n",
       "      <td>person</td>\n",
       "      <td>ordinal</td>\n",
       "      <td>[-1,0,9]</td>\n",
       "    </tr>\n",
       "    <tr>\n",
       "      <th>2</th>\n",
       "      <td>ANREDE_KZ</td>\n",
       "      <td>person</td>\n",
       "      <td>categorical</td>\n",
       "      <td>[-1,0]</td>\n",
       "    </tr>\n",
       "    <tr>\n",
       "      <th>3</th>\n",
       "      <td>CJT_GESAMTTYP</td>\n",
       "      <td>person</td>\n",
       "      <td>categorical</td>\n",
       "      <td>[0]</td>\n",
       "    </tr>\n",
       "    <tr>\n",
       "      <th>4</th>\n",
       "      <td>FINANZ_MINIMALIST</td>\n",
       "      <td>person</td>\n",
       "      <td>ordinal</td>\n",
       "      <td>[-1]</td>\n",
       "    </tr>\n",
       "  </tbody>\n",
       "</table>\n",
       "</div>"
      ],
      "text/plain": [
       "              attribute information_level         type missing_or_unknown\n",
       "0              AGER_TYP            person  categorical             [-1,0]\n",
       "1  ALTERSKATEGORIE_GROB            person      ordinal           [-1,0,9]\n",
       "2             ANREDE_KZ            person  categorical             [-1,0]\n",
       "3         CJT_GESAMTTYP            person  categorical                [0]\n",
       "4     FINANZ_MINIMALIST            person      ordinal               [-1]"
      ]
     },
     "metadata": {},
     "output_type": "display_data"
    }
   ],
   "source": [
    "display(feat_info.head(5))"
   ]
  },
  {
   "cell_type": "markdown",
   "metadata": {},
   "source": [
    "The feature summary file contains a summary of properties for each demographics data column. I use this file to make cleaning decisions during this stage of the project. \n",
    "\n",
    "The fourth column of the feature attributes summary (loaded in above as `feat_info`) documents the codes from the data dictionary that indicate missing or unknown data. While the file encodes this as a list (e.g. `[-1,0]`), this will get read in as a string object. As such, some parsing is needed in order to identify missing values and clean the data.\n",
    "\n",
    "To do this, I create a new \"missing_or_unknown\" column, with the string values converted to integers where appropriate.\n",
    "\n",
    "There are some attributes which are found in the data dictionary, but not in the original dataset, and vice versa. Those attributes found in the dataset but not in the dictionary pose a particular problem, because I wouldn't be able to tell which values correspond to missing values in the data. I will keep them in the dataset, and assume that all the missing values are represented as NaNs. \n",
    "\n",
    "For the features in the data dictionary which are not found in the dataset, I will drop them from the data dictionary."
   ]
  },
  {
   "cell_type": "code",
   "execution_count": 7,
   "metadata": {},
   "outputs": [],
   "source": [
    "feat_info = t.clean_data_dictionary(feat_info, azdias)"
   ]
  },
  {
   "cell_type": "markdown",
   "metadata": {},
   "source": [
    "I want to see how much data takes on a 'missing' or 'unknown' code, and how much data is naturally missing. To do this, I will count the number of 'NAs' in the dataset before and after replacing the missing codes. The difference between these values is the number of encoded missing values."
   ]
  },
  {
   "cell_type": "code",
   "execution_count": 8,
   "metadata": {},
   "outputs": [
    {
     "name": "stdout",
     "output_type": "stream",
     "text": [
      "The number of naturally missing data points is  33492923\n"
     ]
    }
   ],
   "source": [
    "natural_missing_values = azdias.isnull().sum().sum()\n",
    "print(\"The number of naturally missing data points is \", natural_missing_values)"
   ]
  },
  {
   "cell_type": "code",
   "execution_count": 9,
   "metadata": {},
   "outputs": [],
   "source": [
    "t.replace_missing_values(azdias, feat_info)"
   ]
  },
  {
   "cell_type": "code",
   "execution_count": 10,
   "metadata": {},
   "outputs": [
    {
     "name": "stdout",
     "output_type": "stream",
     "text": [
      "There were 4334304 encoded missing values in the dataset, which represents 11.46% of the total number of missing values in the dataset\n"
     ]
    }
   ],
   "source": [
    "total_missing_values = azdias.isnull().sum().sum()\n",
    "encoded_missing_values = total_missing_values - natural_missing_values\n",
    "print(\"There were {} encoded missing values in the dataset, which represents {}% of the total number of missing values in the dataset\"\n",
    "      .format(encoded_missing_values, round(encoded_missing_values/total_missing_values *100, 2)))"
   ]
  },
  {
   "cell_type": "markdown",
   "metadata": {},
   "source": [
    "####  Assess Missing Data in Each Column\n",
    "\n",
    "Here I assess the number of missing data points in each column of the dataset."
   ]
  },
  {
   "cell_type": "code",
   "execution_count": 11,
   "metadata": {},
   "outputs": [
    {
     "data": {
      "image/png": "[encoded data removed]",
      "text/plain": [
       "<Figure size 1800x720 with 1 Axes>"
      ]
     },
     "metadata": {},
     "output_type": "display_data"
    }
   ],
   "source": [
    "t.show_dist_missing_values_column(azdias)"
   ]
  },
  {
   "cell_type": "markdown",
   "metadata": {},
   "source": [
    "From the cells above, I see that the most columns have fewer than 20% of missing data points. I will eliminate any column which has more than 20% of missing data points."
   ]
  },
  {
   "cell_type": "code",
   "execution_count": 12,
   "metadata": {},
   "outputs": [
    {
     "name": "stdout",
     "output_type": "stream",
     "text": [
      "['ALTER_KIND4', 'TITEL_KZ', 'ALTER_KIND3', 'ALTER_KIND2', 'ALTER_KIND1', 'AGER_TYP', 'EXTSEL992', 'KK_KUNDENTYP', 'KBA05_BAUMAX', 'GEBURTSJAHR', 'ALTER_HH', 'ALTERSKATEGORIE_FEIN', 'D19_VERSAND_ONLINE_QUOTE_12', 'D19_TELKO_ONLINE_QUOTE_12', 'D19_LOTTO', 'D19_SOZIALES', 'D19_BANKEN_ONLINE_QUOTE_12', 'D19_VERSI_ONLINE_QUOTE_12', 'D19_GESAMT_ONLINE_QUOTE_12', 'D19_KONSUMTYP', 'D19_LETZTER_KAUF_BRANCHE']\n"
     ]
    }
   ],
   "source": [
    "n_missing_column_data = azdias.isnull().sum(axis=0).sort_values(ascending=False)\n",
    "\n",
    "prop_missing_column_data = n_missing_column_data/azdias.shape[0]\n",
    "\n",
    "columns_to_drop = list(n_missing_column_data[prop_missing_column_data >=0.2].index.values)\n",
    "\n",
    "print(columns_to_drop)"
   ]
  },
  {
   "cell_type": "markdown",
   "metadata": {},
   "source": [
    "I found that the data which represented similar features, but on different scales, tended to have similar amounts of missing data. For example  `CAMEO_DEU_2015`, `CAMEO_DEUG_2015`, and `CAMEO_INTL_2015`, which are data on wealth/lifestyle topology on a rough, detailed and international scale respectively, have almost the same amount of missing data.\n",
    "\n",
    "The columns with lots of missing data tended to be those of individual records, like people's titles, dates of birth, ageing, etc."
   ]
  },
  {
   "cell_type": "markdown",
   "metadata": {},
   "source": [
    "#### Step 1.1.3: Assess Missing Data in Each Row\n",
    "\n",
    "I now do the same for the rows in the dataset."
   ]
  },
  {
   "cell_type": "code",
   "execution_count": 13,
   "metadata": {},
   "outputs": [],
   "source": [
    "# How much data is missing in each row of the dataset?\n",
    "n_missing_row_data = azdias.isnull().sum(axis=1)"
   ]
  },
  {
   "cell_type": "code",
   "execution_count": 14,
   "metadata": {},
   "outputs": [
    {
     "data": {
      "image/png": "[encoded data removed]",
      "text/plain": [
       "<Figure size 1800x720 with 1 Axes>"
      ]
     },
     "metadata": {},
     "output_type": "display_data"
    }
   ],
   "source": [
    "# Investigate patterns in the amount of missing data in each row.\n",
    "fig = plt.figure(figsize=(25,10))\n",
    "sns.set_style(\"ticks\")\n",
    "ax = n_missing_row_data.plot.hist()\n",
    "ax.set_title(\"Histogram showing distribution of missing data in rows of dataset\")\n",
    "ax.set_xlabel(\"Attributes\")\n",
    "ax.set_ylabel(\"Number of missing data points\")\n",
    "plt.show()"
   ]
  },
  {
   "cell_type": "markdown",
   "metadata": {},
   "source": [
    "Now I divide the dataset into two subsets based on the number of missing values in each row. The first dataset is comprised of rows with no missing values at all, while the second dataset contains the rest of the datapoints."
   ]
  },
  {
   "cell_type": "code",
   "execution_count": 15,
   "metadata": {},
   "outputs": [],
   "source": [
    "i=25\n",
    "rows_wo_missing_values = list(np.where(n_missing_row_data <=i)[0])\n",
    "rows_with_missing_values = list(np.where(n_missing_row_data >i)[0])\n",
    "\n",
    "azdias_few_missing_values = azdias.loc[rows_wo_missing_values, :]\n",
    "azdias_many_missing_values = azdias.loc[rows_with_missing_values, :]"
   ]
  },
  {
   "cell_type": "markdown",
   "metadata": {},
   "source": [
    "Now I compare the distribution of values for five columns where there are no or few missing values, between the two subsets."
   ]
  },
  {
   "cell_type": "code",
   "execution_count": 16,
   "metadata": {},
   "outputs": [
    {
     "data": {
      "image/png": "[encoded data removed]",
      "text/plain": [
       "<Figure size 720x360 with 2 Axes>"
      ]
     },
     "metadata": {},
     "output_type": "display_data"
    }
   ],
   "source": [
    "t.compare_distribution('HEALTH_TYP', azdias_few_missing_values, azdias_many_missing_values)"
   ]
  },
  {
   "cell_type": "code",
   "execution_count": 17,
   "metadata": {},
   "outputs": [
    {
     "data": {
      "image/png": "[encoded data removed]",
      "text/plain": [
       "<Figure size 720x360 with 2 Axes>"
      ]
     },
     "metadata": {},
     "output_type": "display_data"
    }
   ],
   "source": [
    "t.compare_distribution('GEBAEUDETYP', azdias_few_missing_values, azdias_many_missing_values)"
   ]
  },
  {
   "cell_type": "code",
   "execution_count": 18,
   "metadata": {},
   "outputs": [
    {
     "data": {
      "image/png": "[encoded data removed]",
      "text/plain": [
       "<Figure size 720x360 with 2 Axes>"
      ]
     },
     "metadata": {},
     "output_type": "display_data"
    }
   ],
   "source": [
    "t.compare_distribution('ANZ_HH_TITEL', azdias_few_missing_values, azdias_many_missing_values)"
   ]
  },
  {
   "cell_type": "code",
   "execution_count": 20,
   "metadata": {},
   "outputs": [
    {
     "data": {
      "image/png": "[encoded data removed]",
      "text/plain": [
       "<Figure size 720x360 with 2 Axes>"
      ]
     },
     "metadata": {},
     "output_type": "display_data"
    }
   ],
   "source": [
    "t.compare_distribution('WOHNDAUER_2008', azdias_few_missing_values, azdias_many_missing_values)"
   ]
  },
  {
   "cell_type": "markdown",
   "metadata": {},
   "source": [
    "From the bar charts above, the distributions of values between both datasets are quite similar. As such, from now on, I will use the dataset with few missing values."
   ]
  },
  {
   "cell_type": "code",
   "execution_count": 21,
   "metadata": {},
   "outputs": [],
   "source": [
    "azdias = azdias_few_missing_values"
   ]
  },
  {
   "cell_type": "markdown",
   "metadata": {},
   "source": [
    "### Step 1.2: Select and Re-Encode Features"
   ]
  },
  {
   "cell_type": "code",
   "execution_count": 22,
   "metadata": {},
   "outputs": [
    {
     "name": "stdout",
     "output_type": "stream",
     "text": [
      "There are 22 categorical features\n",
      "There are 212 ordinal features\n",
      "There are 7 numeric features\n",
      "There are 7 mixed features\n",
      "There are 1 interval features\n",
      "There are 0 nan features\n"
     ]
    }
   ],
   "source": [
    "# How many features are there of each data type?\n",
    "for value in feat_info[\"type\"].unique():\n",
    "    print(\"There are {} {} features\".format(feat_info[feat_info[\"type\"]==value].shape[0],value))"
   ]
  },
  {
   "cell_type": "markdown",
   "metadata": {},
   "source": [
    "#### Step 1.2.1: Re-Encode Categorical Features"
   ]
  },
  {
   "cell_type": "code",
   "execution_count": 23,
   "metadata": {},
   "outputs": [],
   "source": [
    "cat_features, ord_features, num_features, mixed_features, interval_features = t.attributes_by_type(azdias, feat_info)"
   ]
  },
  {
   "cell_type": "code",
   "execution_count": 24,
   "metadata": {},
   "outputs": [
    {
     "name": "stdout",
     "output_type": "stream",
     "text": [
      "The following are the categorical features in the dataset: \n",
      "\n",
      "AGER_TYP\n",
      "ANREDE_KZ\n",
      "CJT_GESAMTTYP\n",
      "FINANZTYP\n",
      "GFK_URLAUBERTYP\n",
      "GREEN_AVANTGARDE\n",
      "LP_FAMILIE_FEIN\n",
      "LP_FAMILIE_GROB\n",
      "LP_STATUS_FEIN\n",
      "LP_STATUS_GROB\n",
      "NATIONALITAET_KZ\n",
      "SHOPPER_TYP\n",
      "SOHO_KZ\n",
      "TITEL_KZ\n",
      "VERS_TYP\n",
      "ZABEOTYP\n",
      "KK_KUNDENTYP\n",
      "GEBAEUDETYP\n",
      "OST_WEST_KZ\n",
      "CAMEO_DEUG_2015\n",
      "CAMEO_DEU_2015\n",
      "KBA05_MAXHERST\n"
     ]
    }
   ],
   "source": [
    "print(\"The following are the categorical features in the dataset: \\n\")\n",
    "for each in cat_features:\n",
    "    print(each)"
   ]
  },
  {
   "cell_type": "markdown",
   "metadata": {},
   "source": [
    "*OST_WEST_KZ* is binary, but needs to be re-encoded, since it takes on non-numeric values ('W' for West and 'O' for East)."
   ]
  },
  {
   "cell_type": "code",
   "execution_count": 25,
   "metadata": {},
   "outputs": [
    {
     "name": "stdout",
     "output_type": "stream",
     "text": [
      "The following are the mixed features in the dataset: \n",
      "\n",
      "LP_LEBENSPHASE_FEIN\n",
      "LP_LEBENSPHASE_GROB\n",
      "PRAEGENDE_JUGENDJAHRE\n",
      "WOHNLAGE\n",
      "CAMEO_INTL_2015\n",
      "KBA05_BAUMAX\n",
      "PLZ8_BAUMAX\n"
     ]
    }
   ],
   "source": [
    "print(\"The following are the mixed features in the dataset: \\n\")\n",
    "for each in mixed_features:\n",
    "    print(each)"
   ]
  },
  {
   "cell_type": "code",
   "execution_count": 26,
   "metadata": {},
   "outputs": [
    {
     "name": "stdout",
     "output_type": "stream",
     "text": [
      "The following are the interval features in the dataset: \n",
      "\n",
      "ALTER_HH\n"
     ]
    }
   ],
   "source": [
    "print(\"The following are the interval features in the dataset: \\n\")\n",
    "for each in interval_features:\n",
    "    print(each)"
   ]
  },
  {
   "cell_type": "markdown",
   "metadata": {},
   "source": [
    "From looking at the description of the remaining categorical features in the dataset, I came to the following conclusions:\n",
    "\n",
    "* `CACAMEO_DEUG_2015` and `CAMEO_DEU_2015` both describe the wealth and life stage typology, albeit at different scales. I will keep `CAMEO_DEUG_2015`, that which describes the typology at the rough scale.\n",
    "* The same is true of `LP_FAMILIE_FEIN` and `LP_FAMILIE_GROB` and `LP_STATUS_FEIN` and `LP_STATUS_GROB`.\n",
    "\n",
    "I also drop `GEBAEUDETYP`, which is a building-level feature, which simply describes the types of buildings.\n",
    "\n",
    "There are a handful of features that are marked as \"mixed\" in the feature summary that require special treatment in order to be included in the analysis. \n",
    "* `PRAEGENDE_JUGENDJAHRE` combines information on three dimensions: generation by decade, movement (mainstream vs. avantgarde), and nation (east vs. west). I create two new variables to capture the other two dimensions: an interval-type variable for decade, and a binary variable for movement.\n",
    "* `CAMEO_INTL_2015` combines information on two axes: wealth and life stage. I break up the two-digit codes by their 'tens'-place and 'ones'-place digits into two new ordinal variables (which, for the purposes of this project, is equivalent to just treating them as their raw numeric values).\n",
    "\n",
    "I created two new columns: `PJ_DECADE` to capture the decade dimension, and `PJ_movement` to capture the movement. For `PJ_decade`, I created six new categories, one for each decade represented in the data. For `PJ_movement`, I created a binary variable. 1 represents the Mainstream movement, while 2 represents the Avantgarde movement. I kept the `PLZ8_BAUMAX` feature, because I found it easy, and reasonable to separate the building types in the region into family and business type buildings. So I grouped all the family homes into one category, irrespective of the size, and left the business buildings in a category of its own.\n",
    "\n",
    "I will drop the `LP_LEBENSPHASE_FEIN` and `LP_LEBENSPHASE_GROB` features, because they were too cumbersome to separate appropriately, and the `WOHNLAGE` feature because I didn't find any reasonable way to aggregate the subdivisions between features."
   ]
  },
  {
   "cell_type": "code",
   "execution_count": 27,
   "metadata": {
    "scrolled": true
   },
   "outputs": [
    {
     "name": "stdout",
     "output_type": "stream",
     "text": [
      "Drop columns with more than 20% missing values\n",
      "Drop rows with more than 25 missing values\n",
      "Re-encode 'OST_WEST_KZ'\n",
      "Imputing missing values for features\n",
      "One-hot encoding of categorical variables\n",
      "Re-encoding categorical features done.\n",
      "Engineering mixed-type features\n",
      "Engineering mixed-type features done\n"
     ]
    }
   ],
   "source": [
    "azdias = t.clean_data(azdias, feat_info)"
   ]
  },
  {
   "cell_type": "markdown",
   "metadata": {},
   "source": [
    "## Step 2: Feature Transformation\n",
    "\n",
    "### Step 2.1: Apply Feature Scaling"
   ]
  },
  {
   "cell_type": "code",
   "execution_count": 28,
   "metadata": {},
   "outputs": [
    {
     "name": "stdout",
     "output_type": "stream",
     "text": [
      "There are no NaN values in the dataset at this stage, we can continue with the analysis\n"
     ]
    }
   ],
   "source": [
    "if azdias.isnull().sum().sum() == 0:\n",
    "    print(\"There are no NaN values in the dataset at this stage, we can continue with the analysis\")\n",
    "else:\n",
    "    print(\"There are still some missing values in this dataset, please go back and clean your data properly\")"
   ]
  },
  {
   "cell_type": "markdown",
   "metadata": {},
   "source": [
    "At this stage I rescale all the data in the dataset, so that differences in units, ranges, etc., do not intefere with the analysis."
   ]
  },
  {
   "cell_type": "markdown",
   "metadata": {},
   "source": [
    "### 2.1: Apply Feature Scaling"
   ]
  },
  {
   "cell_type": "code",
   "execution_count": 29,
   "metadata": {},
   "outputs": [
    {
     "name": "stderr",
     "output_type": "stream",
     "text": [
      "/Users/bmsbm/anaconda3/lib/python3.6/site-packages/sklearn/preprocessing/data.py:625: DataConversionWarning: Data with input dtype uint8, int64, float64 were all converted to float64 by StandardScaler.\n",
      "  return self.partial_fit(X, y)\n",
      "/Users/bmsbm/anaconda3/lib/python3.6/site-packages/sklearn/base.py:462: DataConversionWarning: Data with input dtype uint8, int64, float64 were all converted to float64 by StandardScaler.\n",
      "  return self.fit(X, **fit_params).transform(X)\n"
     ]
    }
   ],
   "source": [
    "scaler = StandardScaler()\n",
    "standard_scaled_azdias = scaler.fit_transform(azdias)\n",
    "standard_scaled_azdias = pd.DataFrame(standard_scaled_azdias, columns=list(azdias))"
   ]
  },
  {
   "cell_type": "markdown",
   "metadata": {},
   "source": [
    "### Step 2.2: Dimensionality Reduction"
   ]
  },
  {
   "cell_type": "code",
   "execution_count": 30,
   "metadata": {},
   "outputs": [],
   "source": [
    "# Apply PCA to the data.\n",
    "pca = PCA()\n",
    "pca.fit(standard_scaled_azdias);"
   ]
  },
  {
   "cell_type": "code",
   "execution_count": 31,
   "metadata": {},
   "outputs": [
    {
     "data": {
      "image/png": "[encoded data removed]",
      "text/plain": [
       "<Figure size 720x360 with 1 Axes>"
      ]
     },
     "metadata": {},
     "output_type": "display_data"
    }
   ],
   "source": [
    "t.pca_variance_explained(pca)"
   ]
  },
  {
   "cell_type": "code",
   "execution_count": 32,
   "metadata": {},
   "outputs": [
    {
     "data": {
      "image/png": "[encoded data removed]",
      "text/plain": [
       "<Figure size 720x360 with 1 Axes>"
      ]
     },
     "metadata": {},
     "output_type": "display_data"
    }
   ],
   "source": [
    "y1 = t.scree_plot(pca)"
   ]
  },
  {
   "cell_type": "code",
   "execution_count": 33,
   "metadata": {},
   "outputs": [
    {
     "name": "stdout",
     "output_type": "stream",
     "text": [
      "We retain 149 components for analysis because they explain 90% of the variance in the data.\n"
     ]
    }
   ],
   "source": [
    "threshold = 0.90\n",
    "number_components = int(np.argwhere(y1>=threshold)[1])\n",
    "print(\"We retain {} components for analysis because they explain {}% of the variance in the data.\" \n",
    "      .format(number_components, int(threshold*100)))"
   ]
  },
  {
   "cell_type": "code",
   "execution_count": 34,
   "metadata": {},
   "outputs": [],
   "source": [
    "# Re-apply PCA to the data while selecting for number of components to retain.\n",
    "pca = PCA(n_components=number_components)\n",
    "azdias = pca.fit_transform(standard_scaled_azdias);"
   ]
  },
  {
   "cell_type": "code",
   "execution_count": 35,
   "metadata": {},
   "outputs": [
    {
     "data": {
      "text/html": [
       "<div>\n",
       "<style scoped>\n",
       "    .dataframe tbody tr th:only-of-type {\n",
       "        vertical-align: middle;\n",
       "    }\n",
       "\n",
       "    .dataframe tbody tr th {\n",
       "        vertical-align: top;\n",
       "    }\n",
       "\n",
       "    .dataframe thead th {\n",
       "        text-align: right;\n",
       "    }\n",
       "</style>\n",
       "<table border=\"1\" class=\"dataframe\">\n",
       "  <thead>\n",
       "    <tr style=\"text-align: right;\">\n",
       "      <th></th>\n",
       "      <th>0</th>\n",
       "      <th>1</th>\n",
       "      <th>2</th>\n",
       "      <th>3</th>\n",
       "      <th>4</th>\n",
       "      <th>5</th>\n",
       "      <th>6</th>\n",
       "      <th>7</th>\n",
       "      <th>8</th>\n",
       "      <th>9</th>\n",
       "      <th>...</th>\n",
       "      <th>139</th>\n",
       "      <th>140</th>\n",
       "      <th>141</th>\n",
       "      <th>142</th>\n",
       "      <th>143</th>\n",
       "      <th>144</th>\n",
       "      <th>145</th>\n",
       "      <th>146</th>\n",
       "      <th>147</th>\n",
       "      <th>148</th>\n",
       "    </tr>\n",
       "  </thead>\n",
       "  <tbody>\n",
       "    <tr>\n",
       "      <th>0</th>\n",
       "      <td>0.460250</td>\n",
       "      <td>5.443414</td>\n",
       "      <td>-4.931613</td>\n",
       "      <td>-0.568317</td>\n",
       "      <td>-4.153886</td>\n",
       "      <td>3.300563</td>\n",
       "      <td>0.823072</td>\n",
       "      <td>0.139253</td>\n",
       "      <td>2.208483</td>\n",
       "      <td>3.447362</td>\n",
       "      <td>...</td>\n",
       "      <td>0.762740</td>\n",
       "      <td>-0.654525</td>\n",
       "      <td>1.755163</td>\n",
       "      <td>0.123976</td>\n",
       "      <td>0.688717</td>\n",
       "      <td>-0.062906</td>\n",
       "      <td>0.082184</td>\n",
       "      <td>-1.413839</td>\n",
       "      <td>0.023688</td>\n",
       "      <td>-0.815258</td>\n",
       "    </tr>\n",
       "    <tr>\n",
       "      <th>1</th>\n",
       "      <td>-2.666139</td>\n",
       "      <td>1.485633</td>\n",
       "      <td>0.088738</td>\n",
       "      <td>3.082268</td>\n",
       "      <td>-3.741324</td>\n",
       "      <td>-5.631023</td>\n",
       "      <td>-1.565468</td>\n",
       "      <td>-1.696181</td>\n",
       "      <td>-0.576523</td>\n",
       "      <td>-1.504971</td>\n",
       "      <td>...</td>\n",
       "      <td>1.666393</td>\n",
       "      <td>-0.484829</td>\n",
       "      <td>0.255422</td>\n",
       "      <td>1.551450</td>\n",
       "      <td>0.291942</td>\n",
       "      <td>-0.836788</td>\n",
       "      <td>0.240241</td>\n",
       "      <td>-0.234252</td>\n",
       "      <td>0.494499</td>\n",
       "      <td>0.220005</td>\n",
       "    </tr>\n",
       "    <tr>\n",
       "      <th>2</th>\n",
       "      <td>-5.493665</td>\n",
       "      <td>-1.781194</td>\n",
       "      <td>1.423101</td>\n",
       "      <td>-1.405365</td>\n",
       "      <td>-1.875322</td>\n",
       "      <td>1.535724</td>\n",
       "      <td>-2.237451</td>\n",
       "      <td>0.798089</td>\n",
       "      <td>-2.267783</td>\n",
       "      <td>2.242555</td>\n",
       "      <td>...</td>\n",
       "      <td>0.555715</td>\n",
       "      <td>-1.319714</td>\n",
       "      <td>0.492247</td>\n",
       "      <td>-0.759276</td>\n",
       "      <td>-0.315043</td>\n",
       "      <td>-0.290671</td>\n",
       "      <td>-0.908196</td>\n",
       "      <td>-0.657733</td>\n",
       "      <td>0.486530</td>\n",
       "      <td>-0.157349</td>\n",
       "    </tr>\n",
       "    <tr>\n",
       "      <th>3</th>\n",
       "      <td>-1.207028</td>\n",
       "      <td>2.326690</td>\n",
       "      <td>0.108211</td>\n",
       "      <td>-0.474516</td>\n",
       "      <td>3.593316</td>\n",
       "      <td>-2.077641</td>\n",
       "      <td>-1.365377</td>\n",
       "      <td>0.423716</td>\n",
       "      <td>-4.526299</td>\n",
       "      <td>0.926511</td>\n",
       "      <td>...</td>\n",
       "      <td>-0.123229</td>\n",
       "      <td>0.236766</td>\n",
       "      <td>2.166383</td>\n",
       "      <td>0.931681</td>\n",
       "      <td>-0.287767</td>\n",
       "      <td>-0.623507</td>\n",
       "      <td>-0.089900</td>\n",
       "      <td>-0.412394</td>\n",
       "      <td>0.655188</td>\n",
       "      <td>-1.136259</td>\n",
       "    </tr>\n",
       "    <tr>\n",
       "      <th>4</th>\n",
       "      <td>-3.346742</td>\n",
       "      <td>0.726831</td>\n",
       "      <td>-1.158231</td>\n",
       "      <td>0.596629</td>\n",
       "      <td>-1.828809</td>\n",
       "      <td>0.395601</td>\n",
       "      <td>-2.137830</td>\n",
       "      <td>-0.944972</td>\n",
       "      <td>-0.022268</td>\n",
       "      <td>1.634241</td>\n",
       "      <td>...</td>\n",
       "      <td>-0.951678</td>\n",
       "      <td>0.289120</td>\n",
       "      <td>0.343455</td>\n",
       "      <td>-0.547591</td>\n",
       "      <td>-1.185698</td>\n",
       "      <td>-0.493840</td>\n",
       "      <td>-0.630969</td>\n",
       "      <td>-0.415617</td>\n",
       "      <td>0.239895</td>\n",
       "      <td>0.547337</td>\n",
       "    </tr>\n",
       "  </tbody>\n",
       "</table>\n",
       "<p>5 rows × 149 columns</p>\n",
       "</div>"
      ],
      "text/plain": [
       "        0         1         2         3         4         5         6    \\\n",
       "0  0.460250  5.443414 -4.931613 -0.568317 -4.153886  3.300563  0.823072   \n",
       "1 -2.666139  1.485633  0.088738  3.082268 -3.741324 -5.631023 -1.565468   \n",
       "2 -5.493665 -1.781194  1.423101 -1.405365 -1.875322  1.535724 -2.237451   \n",
       "3 -1.207028  2.326690  0.108211 -0.474516  3.593316 -2.077641 -1.365377   \n",
       "4 -3.346742  0.726831 -1.158231  0.596629 -1.828809  0.395601 -2.137830   \n",
       "\n",
       "        7         8         9      ...          139       140       141  \\\n",
       "0  0.139253  2.208483  3.447362    ...     0.762740 -0.654525  1.755163   \n",
       "1 -1.696181 -0.576523 -1.504971    ...     1.666393 -0.484829  0.255422   \n",
       "2  0.798089 -2.267783  2.242555    ...     0.555715 -1.319714  0.492247   \n",
       "3  0.423716 -4.526299  0.926511    ...    -0.123229  0.236766  2.166383   \n",
       "4 -0.944972 -0.022268  1.634241    ...    -0.951678  0.289120  0.343455   \n",
       "\n",
       "        142       143       144       145       146       147       148  \n",
       "0  0.123976  0.688717 -0.062906  0.082184 -1.413839  0.023688 -0.815258  \n",
       "1  1.551450  0.291942 -0.836788  0.240241 -0.234252  0.494499  0.220005  \n",
       "2 -0.759276 -0.315043 -0.290671 -0.908196 -0.657733  0.486530 -0.157349  \n",
       "3  0.931681 -0.287767 -0.623507 -0.089900 -0.412394  0.655188 -1.136259  \n",
       "4 -0.547591 -1.185698 -0.493840 -0.630969 -0.415617  0.239895  0.547337  \n",
       "\n",
       "[5 rows x 149 columns]"
      ]
     },
     "execution_count": 35,
     "metadata": {},
     "output_type": "execute_result"
    }
   ],
   "source": [
    "azdias = pd.DataFrame(azdias)\n",
    "azdias.head()"
   ]
  },
  {
   "cell_type": "markdown",
   "metadata": {},
   "source": [
    "### Discussion 2.2: Perform Dimensionality Reduction\n",
    "\n",
    "I decided to retain 149 components for the rest of the analysis, because they explain 90% of the variance in the data."
   ]
  },
  {
   "cell_type": "markdown",
   "metadata": {},
   "source": [
    "### Step 2.3: Interpret Principal Components"
   ]
  },
  {
   "cell_type": "code",
   "execution_count": 36,
   "metadata": {},
   "outputs": [
    {
     "name": "stdout",
     "output_type": "stream",
     "text": [
      "MOBI_REGIO           -0.146688\n",
      "PLZ8_ANTG1           -0.145331\n",
      "KBA05_ANTG1          -0.141622\n",
      "PLZ8_ANTG3            0.138461\n",
      "CAMEO_INTL_wealth     0.149299\n",
      "HH_EINKOMMEN_SCORE    0.150089\n",
      "Name: 0, dtype: float64\n"
     ]
    }
   ],
   "source": [
    "print(t.pca_results(pca, 0, columns=list(standard_scaled_azdias.columns)))"
   ]
  },
  {
   "cell_type": "code",
   "execution_count": 37,
   "metadata": {},
   "outputs": [
    {
     "name": "stdout",
     "output_type": "stream",
     "text": [
      "KBA13_ALTERHALTER_60          -0.150575\n",
      "KBA13_HALTER_20               -0.136101\n",
      "KBA13_HALTER_55               -0.135422\n",
      "KBA13_SEG_OBEREMITTELKLASSE    0.151122\n",
      "EWDICHTE                       0.159832\n",
      "KBA13_HERST_BMW_BENZ           0.171551\n",
      "Name: 1, dtype: float64\n"
     ]
    }
   ],
   "source": [
    "# Map weights for the second principal component to corresponding feature names\n",
    "# and then print the linked values, sorted by weight.\n",
    "print(t.pca_results(pca, 1, columns=list(standard_scaled_azdias.columns)))"
   ]
  },
  {
   "cell_type": "code",
   "execution_count": 38,
   "metadata": {},
   "outputs": [
    {
     "name": "stdout",
     "output_type": "stream",
     "text": [
      "FINANZ_SPARER          -0.234084\n",
      "PJ_decade              -0.232515\n",
      "SEMIO_REL              -0.218004\n",
      "ZABEOTYP_3              0.185896\n",
      "FINANZ_VORSORGER        0.208312\n",
      "ALTERSKATEGORIE_GROB    0.229199\n",
      "Name: 2, dtype: float64\n"
     ]
    }
   ],
   "source": [
    "# Map weights for the third principal component to corresponding feature names\n",
    "# and then print the linked values, sorted by weight.\n",
    "print(t.pca_results(pca, 2, columns=list(standard_scaled_azdias.columns)))"
   ]
  },
  {
   "cell_type": "markdown",
   "metadata": {},
   "source": [
    "### Discussion 2.3: Interpret Principal Components\n",
    "\n",
    "For the sake of simplicity, I will consider the first three and last three elements in each principal component.\n",
    "\n",
    "#### First Principal Component:\n",
    "This component is negatively correlated with the features associated with movement patterns (with high values indicating low movement), low financial interest typology (with high values indicating a low dimension) and number of 1-2 family houses in the KBA05 microcell (high values here indicate a high number of of such houses in the microcell).\n",
    "\n",
    "It is positively correlated with the features associated with low-income earners, number of 6-10 family houses in the PLZ8 region, and the type of building in the region (with high values suggesting mostly 10+ family buildings and business buildings)\n",
    "\n",
    "It can be interpreted as a measure of how suburban an area is - positive values for this component would indicate that we are dealing with a suburban, family-oriented, residential area, where people tend to live in the same place for a long time and do not move around very much. A negative value here would indicate that we are dealing with highly mobile, less family-oriented people.\n",
    "\n",
    "\n",
    "#### Second Principal Component:\n",
    "This component is negatively correlated with the features indicating decade of a person's youth (with high values indicating those whose youth was in the 80s and 90s - millenials), religious affinity (with high values here indicating low religious affinity), and being a money saver (high values here indicating a low tendency).\n",
    "\n",
    "It is positively correlated with the features representing age (with high values indicating older people), a financial typology of \"be-prepared\" (high values indicating a low interest), affinity for events (with high values indicating a low affinity for events) and energy consumption typology (with high values tending to indicate indifference).\n",
    "\n",
    "This component can be viewed as a measure of a person's stage in life and worldview. A positive value here indicates a an older, more religious, dutiful person, who has a low affinity for events and is generally unprepared for major expenditures.\n",
    "\n",
    "\n",
    "#### Third Principal Component\n",
    "This component is negatively correlated with Gender (Higher values indicate females), a combative attitude and being dominant-minded ( with higher values indicating low combativeness and dominant-mindedness respectively)\n",
    "\n",
    "It is positively correlated with features representing dreamfulness, social-mindedness and family-mindedness. For all three of these features, high values indicate low affinities.\n",
    "\n",
    "This component can therefore be viewed as a measure of a person's gender and worldview. A positive value here would indicate a male who is combative and dominant-minded, a negative value would indicate a female who is dreamful, family-minded and socially-minded."
   ]
  },
  {
   "cell_type": "markdown",
   "metadata": {},
   "source": [
    "## Step 3: Clustering\n",
    "\n",
    "### Step 3.1: Apply Clustering to General Population"
   ]
  },
  {
   "cell_type": "code",
   "execution_count": 39,
   "metadata": {},
   "outputs": [
    {
     "data": {
      "image/png": "[encoded data removed]",
      "text/plain": [
       "<Figure size 1080x720 with 1 Axes>"
      ]
     },
     "metadata": {},
     "output_type": "display_data"
    }
   ],
   "source": [
    "t.scree_plot_clusters(azdias, max_centers=30)"
   ]
  },
  {
   "cell_type": "code",
   "execution_count": 40,
   "metadata": {},
   "outputs": [],
   "source": [
    "# Re-fit the k-means model with the selected number of clusters and obtain\n",
    "# cluster predictions for the general population demographics data.\n",
    "kmeans = KMeans(n_clusters = 16)\n",
    "azdias_clusters = kmeans.fit_predict(azdias);"
   ]
  },
  {
   "cell_type": "markdown",
   "metadata": {},
   "source": [
    "### Discussion 3.1: Apply Clustering to General Population\n",
    "\n",
    "There is an elbow at K=16 clusters, and so I segment the population into 16 clusters."
   ]
  },
  {
   "cell_type": "markdown",
   "metadata": {},
   "source": [
    "### Step 3.2: Applying All Steps to the Customer Data\n",
    "\n",
    "It's now time to see how the customer data maps on to the clusters from the general population. I will use the fits from the general population to clean, transform, and cluster the customer dataand then interpret how the general population fits apply to the customer data."
   ]
  },
  {
   "cell_type": "code",
   "execution_count": 41,
   "metadata": {},
   "outputs": [],
   "source": [
    "# Load in the customer demographics data.\n",
    "customers = pd.read_csv(\"Udacity_CUSTOMERS_052018.csv\", sep=\";\", dtype = {18: 'str', 19: 'str'})"
   ]
  },
  {
   "cell_type": "code",
   "execution_count": 42,
   "metadata": {},
   "outputs": [
    {
     "name": "stdout",
     "output_type": "stream",
     "text": [
      "Drop columns with more than 20% missing values\n",
      "Drop rows with more than 25 missing values\n",
      "Re-encode 'OST_WEST_KZ'\n",
      "Imputing missing values for features\n",
      "One-hot encoding of categorical variables\n",
      "Re-encoding categorical features done.\n",
      "Engineering mixed-type features\n",
      "Engineering mixed-type features done\n"
     ]
    }
   ],
   "source": [
    "#Clean the customer demographics data.\n",
    "new_customers = t.clean_data(customers, feat_info)"
   ]
  },
  {
   "cell_type": "code",
   "execution_count": 43,
   "metadata": {},
   "outputs": [
    {
     "name": "stderr",
     "output_type": "stream",
     "text": [
      "/Users/bmsbm/anaconda3/lib/python3.6/site-packages/ipykernel_launcher.py:1: DataConversionWarning: Data with input dtype uint8, int64, float64 were all converted to float64 by StandardScaler.\n",
      "  \"\"\"Entry point for launching an IPython kernel.\n"
     ]
    }
   ],
   "source": [
    "standard_scaled_customers = scaler.transform(new_customers)\n",
    "standard_scaled_customers = pd.DataFrame(standard_scaled_customers, columns=list(new_customers))\n",
    "\n",
    "customer_df = pd.DataFrame(pca.transform(standard_scaled_customers))\n",
    "\n",
    "customer_clusters = kmeans.predict(customer_df);"
   ]
  },
  {
   "cell_type": "markdown",
   "metadata": {},
   "source": [
    "### Step 3.3: Compare Customer Data to Demographics Data\n",
    "\n",
    "Here, I compare the two cluster distributions to see where the strongest customer base for the company is."
   ]
  },
  {
   "cell_type": "code",
   "execution_count": 44,
   "metadata": {},
   "outputs": [],
   "source": [
    "# Compare the proportion of data in each cluster for the customer data to the\n",
    "# proportion of data in each cluster for the general population.\n",
    "\n",
    "K = 16\n",
    "n_general = []\n",
    "n_customer = []\n",
    "for i in range(K):\n",
    "    n_general.append(np.argwhere(azdias_clusters==i).shape[0]/azdias_clusters.shape[0])\n",
    "    n_customer.append(np.argwhere(customer_clusters==i).shape[0]/customer_clusters.shape[0])"
   ]
  },
  {
   "cell_type": "code",
   "execution_count": 45,
   "metadata": {},
   "outputs": [],
   "source": [
    "# A dataframe with the proportion of data in each cluster for the customer data \n",
    "# and the general population\n",
    "\n",
    "label_counts = pd.DataFrame({'General Dataset': n_general})\n",
    "label_counts['Customer Dataset'] = pd.Series(n_customer)\n",
    "label_counts['Clusters'] = pd.Series(list(range(K)))"
   ]
  },
  {
   "cell_type": "code",
   "execution_count": 46,
   "metadata": {},
   "outputs": [
    {
     "data": {
      "image/png": "[encoded data removed]",
      "text/plain": [
       "<Figure size 1080x720 with 1 Axes>"
      ]
     },
     "metadata": {},
     "output_type": "display_data"
    }
   ],
   "source": [
    "# Plotting bar chart to visualize these proportions\n",
    "\n",
    "N = K\n",
    "customer_props = label_counts['Customer Dataset']\n",
    "general_props = label_counts['General Dataset']\n",
    "\n",
    "ind = np.arange(N) \n",
    "width = 0.35 \n",
    "\n",
    "plt.figure(figsize=(15,10))\n",
    "plt.bar(ind, general_props, width, color='green', label='General')\n",
    "plt.bar(ind + width, customer_props, width, color='red',\n",
    "    label='Customer')\n",
    "\n",
    "plt.ylabel('Proportion')\n",
    "plt.xlabel('Cluster')\n",
    "plt.title('Proportion of data points in each cluster for the General and Customer datasets')\n",
    "\n",
    "plt.xticks(ind + width / 2, range(N))\n",
    "plt.legend(loc='best')\n",
    "sns.despine()\n",
    "plt.show()"
   ]
  },
  {
   "cell_type": "code",
   "execution_count": 47,
   "metadata": {},
   "outputs": [],
   "source": [
    "customer_df['labels'] = customer_clusters"
   ]
  },
  {
   "cell_type": "code",
   "execution_count": 54,
   "metadata": {},
   "outputs": [
    {
     "data": {
      "text/html": [
       "<div>\n",
       "<style scoped>\n",
       "    .dataframe tbody tr th:only-of-type {\n",
       "        vertical-align: middle;\n",
       "    }\n",
       "\n",
       "    .dataframe tbody tr th {\n",
       "        vertical-align: top;\n",
       "    }\n",
       "\n",
       "    .dataframe thead th {\n",
       "        text-align: right;\n",
       "    }\n",
       "</style>\n",
       "<table border=\"1\" class=\"dataframe\">\n",
       "  <thead>\n",
       "    <tr style=\"text-align: right;\">\n",
       "      <th></th>\n",
       "      <th>0</th>\n",
       "      <th>1</th>\n",
       "      <th>2</th>\n",
       "      <th>3</th>\n",
       "      <th>4</th>\n",
       "      <th>5</th>\n",
       "      <th>6</th>\n",
       "      <th>7</th>\n",
       "      <th>8</th>\n",
       "      <th>9</th>\n",
       "      <th>...</th>\n",
       "      <th>140</th>\n",
       "      <th>141</th>\n",
       "      <th>142</th>\n",
       "      <th>143</th>\n",
       "      <th>144</th>\n",
       "      <th>145</th>\n",
       "      <th>146</th>\n",
       "      <th>147</th>\n",
       "      <th>148</th>\n",
       "      <th>labels</th>\n",
       "    </tr>\n",
       "  </thead>\n",
       "  <tbody>\n",
       "    <tr>\n",
       "      <th>615</th>\n",
       "      <td>2.541546</td>\n",
       "      <td>-0.268978</td>\n",
       "      <td>-1.536174</td>\n",
       "      <td>0.066945</td>\n",
       "      <td>-3.128440</td>\n",
       "      <td>-3.311023</td>\n",
       "      <td>1.208914</td>\n",
       "      <td>-0.140270</td>\n",
       "      <td>2.278676</td>\n",
       "      <td>-0.562859</td>\n",
       "      <td>...</td>\n",
       "      <td>0.850386</td>\n",
       "      <td>-1.066725</td>\n",
       "      <td>0.284523</td>\n",
       "      <td>-0.161170</td>\n",
       "      <td>-0.354726</td>\n",
       "      <td>0.794763</td>\n",
       "      <td>1.261513</td>\n",
       "      <td>-1.096410</td>\n",
       "      <td>-0.491802</td>\n",
       "      <td>11</td>\n",
       "    </tr>\n",
       "    <tr>\n",
       "      <th>891</th>\n",
       "      <td>6.908519</td>\n",
       "      <td>1.290360</td>\n",
       "      <td>0.098081</td>\n",
       "      <td>-0.805073</td>\n",
       "      <td>-0.753663</td>\n",
       "      <td>-2.059106</td>\n",
       "      <td>3.642403</td>\n",
       "      <td>-0.425583</td>\n",
       "      <td>-1.180314</td>\n",
       "      <td>2.634196</td>\n",
       "      <td>...</td>\n",
       "      <td>0.013991</td>\n",
       "      <td>-1.528582</td>\n",
       "      <td>1.631473</td>\n",
       "      <td>0.758237</td>\n",
       "      <td>0.391584</td>\n",
       "      <td>-1.013170</td>\n",
       "      <td>-0.879443</td>\n",
       "      <td>-0.988720</td>\n",
       "      <td>1.352214</td>\n",
       "      <td>11</td>\n",
       "    </tr>\n",
       "    <tr>\n",
       "      <th>1689</th>\n",
       "      <td>4.637611</td>\n",
       "      <td>3.480739</td>\n",
       "      <td>-2.846930</td>\n",
       "      <td>-0.484473</td>\n",
       "      <td>-3.137717</td>\n",
       "      <td>-2.284502</td>\n",
       "      <td>0.260927</td>\n",
       "      <td>1.401312</td>\n",
       "      <td>-0.432154</td>\n",
       "      <td>-4.508472</td>\n",
       "      <td>...</td>\n",
       "      <td>0.245034</td>\n",
       "      <td>0.309117</td>\n",
       "      <td>0.049556</td>\n",
       "      <td>-0.277346</td>\n",
       "      <td>0.292870</td>\n",
       "      <td>-0.396778</td>\n",
       "      <td>1.230849</td>\n",
       "      <td>-0.587004</td>\n",
       "      <td>-0.000572</td>\n",
       "      <td>11</td>\n",
       "    </tr>\n",
       "    <tr>\n",
       "      <th>1785</th>\n",
       "      <td>1.736757</td>\n",
       "      <td>2.842079</td>\n",
       "      <td>-1.987520</td>\n",
       "      <td>-2.376865</td>\n",
       "      <td>-1.957643</td>\n",
       "      <td>-3.913171</td>\n",
       "      <td>-2.645547</td>\n",
       "      <td>3.279466</td>\n",
       "      <td>-2.532449</td>\n",
       "      <td>3.270860</td>\n",
       "      <td>...</td>\n",
       "      <td>-0.218156</td>\n",
       "      <td>1.201922</td>\n",
       "      <td>-0.043225</td>\n",
       "      <td>-0.325570</td>\n",
       "      <td>0.638607</td>\n",
       "      <td>-0.369178</td>\n",
       "      <td>1.153931</td>\n",
       "      <td>0.688647</td>\n",
       "      <td>-0.627259</td>\n",
       "      <td>11</td>\n",
       "    </tr>\n",
       "    <tr>\n",
       "      <th>2077</th>\n",
       "      <td>2.823281</td>\n",
       "      <td>3.345518</td>\n",
       "      <td>-0.381797</td>\n",
       "      <td>-1.503889</td>\n",
       "      <td>0.246353</td>\n",
       "      <td>0.147179</td>\n",
       "      <td>7.417540</td>\n",
       "      <td>4.220057</td>\n",
       "      <td>-1.685754</td>\n",
       "      <td>-1.849358</td>\n",
       "      <td>...</td>\n",
       "      <td>0.647917</td>\n",
       "      <td>-0.280873</td>\n",
       "      <td>-0.369002</td>\n",
       "      <td>0.025177</td>\n",
       "      <td>1.122592</td>\n",
       "      <td>0.733521</td>\n",
       "      <td>-1.076513</td>\n",
       "      <td>-0.572583</td>\n",
       "      <td>-0.140376</td>\n",
       "      <td>11</td>\n",
       "    </tr>\n",
       "    <tr>\n",
       "      <th>2719</th>\n",
       "      <td>7.729814</td>\n",
       "      <td>-0.679545</td>\n",
       "      <td>-1.856299</td>\n",
       "      <td>-2.105838</td>\n",
       "      <td>-0.995464</td>\n",
       "      <td>-4.261543</td>\n",
       "      <td>3.715748</td>\n",
       "      <td>-2.620405</td>\n",
       "      <td>1.103294</td>\n",
       "      <td>0.195406</td>\n",
       "      <td>...</td>\n",
       "      <td>0.630665</td>\n",
       "      <td>1.040287</td>\n",
       "      <td>-0.072240</td>\n",
       "      <td>1.258374</td>\n",
       "      <td>0.529447</td>\n",
       "      <td>1.162151</td>\n",
       "      <td>-0.003062</td>\n",
       "      <td>-0.941672</td>\n",
       "      <td>0.309179</td>\n",
       "      <td>11</td>\n",
       "    </tr>\n",
       "    <tr>\n",
       "      <th>2776</th>\n",
       "      <td>4.876148</td>\n",
       "      <td>5.600104</td>\n",
       "      <td>-1.881360</td>\n",
       "      <td>1.040031</td>\n",
       "      <td>-1.809265</td>\n",
       "      <td>-3.219341</td>\n",
       "      <td>1.108276</td>\n",
       "      <td>1.601579</td>\n",
       "      <td>3.147819</td>\n",
       "      <td>0.469408</td>\n",
       "      <td>...</td>\n",
       "      <td>-0.669921</td>\n",
       "      <td>0.436512</td>\n",
       "      <td>-1.697491</td>\n",
       "      <td>-0.026377</td>\n",
       "      <td>0.792795</td>\n",
       "      <td>-0.656861</td>\n",
       "      <td>0.213462</td>\n",
       "      <td>0.590906</td>\n",
       "      <td>0.664621</td>\n",
       "      <td>11</td>\n",
       "    </tr>\n",
       "    <tr>\n",
       "      <th>3660</th>\n",
       "      <td>2.256998</td>\n",
       "      <td>3.484697</td>\n",
       "      <td>-2.075723</td>\n",
       "      <td>-2.006263</td>\n",
       "      <td>-3.314120</td>\n",
       "      <td>-2.200823</td>\n",
       "      <td>3.175614</td>\n",
       "      <td>0.941613</td>\n",
       "      <td>1.945187</td>\n",
       "      <td>-1.644111</td>\n",
       "      <td>...</td>\n",
       "      <td>-0.003293</td>\n",
       "      <td>-0.237284</td>\n",
       "      <td>-2.023159</td>\n",
       "      <td>-0.411377</td>\n",
       "      <td>0.911346</td>\n",
       "      <td>-1.340478</td>\n",
       "      <td>-0.376129</td>\n",
       "      <td>0.029280</td>\n",
       "      <td>0.059029</td>\n",
       "      <td>11</td>\n",
       "    </tr>\n",
       "    <tr>\n",
       "      <th>3933</th>\n",
       "      <td>0.309854</td>\n",
       "      <td>1.111813</td>\n",
       "      <td>-1.696225</td>\n",
       "      <td>-1.113891</td>\n",
       "      <td>0.891373</td>\n",
       "      <td>-3.352820</td>\n",
       "      <td>3.316667</td>\n",
       "      <td>3.948435</td>\n",
       "      <td>1.716352</td>\n",
       "      <td>4.485794</td>\n",
       "      <td>...</td>\n",
       "      <td>-1.234217</td>\n",
       "      <td>1.313233</td>\n",
       "      <td>1.540929</td>\n",
       "      <td>-0.329925</td>\n",
       "      <td>0.225150</td>\n",
       "      <td>-0.535256</td>\n",
       "      <td>-0.043805</td>\n",
       "      <td>-0.415192</td>\n",
       "      <td>-0.075850</td>\n",
       "      <td>11</td>\n",
       "    </tr>\n",
       "    <tr>\n",
       "      <th>4257</th>\n",
       "      <td>3.294639</td>\n",
       "      <td>0.721783</td>\n",
       "      <td>0.470296</td>\n",
       "      <td>0.160482</td>\n",
       "      <td>-1.293820</td>\n",
       "      <td>-2.281277</td>\n",
       "      <td>1.182475</td>\n",
       "      <td>0.599429</td>\n",
       "      <td>-0.064685</td>\n",
       "      <td>-4.235311</td>\n",
       "      <td>...</td>\n",
       "      <td>-0.918780</td>\n",
       "      <td>-1.977526</td>\n",
       "      <td>0.901880</td>\n",
       "      <td>-0.569044</td>\n",
       "      <td>0.037540</td>\n",
       "      <td>-0.046495</td>\n",
       "      <td>-0.138056</td>\n",
       "      <td>-0.097808</td>\n",
       "      <td>1.089206</td>\n",
       "      <td>11</td>\n",
       "    </tr>\n",
       "    <tr>\n",
       "      <th>4285</th>\n",
       "      <td>4.560301</td>\n",
       "      <td>3.798993</td>\n",
       "      <td>-4.786643</td>\n",
       "      <td>-1.410036</td>\n",
       "      <td>-2.843277</td>\n",
       "      <td>-1.013885</td>\n",
       "      <td>-0.886077</td>\n",
       "      <td>2.730719</td>\n",
       "      <td>-1.418815</td>\n",
       "      <td>-2.535154</td>\n",
       "      <td>...</td>\n",
       "      <td>-0.739827</td>\n",
       "      <td>0.606133</td>\n",
       "      <td>0.422542</td>\n",
       "      <td>-1.638528</td>\n",
       "      <td>-0.675678</td>\n",
       "      <td>0.492256</td>\n",
       "      <td>0.766444</td>\n",
       "      <td>0.577637</td>\n",
       "      <td>-0.413334</td>\n",
       "      <td>11</td>\n",
       "    </tr>\n",
       "    <tr>\n",
       "      <th>4357</th>\n",
       "      <td>0.318697</td>\n",
       "      <td>5.012736</td>\n",
       "      <td>-2.538049</td>\n",
       "      <td>1.116806</td>\n",
       "      <td>-2.754224</td>\n",
       "      <td>1.683696</td>\n",
       "      <td>0.986737</td>\n",
       "      <td>-0.631967</td>\n",
       "      <td>-2.638433</td>\n",
       "      <td>1.474743</td>\n",
       "      <td>...</td>\n",
       "      <td>1.306247</td>\n",
       "      <td>0.243604</td>\n",
       "      <td>-0.617894</td>\n",
       "      <td>0.219946</td>\n",
       "      <td>0.435616</td>\n",
       "      <td>0.243358</td>\n",
       "      <td>0.293316</td>\n",
       "      <td>-0.018523</td>\n",
       "      <td>0.040733</td>\n",
       "      <td>11</td>\n",
       "    </tr>\n",
       "    <tr>\n",
       "      <th>4477</th>\n",
       "      <td>3.960490</td>\n",
       "      <td>-0.379659</td>\n",
       "      <td>-3.274045</td>\n",
       "      <td>-0.175247</td>\n",
       "      <td>-1.718047</td>\n",
       "      <td>-5.335372</td>\n",
       "      <td>-0.617869</td>\n",
       "      <td>-1.028882</td>\n",
       "      <td>1.012371</td>\n",
       "      <td>0.013675</td>\n",
       "      <td>...</td>\n",
       "      <td>0.117870</td>\n",
       "      <td>0.213637</td>\n",
       "      <td>0.365923</td>\n",
       "      <td>1.444312</td>\n",
       "      <td>0.781586</td>\n",
       "      <td>0.627151</td>\n",
       "      <td>1.388203</td>\n",
       "      <td>-0.384734</td>\n",
       "      <td>0.461277</td>\n",
       "      <td>11</td>\n",
       "    </tr>\n",
       "    <tr>\n",
       "      <th>5401</th>\n",
       "      <td>4.898222</td>\n",
       "      <td>4.730703</td>\n",
       "      <td>-2.849821</td>\n",
       "      <td>-1.219881</td>\n",
       "      <td>-0.666619</td>\n",
       "      <td>-1.957001</td>\n",
       "      <td>1.391686</td>\n",
       "      <td>1.080219</td>\n",
       "      <td>-1.400155</td>\n",
       "      <td>2.210028</td>\n",
       "      <td>...</td>\n",
       "      <td>-0.721118</td>\n",
       "      <td>0.189597</td>\n",
       "      <td>0.144842</td>\n",
       "      <td>-0.873301</td>\n",
       "      <td>1.144193</td>\n",
       "      <td>-0.578653</td>\n",
       "      <td>0.384311</td>\n",
       "      <td>1.250071</td>\n",
       "      <td>2.188614</td>\n",
       "      <td>11</td>\n",
       "    </tr>\n",
       "    <tr>\n",
       "      <th>5694</th>\n",
       "      <td>3.035951</td>\n",
       "      <td>1.240770</td>\n",
       "      <td>-3.084733</td>\n",
       "      <td>-0.141522</td>\n",
       "      <td>-3.040704</td>\n",
       "      <td>-1.973710</td>\n",
       "      <td>2.430194</td>\n",
       "      <td>-0.666091</td>\n",
       "      <td>0.106340</td>\n",
       "      <td>1.945287</td>\n",
       "      <td>...</td>\n",
       "      <td>1.212794</td>\n",
       "      <td>-0.318109</td>\n",
       "      <td>-0.081268</td>\n",
       "      <td>1.019349</td>\n",
       "      <td>-0.253980</td>\n",
       "      <td>-0.139101</td>\n",
       "      <td>-0.909189</td>\n",
       "      <td>-0.113496</td>\n",
       "      <td>-0.425512</td>\n",
       "      <td>11</td>\n",
       "    </tr>\n",
       "    <tr>\n",
       "      <th>5743</th>\n",
       "      <td>0.740631</td>\n",
       "      <td>3.928141</td>\n",
       "      <td>-3.154494</td>\n",
       "      <td>-0.390020</td>\n",
       "      <td>-1.420019</td>\n",
       "      <td>1.031802</td>\n",
       "      <td>5.099925</td>\n",
       "      <td>1.148805</td>\n",
       "      <td>1.712473</td>\n",
       "      <td>0.058183</td>\n",
       "      <td>...</td>\n",
       "      <td>-0.617346</td>\n",
       "      <td>-0.708126</td>\n",
       "      <td>-1.307296</td>\n",
       "      <td>0.781157</td>\n",
       "      <td>-0.383104</td>\n",
       "      <td>-1.204398</td>\n",
       "      <td>-0.819459</td>\n",
       "      <td>-1.381072</td>\n",
       "      <td>1.241789</td>\n",
       "      <td>11</td>\n",
       "    </tr>\n",
       "    <tr>\n",
       "      <th>6032</th>\n",
       "      <td>4.652924</td>\n",
       "      <td>3.256934</td>\n",
       "      <td>-1.965256</td>\n",
       "      <td>0.923293</td>\n",
       "      <td>-1.864878</td>\n",
       "      <td>1.250289</td>\n",
       "      <td>3.727373</td>\n",
       "      <td>-0.907923</td>\n",
       "      <td>0.797535</td>\n",
       "      <td>1.650826</td>\n",
       "      <td>...</td>\n",
       "      <td>-2.041279</td>\n",
       "      <td>-0.532445</td>\n",
       "      <td>-0.036368</td>\n",
       "      <td>-1.182494</td>\n",
       "      <td>-1.019582</td>\n",
       "      <td>-1.093293</td>\n",
       "      <td>-0.109225</td>\n",
       "      <td>0.626110</td>\n",
       "      <td>2.311443</td>\n",
       "      <td>11</td>\n",
       "    </tr>\n",
       "    <tr>\n",
       "      <th>6370</th>\n",
       "      <td>1.738012</td>\n",
       "      <td>0.520779</td>\n",
       "      <td>-4.106440</td>\n",
       "      <td>-2.779256</td>\n",
       "      <td>-1.410653</td>\n",
       "      <td>-4.472443</td>\n",
       "      <td>1.170741</td>\n",
       "      <td>-1.489883</td>\n",
       "      <td>2.420174</td>\n",
       "      <td>4.297340</td>\n",
       "      <td>...</td>\n",
       "      <td>0.904063</td>\n",
       "      <td>-0.428221</td>\n",
       "      <td>-0.682241</td>\n",
       "      <td>0.256975</td>\n",
       "      <td>-0.840970</td>\n",
       "      <td>-0.522350</td>\n",
       "      <td>0.578201</td>\n",
       "      <td>0.636727</td>\n",
       "      <td>-1.019281</td>\n",
       "      <td>11</td>\n",
       "    </tr>\n",
       "    <tr>\n",
       "      <th>6402</th>\n",
       "      <td>1.607252</td>\n",
       "      <td>0.324896</td>\n",
       "      <td>-4.042112</td>\n",
       "      <td>-0.899389</td>\n",
       "      <td>-3.354495</td>\n",
       "      <td>-0.788794</td>\n",
       "      <td>-1.053954</td>\n",
       "      <td>-3.802349</td>\n",
       "      <td>-2.134753</td>\n",
       "      <td>-0.047637</td>\n",
       "      <td>...</td>\n",
       "      <td>0.815695</td>\n",
       "      <td>0.361858</td>\n",
       "      <td>0.172836</td>\n",
       "      <td>0.077049</td>\n",
       "      <td>-0.192533</td>\n",
       "      <td>0.553002</td>\n",
       "      <td>0.144049</td>\n",
       "      <td>-1.645843</td>\n",
       "      <td>0.263629</td>\n",
       "      <td>11</td>\n",
       "    </tr>\n",
       "    <tr>\n",
       "      <th>6523</th>\n",
       "      <td>1.601030</td>\n",
       "      <td>3.155587</td>\n",
       "      <td>-0.977665</td>\n",
       "      <td>-1.844240</td>\n",
       "      <td>-2.767755</td>\n",
       "      <td>-0.194786</td>\n",
       "      <td>0.474244</td>\n",
       "      <td>-2.010046</td>\n",
       "      <td>-1.110201</td>\n",
       "      <td>-0.205538</td>\n",
       "      <td>...</td>\n",
       "      <td>-1.509008</td>\n",
       "      <td>-0.865676</td>\n",
       "      <td>0.485057</td>\n",
       "      <td>-1.026126</td>\n",
       "      <td>0.796722</td>\n",
       "      <td>-0.813673</td>\n",
       "      <td>-0.997925</td>\n",
       "      <td>-0.522150</td>\n",
       "      <td>0.641584</td>\n",
       "      <td>11</td>\n",
       "    </tr>\n",
       "  </tbody>\n",
       "</table>\n",
       "<p>20 rows × 150 columns</p>\n",
       "</div>"
      ],
      "text/plain": [
       "             0         1         2         3         4         5         6  \\\n",
       "615   2.541546 -0.268978 -1.536174  0.066945 -3.128440 -3.311023  1.208914   \n",
       "891   6.908519  1.290360  0.098081 -0.805073 -0.753663 -2.059106  3.642403   \n",
       "1689  4.637611  3.480739 -2.846930 -0.484473 -3.137717 -2.284502  0.260927   \n",
       "1785  1.736757  2.842079 -1.987520 -2.376865 -1.957643 -3.913171 -2.645547   \n",
       "2077  2.823281  3.345518 -0.381797 -1.503889  0.246353  0.147179  7.417540   \n",
       "2719  7.729814 -0.679545 -1.856299 -2.105838 -0.995464 -4.261543  3.715748   \n",
       "2776  4.876148  5.600104 -1.881360  1.040031 -1.809265 -3.219341  1.108276   \n",
       "3660  2.256998  3.484697 -2.075723 -2.006263 -3.314120 -2.200823  3.175614   \n",
       "3933  0.309854  1.111813 -1.696225 -1.113891  0.891373 -3.352820  3.316667   \n",
       "4257  3.294639  0.721783  0.470296  0.160482 -1.293820 -2.281277  1.182475   \n",
       "4285  4.560301  3.798993 -4.786643 -1.410036 -2.843277 -1.013885 -0.886077   \n",
       "4357  0.318697  5.012736 -2.538049  1.116806 -2.754224  1.683696  0.986737   \n",
       "4477  3.960490 -0.379659 -3.274045 -0.175247 -1.718047 -5.335372 -0.617869   \n",
       "5401  4.898222  4.730703 -2.849821 -1.219881 -0.666619 -1.957001  1.391686   \n",
       "5694  3.035951  1.240770 -3.084733 -0.141522 -3.040704 -1.973710  2.430194   \n",
       "5743  0.740631  3.928141 -3.154494 -0.390020 -1.420019  1.031802  5.099925   \n",
       "6032  4.652924  3.256934 -1.965256  0.923293 -1.864878  1.250289  3.727373   \n",
       "6370  1.738012  0.520779 -4.106440 -2.779256 -1.410653 -4.472443  1.170741   \n",
       "6402  1.607252  0.324896 -4.042112 -0.899389 -3.354495 -0.788794 -1.053954   \n",
       "6523  1.601030  3.155587 -0.977665 -1.844240 -2.767755 -0.194786  0.474244   \n",
       "\n",
       "             7         8         9   ...         140       141       142  \\\n",
       "615  -0.140270  2.278676 -0.562859   ...    0.850386 -1.066725  0.284523   \n",
       "891  -0.425583 -1.180314  2.634196   ...    0.013991 -1.528582  1.631473   \n",
       "1689  1.401312 -0.432154 -4.508472   ...    0.245034  0.309117  0.049556   \n",
       "1785  3.279466 -2.532449  3.270860   ...   -0.218156  1.201922 -0.043225   \n",
       "2077  4.220057 -1.685754 -1.849358   ...    0.647917 -0.280873 -0.369002   \n",
       "2719 -2.620405  1.103294  0.195406   ...    0.630665  1.040287 -0.072240   \n",
       "2776  1.601579  3.147819  0.469408   ...   -0.669921  0.436512 -1.697491   \n",
       "3660  0.941613  1.945187 -1.644111   ...   -0.003293 -0.237284 -2.023159   \n",
       "3933  3.948435  1.716352  4.485794   ...   -1.234217  1.313233  1.540929   \n",
       "4257  0.599429 -0.064685 -4.235311   ...   -0.918780 -1.977526  0.901880   \n",
       "4285  2.730719 -1.418815 -2.535154   ...   -0.739827  0.606133  0.422542   \n",
       "4357 -0.631967 -2.638433  1.474743   ...    1.306247  0.243604 -0.617894   \n",
       "4477 -1.028882  1.012371  0.013675   ...    0.117870  0.213637  0.365923   \n",
       "5401  1.080219 -1.400155  2.210028   ...   -0.721118  0.189597  0.144842   \n",
       "5694 -0.666091  0.106340  1.945287   ...    1.212794 -0.318109 -0.081268   \n",
       "5743  1.148805  1.712473  0.058183   ...   -0.617346 -0.708126 -1.307296   \n",
       "6032 -0.907923  0.797535  1.650826   ...   -2.041279 -0.532445 -0.036368   \n",
       "6370 -1.489883  2.420174  4.297340   ...    0.904063 -0.428221 -0.682241   \n",
       "6402 -3.802349 -2.134753 -0.047637   ...    0.815695  0.361858  0.172836   \n",
       "6523 -2.010046 -1.110201 -0.205538   ...   -1.509008 -0.865676  0.485057   \n",
       "\n",
       "           143       144       145       146       147       148  labels  \n",
       "615  -0.161170 -0.354726  0.794763  1.261513 -1.096410 -0.491802      11  \n",
       "891   0.758237  0.391584 -1.013170 -0.879443 -0.988720  1.352214      11  \n",
       "1689 -0.277346  0.292870 -0.396778  1.230849 -0.587004 -0.000572      11  \n",
       "1785 -0.325570  0.638607 -0.369178  1.153931  0.688647 -0.627259      11  \n",
       "2077  0.025177  1.122592  0.733521 -1.076513 -0.572583 -0.140376      11  \n",
       "2719  1.258374  0.529447  1.162151 -0.003062 -0.941672  0.309179      11  \n",
       "2776 -0.026377  0.792795 -0.656861  0.213462  0.590906  0.664621      11  \n",
       "3660 -0.411377  0.911346 -1.340478 -0.376129  0.029280  0.059029      11  \n",
       "3933 -0.329925  0.225150 -0.535256 -0.043805 -0.415192 -0.075850      11  \n",
       "4257 -0.569044  0.037540 -0.046495 -0.138056 -0.097808  1.089206      11  \n",
       "4285 -1.638528 -0.675678  0.492256  0.766444  0.577637 -0.413334      11  \n",
       "4357  0.219946  0.435616  0.243358  0.293316 -0.018523  0.040733      11  \n",
       "4477  1.444312  0.781586  0.627151  1.388203 -0.384734  0.461277      11  \n",
       "5401 -0.873301  1.144193 -0.578653  0.384311  1.250071  2.188614      11  \n",
       "5694  1.019349 -0.253980 -0.139101 -0.909189 -0.113496 -0.425512      11  \n",
       "5743  0.781157 -0.383104 -1.204398 -0.819459 -1.381072  1.241789      11  \n",
       "6032 -1.182494 -1.019582 -1.093293 -0.109225  0.626110  2.311443      11  \n",
       "6370  0.256975 -0.840970 -0.522350  0.578201  0.636727 -1.019281      11  \n",
       "6402  0.077049 -0.192533  0.553002  0.144049 -1.645843  0.263629      11  \n",
       "6523 -1.026126  0.796722 -0.813673 -0.997925 -0.522150  0.641584      11  \n",
       "\n",
       "[20 rows x 150 columns]"
      ]
     },
     "execution_count": 54,
     "metadata": {},
     "output_type": "execute_result"
    }
   ],
   "source": [
    "# People from cluster 11 are vastly overrepresented in general data compared to \n",
    "# customer population. We need to check it out.\n",
    "customer_df[customer_df.labels==11].head(20)"
   ]
  },
  {
   "cell_type": "code",
   "execution_count": 55,
   "metadata": {},
   "outputs": [
    {
     "data": {
      "text/html": [
       "<div>\n",
       "<style scoped>\n",
       "    .dataframe tbody tr th:only-of-type {\n",
       "        vertical-align: middle;\n",
       "    }\n",
       "\n",
       "    .dataframe tbody tr th {\n",
       "        vertical-align: top;\n",
       "    }\n",
       "\n",
       "    .dataframe thead th {\n",
       "        text-align: right;\n",
       "    }\n",
       "</style>\n",
       "<table border=\"1\" class=\"dataframe\">\n",
       "  <thead>\n",
       "    <tr style=\"text-align: right;\">\n",
       "      <th></th>\n",
       "      <th>0</th>\n",
       "      <th>1</th>\n",
       "      <th>2</th>\n",
       "      <th>3</th>\n",
       "      <th>4</th>\n",
       "      <th>5</th>\n",
       "      <th>6</th>\n",
       "      <th>7</th>\n",
       "      <th>8</th>\n",
       "      <th>9</th>\n",
       "      <th>...</th>\n",
       "      <th>140</th>\n",
       "      <th>141</th>\n",
       "      <th>142</th>\n",
       "      <th>143</th>\n",
       "      <th>144</th>\n",
       "      <th>145</th>\n",
       "      <th>146</th>\n",
       "      <th>147</th>\n",
       "      <th>148</th>\n",
       "      <th>labels</th>\n",
       "    </tr>\n",
       "  </thead>\n",
       "  <tbody>\n",
       "    <tr>\n",
       "      <th>36</th>\n",
       "      <td>-2.692433</td>\n",
       "      <td>-0.505821</td>\n",
       "      <td>-1.114639</td>\n",
       "      <td>0.986702</td>\n",
       "      <td>-1.719897</td>\n",
       "      <td>-1.113283</td>\n",
       "      <td>1.191160</td>\n",
       "      <td>1.351220</td>\n",
       "      <td>-0.057609</td>\n",
       "      <td>0.390031</td>\n",
       "      <td>...</td>\n",
       "      <td>-0.526605</td>\n",
       "      <td>0.137807</td>\n",
       "      <td>-0.063099</td>\n",
       "      <td>0.606680</td>\n",
       "      <td>0.976160</td>\n",
       "      <td>-0.965805</td>\n",
       "      <td>-0.266723</td>\n",
       "      <td>-0.016228</td>\n",
       "      <td>0.399402</td>\n",
       "      <td>6</td>\n",
       "    </tr>\n",
       "    <tr>\n",
       "      <th>37</th>\n",
       "      <td>-2.770575</td>\n",
       "      <td>-0.564157</td>\n",
       "      <td>-0.667232</td>\n",
       "      <td>0.829790</td>\n",
       "      <td>-1.681700</td>\n",
       "      <td>-1.021665</td>\n",
       "      <td>1.099244</td>\n",
       "      <td>1.345531</td>\n",
       "      <td>-0.074116</td>\n",
       "      <td>0.350197</td>\n",
       "      <td>...</td>\n",
       "      <td>-0.445800</td>\n",
       "      <td>0.098759</td>\n",
       "      <td>-0.074014</td>\n",
       "      <td>0.621887</td>\n",
       "      <td>0.957958</td>\n",
       "      <td>-0.948174</td>\n",
       "      <td>-0.272885</td>\n",
       "      <td>-0.142860</td>\n",
       "      <td>0.314787</td>\n",
       "      <td>6</td>\n",
       "    </tr>\n",
       "    <tr>\n",
       "      <th>38</th>\n",
       "      <td>-2.731504</td>\n",
       "      <td>-0.534989</td>\n",
       "      <td>-0.890936</td>\n",
       "      <td>0.908246</td>\n",
       "      <td>-1.700798</td>\n",
       "      <td>-1.067474</td>\n",
       "      <td>1.145202</td>\n",
       "      <td>1.348375</td>\n",
       "      <td>-0.065863</td>\n",
       "      <td>0.370114</td>\n",
       "      <td>...</td>\n",
       "      <td>-0.486202</td>\n",
       "      <td>0.118283</td>\n",
       "      <td>-0.068556</td>\n",
       "      <td>0.614283</td>\n",
       "      <td>0.967059</td>\n",
       "      <td>-0.956989</td>\n",
       "      <td>-0.269804</td>\n",
       "      <td>-0.079544</td>\n",
       "      <td>0.357095</td>\n",
       "      <td>6</td>\n",
       "    </tr>\n",
       "    <tr>\n",
       "      <th>39</th>\n",
       "      <td>-2.699866</td>\n",
       "      <td>-0.511431</td>\n",
       "      <td>-1.188822</td>\n",
       "      <td>1.073955</td>\n",
       "      <td>-1.074135</td>\n",
       "      <td>-0.947235</td>\n",
       "      <td>1.002992</td>\n",
       "      <td>1.209145</td>\n",
       "      <td>-0.023079</td>\n",
       "      <td>0.422602</td>\n",
       "      <td>...</td>\n",
       "      <td>-0.518944</td>\n",
       "      <td>0.145384</td>\n",
       "      <td>-0.062658</td>\n",
       "      <td>0.617024</td>\n",
       "      <td>0.982744</td>\n",
       "      <td>-0.942743</td>\n",
       "      <td>-0.265664</td>\n",
       "      <td>-0.026996</td>\n",
       "      <td>0.348026</td>\n",
       "      <td>6</td>\n",
       "    </tr>\n",
       "    <tr>\n",
       "      <th>40</th>\n",
       "      <td>-2.778008</td>\n",
       "      <td>-0.569768</td>\n",
       "      <td>-0.741414</td>\n",
       "      <td>0.917043</td>\n",
       "      <td>-1.035938</td>\n",
       "      <td>-0.855617</td>\n",
       "      <td>0.911075</td>\n",
       "      <td>1.203456</td>\n",
       "      <td>-0.039586</td>\n",
       "      <td>0.382768</td>\n",
       "      <td>...</td>\n",
       "      <td>-0.438140</td>\n",
       "      <td>0.106337</td>\n",
       "      <td>-0.073573</td>\n",
       "      <td>0.632231</td>\n",
       "      <td>0.964542</td>\n",
       "      <td>-0.925112</td>\n",
       "      <td>-0.271826</td>\n",
       "      <td>-0.153628</td>\n",
       "      <td>0.263411</td>\n",
       "      <td>6</td>\n",
       "    </tr>\n",
       "    <tr>\n",
       "      <th>43</th>\n",
       "      <td>-2.692433</td>\n",
       "      <td>-0.505821</td>\n",
       "      <td>-1.114639</td>\n",
       "      <td>0.986702</td>\n",
       "      <td>-1.719897</td>\n",
       "      <td>-1.113283</td>\n",
       "      <td>1.191160</td>\n",
       "      <td>1.351220</td>\n",
       "      <td>-0.057609</td>\n",
       "      <td>0.390031</td>\n",
       "      <td>...</td>\n",
       "      <td>-0.526605</td>\n",
       "      <td>0.137807</td>\n",
       "      <td>-0.063099</td>\n",
       "      <td>0.606680</td>\n",
       "      <td>0.976160</td>\n",
       "      <td>-0.965805</td>\n",
       "      <td>-0.266723</td>\n",
       "      <td>-0.016228</td>\n",
       "      <td>0.399402</td>\n",
       "      <td>6</td>\n",
       "    </tr>\n",
       "    <tr>\n",
       "      <th>44</th>\n",
       "      <td>-2.692433</td>\n",
       "      <td>-0.505821</td>\n",
       "      <td>-1.114639</td>\n",
       "      <td>0.986702</td>\n",
       "      <td>-1.719897</td>\n",
       "      <td>-1.113283</td>\n",
       "      <td>1.191160</td>\n",
       "      <td>1.351220</td>\n",
       "      <td>-0.057609</td>\n",
       "      <td>0.390031</td>\n",
       "      <td>...</td>\n",
       "      <td>-0.526605</td>\n",
       "      <td>0.137807</td>\n",
       "      <td>-0.063099</td>\n",
       "      <td>0.606680</td>\n",
       "      <td>0.976160</td>\n",
       "      <td>-0.965805</td>\n",
       "      <td>-0.266723</td>\n",
       "      <td>-0.016228</td>\n",
       "      <td>0.399402</td>\n",
       "      <td>6</td>\n",
       "    </tr>\n",
       "    <tr>\n",
       "      <th>46</th>\n",
       "      <td>-2.699866</td>\n",
       "      <td>-0.511431</td>\n",
       "      <td>-1.188822</td>\n",
       "      <td>1.073955</td>\n",
       "      <td>-1.074135</td>\n",
       "      <td>-0.947235</td>\n",
       "      <td>1.002992</td>\n",
       "      <td>1.209145</td>\n",
       "      <td>-0.023079</td>\n",
       "      <td>0.422602</td>\n",
       "      <td>...</td>\n",
       "      <td>-0.518944</td>\n",
       "      <td>0.145384</td>\n",
       "      <td>-0.062658</td>\n",
       "      <td>0.617024</td>\n",
       "      <td>0.982744</td>\n",
       "      <td>-0.942743</td>\n",
       "      <td>-0.265664</td>\n",
       "      <td>-0.026996</td>\n",
       "      <td>0.348026</td>\n",
       "      <td>6</td>\n",
       "    </tr>\n",
       "    <tr>\n",
       "      <th>51</th>\n",
       "      <td>-2.738937</td>\n",
       "      <td>-0.540599</td>\n",
       "      <td>-0.965118</td>\n",
       "      <td>0.995499</td>\n",
       "      <td>-1.055036</td>\n",
       "      <td>-0.901426</td>\n",
       "      <td>0.957033</td>\n",
       "      <td>1.206300</td>\n",
       "      <td>-0.031333</td>\n",
       "      <td>0.402685</td>\n",
       "      <td>...</td>\n",
       "      <td>-0.478542</td>\n",
       "      <td>0.125861</td>\n",
       "      <td>-0.068115</td>\n",
       "      <td>0.624628</td>\n",
       "      <td>0.973643</td>\n",
       "      <td>-0.933928</td>\n",
       "      <td>-0.268745</td>\n",
       "      <td>-0.090312</td>\n",
       "      <td>0.305719</td>\n",
       "      <td>6</td>\n",
       "    </tr>\n",
       "    <tr>\n",
       "      <th>53</th>\n",
       "      <td>-2.731504</td>\n",
       "      <td>-0.534989</td>\n",
       "      <td>-0.890936</td>\n",
       "      <td>0.908246</td>\n",
       "      <td>-1.700798</td>\n",
       "      <td>-1.067474</td>\n",
       "      <td>1.145202</td>\n",
       "      <td>1.348375</td>\n",
       "      <td>-0.065863</td>\n",
       "      <td>0.370114</td>\n",
       "      <td>...</td>\n",
       "      <td>-0.486202</td>\n",
       "      <td>0.118283</td>\n",
       "      <td>-0.068556</td>\n",
       "      <td>0.614283</td>\n",
       "      <td>0.967059</td>\n",
       "      <td>-0.956989</td>\n",
       "      <td>-0.269804</td>\n",
       "      <td>-0.079544</td>\n",
       "      <td>0.357095</td>\n",
       "      <td>6</td>\n",
       "    </tr>\n",
       "    <tr>\n",
       "      <th>54</th>\n",
       "      <td>-2.770575</td>\n",
       "      <td>-0.564157</td>\n",
       "      <td>-0.667232</td>\n",
       "      <td>0.829790</td>\n",
       "      <td>-1.681700</td>\n",
       "      <td>-1.021665</td>\n",
       "      <td>1.099244</td>\n",
       "      <td>1.345531</td>\n",
       "      <td>-0.074116</td>\n",
       "      <td>0.350197</td>\n",
       "      <td>...</td>\n",
       "      <td>-0.445800</td>\n",
       "      <td>0.098759</td>\n",
       "      <td>-0.074014</td>\n",
       "      <td>0.621887</td>\n",
       "      <td>0.957958</td>\n",
       "      <td>-0.948174</td>\n",
       "      <td>-0.272885</td>\n",
       "      <td>-0.142860</td>\n",
       "      <td>0.314787</td>\n",
       "      <td>6</td>\n",
       "    </tr>\n",
       "    <tr>\n",
       "      <th>55</th>\n",
       "      <td>-2.778008</td>\n",
       "      <td>-0.569768</td>\n",
       "      <td>-0.741414</td>\n",
       "      <td>0.917043</td>\n",
       "      <td>-1.035938</td>\n",
       "      <td>-0.855617</td>\n",
       "      <td>0.911075</td>\n",
       "      <td>1.203456</td>\n",
       "      <td>-0.039586</td>\n",
       "      <td>0.382768</td>\n",
       "      <td>...</td>\n",
       "      <td>-0.438140</td>\n",
       "      <td>0.106337</td>\n",
       "      <td>-0.073573</td>\n",
       "      <td>0.632231</td>\n",
       "      <td>0.964542</td>\n",
       "      <td>-0.925112</td>\n",
       "      <td>-0.271826</td>\n",
       "      <td>-0.153628</td>\n",
       "      <td>0.263411</td>\n",
       "      <td>6</td>\n",
       "    </tr>\n",
       "    <tr>\n",
       "      <th>56</th>\n",
       "      <td>-2.692433</td>\n",
       "      <td>-0.505821</td>\n",
       "      <td>-1.114639</td>\n",
       "      <td>0.986702</td>\n",
       "      <td>-1.719897</td>\n",
       "      <td>-1.113283</td>\n",
       "      <td>1.191160</td>\n",
       "      <td>1.351220</td>\n",
       "      <td>-0.057609</td>\n",
       "      <td>0.390031</td>\n",
       "      <td>...</td>\n",
       "      <td>-0.526605</td>\n",
       "      <td>0.137807</td>\n",
       "      <td>-0.063099</td>\n",
       "      <td>0.606680</td>\n",
       "      <td>0.976160</td>\n",
       "      <td>-0.965805</td>\n",
       "      <td>-0.266723</td>\n",
       "      <td>-0.016228</td>\n",
       "      <td>0.399402</td>\n",
       "      <td>6</td>\n",
       "    </tr>\n",
       "    <tr>\n",
       "      <th>58</th>\n",
       "      <td>-2.731504</td>\n",
       "      <td>-0.534989</td>\n",
       "      <td>-0.890936</td>\n",
       "      <td>0.908246</td>\n",
       "      <td>-1.700798</td>\n",
       "      <td>-1.067474</td>\n",
       "      <td>1.145202</td>\n",
       "      <td>1.348375</td>\n",
       "      <td>-0.065863</td>\n",
       "      <td>0.370114</td>\n",
       "      <td>...</td>\n",
       "      <td>-0.486202</td>\n",
       "      <td>0.118283</td>\n",
       "      <td>-0.068556</td>\n",
       "      <td>0.614283</td>\n",
       "      <td>0.967059</td>\n",
       "      <td>-0.956989</td>\n",
       "      <td>-0.269804</td>\n",
       "      <td>-0.079544</td>\n",
       "      <td>0.357095</td>\n",
       "      <td>6</td>\n",
       "    </tr>\n",
       "    <tr>\n",
       "      <th>59</th>\n",
       "      <td>-2.770575</td>\n",
       "      <td>-0.564157</td>\n",
       "      <td>-0.667232</td>\n",
       "      <td>0.829790</td>\n",
       "      <td>-1.681700</td>\n",
       "      <td>-1.021665</td>\n",
       "      <td>1.099244</td>\n",
       "      <td>1.345531</td>\n",
       "      <td>-0.074116</td>\n",
       "      <td>0.350197</td>\n",
       "      <td>...</td>\n",
       "      <td>-0.445800</td>\n",
       "      <td>0.098759</td>\n",
       "      <td>-0.074014</td>\n",
       "      <td>0.621887</td>\n",
       "      <td>0.957958</td>\n",
       "      <td>-0.948174</td>\n",
       "      <td>-0.272885</td>\n",
       "      <td>-0.142860</td>\n",
       "      <td>0.314787</td>\n",
       "      <td>6</td>\n",
       "    </tr>\n",
       "  </tbody>\n",
       "</table>\n",
       "<p>15 rows × 150 columns</p>\n",
       "</div>"
      ],
      "text/plain": [
       "           0         1         2         3         4         5         6  \\\n",
       "36 -2.692433 -0.505821 -1.114639  0.986702 -1.719897 -1.113283  1.191160   \n",
       "37 -2.770575 -0.564157 -0.667232  0.829790 -1.681700 -1.021665  1.099244   \n",
       "38 -2.731504 -0.534989 -0.890936  0.908246 -1.700798 -1.067474  1.145202   \n",
       "39 -2.699866 -0.511431 -1.188822  1.073955 -1.074135 -0.947235  1.002992   \n",
       "40 -2.778008 -0.569768 -0.741414  0.917043 -1.035938 -0.855617  0.911075   \n",
       "43 -2.692433 -0.505821 -1.114639  0.986702 -1.719897 -1.113283  1.191160   \n",
       "44 -2.692433 -0.505821 -1.114639  0.986702 -1.719897 -1.113283  1.191160   \n",
       "46 -2.699866 -0.511431 -1.188822  1.073955 -1.074135 -0.947235  1.002992   \n",
       "51 -2.738937 -0.540599 -0.965118  0.995499 -1.055036 -0.901426  0.957033   \n",
       "53 -2.731504 -0.534989 -0.890936  0.908246 -1.700798 -1.067474  1.145202   \n",
       "54 -2.770575 -0.564157 -0.667232  0.829790 -1.681700 -1.021665  1.099244   \n",
       "55 -2.778008 -0.569768 -0.741414  0.917043 -1.035938 -0.855617  0.911075   \n",
       "56 -2.692433 -0.505821 -1.114639  0.986702 -1.719897 -1.113283  1.191160   \n",
       "58 -2.731504 -0.534989 -0.890936  0.908246 -1.700798 -1.067474  1.145202   \n",
       "59 -2.770575 -0.564157 -0.667232  0.829790 -1.681700 -1.021665  1.099244   \n",
       "\n",
       "           7         8         9   ...         140       141       142  \\\n",
       "36  1.351220 -0.057609  0.390031   ...   -0.526605  0.137807 -0.063099   \n",
       "37  1.345531 -0.074116  0.350197   ...   -0.445800  0.098759 -0.074014   \n",
       "38  1.348375 -0.065863  0.370114   ...   -0.486202  0.118283 -0.068556   \n",
       "39  1.209145 -0.023079  0.422602   ...   -0.518944  0.145384 -0.062658   \n",
       "40  1.203456 -0.039586  0.382768   ...   -0.438140  0.106337 -0.073573   \n",
       "43  1.351220 -0.057609  0.390031   ...   -0.526605  0.137807 -0.063099   \n",
       "44  1.351220 -0.057609  0.390031   ...   -0.526605  0.137807 -0.063099   \n",
       "46  1.209145 -0.023079  0.422602   ...   -0.518944  0.145384 -0.062658   \n",
       "51  1.206300 -0.031333  0.402685   ...   -0.478542  0.125861 -0.068115   \n",
       "53  1.348375 -0.065863  0.370114   ...   -0.486202  0.118283 -0.068556   \n",
       "54  1.345531 -0.074116  0.350197   ...   -0.445800  0.098759 -0.074014   \n",
       "55  1.203456 -0.039586  0.382768   ...   -0.438140  0.106337 -0.073573   \n",
       "56  1.351220 -0.057609  0.390031   ...   -0.526605  0.137807 -0.063099   \n",
       "58  1.348375 -0.065863  0.370114   ...   -0.486202  0.118283 -0.068556   \n",
       "59  1.345531 -0.074116  0.350197   ...   -0.445800  0.098759 -0.074014   \n",
       "\n",
       "         143       144       145       146       147       148  labels  \n",
       "36  0.606680  0.976160 -0.965805 -0.266723 -0.016228  0.399402       6  \n",
       "37  0.621887  0.957958 -0.948174 -0.272885 -0.142860  0.314787       6  \n",
       "38  0.614283  0.967059 -0.956989 -0.269804 -0.079544  0.357095       6  \n",
       "39  0.617024  0.982744 -0.942743 -0.265664 -0.026996  0.348026       6  \n",
       "40  0.632231  0.964542 -0.925112 -0.271826 -0.153628  0.263411       6  \n",
       "43  0.606680  0.976160 -0.965805 -0.266723 -0.016228  0.399402       6  \n",
       "44  0.606680  0.976160 -0.965805 -0.266723 -0.016228  0.399402       6  \n",
       "46  0.617024  0.982744 -0.942743 -0.265664 -0.026996  0.348026       6  \n",
       "51  0.624628  0.973643 -0.933928 -0.268745 -0.090312  0.305719       6  \n",
       "53  0.614283  0.967059 -0.956989 -0.269804 -0.079544  0.357095       6  \n",
       "54  0.621887  0.957958 -0.948174 -0.272885 -0.142860  0.314787       6  \n",
       "55  0.632231  0.964542 -0.925112 -0.271826 -0.153628  0.263411       6  \n",
       "56  0.606680  0.976160 -0.965805 -0.266723 -0.016228  0.399402       6  \n",
       "58  0.614283  0.967059 -0.956989 -0.269804 -0.079544  0.357095       6  \n",
       "59  0.621887  0.957958 -0.948174 -0.272885 -0.142860  0.314787       6  \n",
       "\n",
       "[15 rows x 150 columns]"
      ]
     },
     "execution_count": 55,
     "metadata": {},
     "output_type": "execute_result"
    }
   ],
   "source": [
    "# People from cluster 2 are vastly overrepresented in customer data compared to \n",
    "# general population. We need to check it out.\n",
    "\n",
    "customer_df[customer_df.labels==6].head(15)"
   ]
  },
  {
   "cell_type": "markdown",
   "metadata": {},
   "source": [
    "### Discussion 3.3: Compare Customer Data to Demographics Data\n",
    "\n",
    "People from Cluster 2 are overrepresented in the customer data compared to the general population. From the data, we see that these people tend to have negative values on the first two components, as well as positive values on the third component.\n",
    "\n",
    "From the analysis we saw earlier (of the first three principal components), we can infer that we are dealing with younger males, who are combative, dominant-minded, highly mobile, not very religious, not very dutiful, have a high affinity for events, and not family-oriented. They tend to live in the areas with a high proportion of 1-2 family homes in the PLZ8 region and RR2 micro-cell region.\n",
    "\n",
    "People from Cluster 14 are overrepresented in the general population compared to the customer population. I use the values from the seventh, eigth and ninth principal components (because these all tend to be positive, while the other principal components tend to have mixed values) to infer that these are most likely immigrants to Germany, who live in the poorer parts of East Germany, and come from households with large numbers of adults and children."
   ]
  },
  {
   "cell_type": "markdown",
   "metadata": {},
   "source": [
    "## Part 2: Supervised Learning Model\n",
    "\n",
    "Now that you've found which parts of the population are more likely to be customers of the mail-order company, it's time to build a prediction model. Each of the rows in the \"MAILOUT\" data files represents an individual that was targeted for a mailout campaign. Ideally, we should be able to use the demographic information from each individual to decide whether or not it will be worth it to include that person in the campaign.\n",
    "\n",
    "The \"MAILOUT\" data has been split into two approximately equal parts, each with almost 43 000 data rows. In this part, you can verify your model with the \"TRAIN\" partition, which includes a column, \"RESPONSE\", that states whether or not a person became a customer of the company following the campaign. In the next part, you'll need to create predictions on the \"TEST\" partition, where the \"RESPONSE\" column has been withheld."
   ]
  },
  {
   "cell_type": "code",
   "execution_count": 90,
   "metadata": {},
   "outputs": [],
   "source": [
    "mailout_train = pd.read_csv('Udacity_MAILOUT_052018_TRAIN.csv', sep=';', dtype = {18:'str', 19:'str'})"
   ]
  },
  {
   "cell_type": "code",
   "execution_count": 91,
   "metadata": {},
   "outputs": [
    {
     "data": {
      "text/html": [
       "<div>\n",
       "<style scoped>\n",
       "    .dataframe tbody tr th:only-of-type {\n",
       "        vertical-align: middle;\n",
       "    }\n",
       "\n",
       "    .dataframe tbody tr th {\n",
       "        vertical-align: top;\n",
       "    }\n",
       "\n",
       "    .dataframe thead th {\n",
       "        text-align: right;\n",
       "    }\n",
       "</style>\n",
       "<table border=\"1\" class=\"dataframe\">\n",
       "  <thead>\n",
       "    <tr style=\"text-align: right;\">\n",
       "      <th></th>\n",
       "      <th>LNR</th>\n",
       "      <th>AGER_TYP</th>\n",
       "      <th>AKT_DAT_KL</th>\n",
       "      <th>ALTER_HH</th>\n",
       "      <th>ALTER_KIND1</th>\n",
       "      <th>ALTER_KIND2</th>\n",
       "      <th>ALTER_KIND3</th>\n",
       "      <th>ALTER_KIND4</th>\n",
       "      <th>ALTERSKATEGORIE_FEIN</th>\n",
       "      <th>ANZ_HAUSHALTE_AKTIV</th>\n",
       "      <th>...</th>\n",
       "      <th>VK_DHT4A</th>\n",
       "      <th>VK_DISTANZ</th>\n",
       "      <th>VK_ZG11</th>\n",
       "      <th>W_KEIT_KIND_HH</th>\n",
       "      <th>WOHNDAUER_2008</th>\n",
       "      <th>WOHNLAGE</th>\n",
       "      <th>ZABEOTYP</th>\n",
       "      <th>RESPONSE</th>\n",
       "      <th>ANREDE_KZ</th>\n",
       "      <th>ALTERSKATEGORIE_GROB</th>\n",
       "    </tr>\n",
       "  </thead>\n",
       "  <tbody>\n",
       "    <tr>\n",
       "      <th>0</th>\n",
       "      <td>1763</td>\n",
       "      <td>2</td>\n",
       "      <td>1.0</td>\n",
       "      <td>8.0</td>\n",
       "      <td>NaN</td>\n",
       "      <td>NaN</td>\n",
       "      <td>NaN</td>\n",
       "      <td>NaN</td>\n",
       "      <td>8.0</td>\n",
       "      <td>15.0</td>\n",
       "      <td>...</td>\n",
       "      <td>5.0</td>\n",
       "      <td>2.0</td>\n",
       "      <td>1.0</td>\n",
       "      <td>6.0</td>\n",
       "      <td>9.0</td>\n",
       "      <td>3.0</td>\n",
       "      <td>3</td>\n",
       "      <td>0</td>\n",
       "      <td>2</td>\n",
       "      <td>4</td>\n",
       "    </tr>\n",
       "    <tr>\n",
       "      <th>1</th>\n",
       "      <td>1771</td>\n",
       "      <td>1</td>\n",
       "      <td>4.0</td>\n",
       "      <td>13.0</td>\n",
       "      <td>NaN</td>\n",
       "      <td>NaN</td>\n",
       "      <td>NaN</td>\n",
       "      <td>NaN</td>\n",
       "      <td>13.0</td>\n",
       "      <td>1.0</td>\n",
       "      <td>...</td>\n",
       "      <td>1.0</td>\n",
       "      <td>2.0</td>\n",
       "      <td>1.0</td>\n",
       "      <td>4.0</td>\n",
       "      <td>9.0</td>\n",
       "      <td>7.0</td>\n",
       "      <td>1</td>\n",
       "      <td>0</td>\n",
       "      <td>2</td>\n",
       "      <td>3</td>\n",
       "    </tr>\n",
       "    <tr>\n",
       "      <th>2</th>\n",
       "      <td>1776</td>\n",
       "      <td>1</td>\n",
       "      <td>1.0</td>\n",
       "      <td>9.0</td>\n",
       "      <td>NaN</td>\n",
       "      <td>NaN</td>\n",
       "      <td>NaN</td>\n",
       "      <td>NaN</td>\n",
       "      <td>7.0</td>\n",
       "      <td>0.0</td>\n",
       "      <td>...</td>\n",
       "      <td>6.0</td>\n",
       "      <td>4.0</td>\n",
       "      <td>2.0</td>\n",
       "      <td>NaN</td>\n",
       "      <td>9.0</td>\n",
       "      <td>2.0</td>\n",
       "      <td>3</td>\n",
       "      <td>0</td>\n",
       "      <td>1</td>\n",
       "      <td>4</td>\n",
       "    </tr>\n",
       "    <tr>\n",
       "      <th>3</th>\n",
       "      <td>1460</td>\n",
       "      <td>2</td>\n",
       "      <td>1.0</td>\n",
       "      <td>6.0</td>\n",
       "      <td>NaN</td>\n",
       "      <td>NaN</td>\n",
       "      <td>NaN</td>\n",
       "      <td>NaN</td>\n",
       "      <td>6.0</td>\n",
       "      <td>4.0</td>\n",
       "      <td>...</td>\n",
       "      <td>8.0</td>\n",
       "      <td>11.0</td>\n",
       "      <td>11.0</td>\n",
       "      <td>6.0</td>\n",
       "      <td>9.0</td>\n",
       "      <td>1.0</td>\n",
       "      <td>3</td>\n",
       "      <td>0</td>\n",
       "      <td>2</td>\n",
       "      <td>4</td>\n",
       "    </tr>\n",
       "    <tr>\n",
       "      <th>4</th>\n",
       "      <td>1783</td>\n",
       "      <td>2</td>\n",
       "      <td>1.0</td>\n",
       "      <td>9.0</td>\n",
       "      <td>NaN</td>\n",
       "      <td>NaN</td>\n",
       "      <td>NaN</td>\n",
       "      <td>NaN</td>\n",
       "      <td>9.0</td>\n",
       "      <td>53.0</td>\n",
       "      <td>...</td>\n",
       "      <td>2.0</td>\n",
       "      <td>2.0</td>\n",
       "      <td>1.0</td>\n",
       "      <td>6.0</td>\n",
       "      <td>9.0</td>\n",
       "      <td>3.0</td>\n",
       "      <td>3</td>\n",
       "      <td>0</td>\n",
       "      <td>1</td>\n",
       "      <td>3</td>\n",
       "    </tr>\n",
       "  </tbody>\n",
       "</table>\n",
       "<p>5 rows × 367 columns</p>\n",
       "</div>"
      ],
      "text/plain": [
       "    LNR  AGER_TYP  AKT_DAT_KL  ALTER_HH  ALTER_KIND1  ALTER_KIND2  \\\n",
       "0  1763         2         1.0       8.0          NaN          NaN   \n",
       "1  1771         1         4.0      13.0          NaN          NaN   \n",
       "2  1776         1         1.0       9.0          NaN          NaN   \n",
       "3  1460         2         1.0       6.0          NaN          NaN   \n",
       "4  1783         2         1.0       9.0          NaN          NaN   \n",
       "\n",
       "   ALTER_KIND3  ALTER_KIND4  ALTERSKATEGORIE_FEIN  ANZ_HAUSHALTE_AKTIV  \\\n",
       "0          NaN          NaN                   8.0                 15.0   \n",
       "1          NaN          NaN                  13.0                  1.0   \n",
       "2          NaN          NaN                   7.0                  0.0   \n",
       "3          NaN          NaN                   6.0                  4.0   \n",
       "4          NaN          NaN                   9.0                 53.0   \n",
       "\n",
       "          ...           VK_DHT4A  VK_DISTANZ  VK_ZG11  W_KEIT_KIND_HH  \\\n",
       "0         ...                5.0         2.0      1.0             6.0   \n",
       "1         ...                1.0         2.0      1.0             4.0   \n",
       "2         ...                6.0         4.0      2.0             NaN   \n",
       "3         ...                8.0        11.0     11.0             6.0   \n",
       "4         ...                2.0         2.0      1.0             6.0   \n",
       "\n",
       "   WOHNDAUER_2008  WOHNLAGE  ZABEOTYP RESPONSE ANREDE_KZ ALTERSKATEGORIE_GROB  \n",
       "0             9.0       3.0         3        0         2                    4  \n",
       "1             9.0       7.0         1        0         2                    3  \n",
       "2             9.0       2.0         3        0         1                    4  \n",
       "3             9.0       1.0         3        0         2                    4  \n",
       "4             9.0       3.0         3        0         1                    3  \n",
       "\n",
       "[5 rows x 367 columns]"
      ]
     },
     "execution_count": 91,
     "metadata": {},
     "output_type": "execute_result"
    }
   ],
   "source": [
    "mailout_train.head()"
   ]
  },
  {
   "cell_type": "code",
   "execution_count": 92,
   "metadata": {},
   "outputs": [],
   "source": [
    "response = mailout_train[\"RESPONSE\"]"
   ]
  },
  {
   "cell_type": "code",
   "execution_count": 93,
   "metadata": {},
   "outputs": [
    {
     "name": "stdout",
     "output_type": "stream",
     "text": [
      "Drop columns with more than 20% missing values\n",
      "Drop rows with more than 25 missing values\n",
      "Re-encode 'OST_WEST_KZ'\n",
      "Imputing missing values for features\n",
      "One-hot encoding of categorical variables\n",
      "Re-encoding categorical features done.\n",
      "Engineering mixed-type features\n",
      "Engineering mixed-type features done\n"
     ]
    }
   ],
   "source": [
    "mailout_train = t.clean_data(mailout_train, feat_info)"
   ]
  },
  {
   "cell_type": "code",
   "execution_count": 94,
   "metadata": {},
   "outputs": [
    {
     "data": {
      "text/plain": [
       "(42962, 290)"
      ]
     },
     "execution_count": 94,
     "metadata": {},
     "output_type": "execute_result"
    }
   ],
   "source": [
    "mailout_train.shape"
   ]
  },
  {
   "cell_type": "code",
   "execution_count": 95,
   "metadata": {},
   "outputs": [
    {
     "name": "stderr",
     "output_type": "stream",
     "text": [
      "/Users/bmsbm/anaconda3/lib/python3.6/site-packages/ipykernel_launcher.py:1: DataConversionWarning: Data with input dtype uint8, int64, float64 were all converted to float64 by StandardScaler.\n",
      "  \"\"\"Entry point for launching an IPython kernel.\n"
     ]
    }
   ],
   "source": [
    "mailout_train = scaler.transform(mailout_train)\n",
    "mailout_train = pd.DataFrame(mailout_train, columns=list(new_customers))\n",
    "\n",
    "mailout_PCA = pd.DataFrame(pca.transform(mailout_train))"
   ]
  },
  {
   "cell_type": "code",
   "execution_count": 96,
   "metadata": {},
   "outputs": [],
   "source": [
    "X_train, X_test, y_train, y_test = train_test_split(mailout_train,\n",
    "                                                   response,\n",
    "                                                   test_size=0.2,\n",
    "                                                   random_state=0)"
   ]
  },
  {
   "cell_type": "code",
   "execution_count": 97,
   "metadata": {},
   "outputs": [
    {
     "name": "stdout",
     "output_type": "stream",
     "text": [
      "Fitting 5 folds for each of 324 candidates, totalling 1620 fits\n"
     ]
    },
    {
     "name": "stderr",
     "output_type": "stream",
     "text": [
      "[Parallel(n_jobs=-1)]: Using backend LokyBackend with 4 concurrent workers.\n",
      "[Parallel(n_jobs=-1)]: Done  17 tasks      | elapsed:  2.0min\n",
      "[Parallel(n_jobs=-1)]: Done  90 tasks      | elapsed:  9.9min\n",
      "[Parallel(n_jobs=-1)]: Done 213 tasks      | elapsed: 26.1min\n",
      "[Parallel(n_jobs=-1)]: Done 384 tasks      | elapsed: 52.7min\n",
      "[Parallel(n_jobs=-1)]: Done 605 tasks      | elapsed: 129.2min\n",
      "[Parallel(n_jobs=-1)]: Done 874 tasks      | elapsed: 176.2min\n",
      "[Parallel(n_jobs=-1)]: Done 1193 tasks      | elapsed: 229.2min\n",
      "[Parallel(n_jobs=-1)]: Done 1560 tasks      | elapsed: 302.5min\n",
      "[Parallel(n_jobs=-1)]: Done 1620 out of 1620 | elapsed: 315.1min finished\n"
     ]
    },
    {
     "data": {
      "text/plain": [
       "GridSearchCV(cv=StratifiedKFold(n_splits=5, random_state=42, shuffle=True),\n",
       "       error_score='raise-deprecating',\n",
       "       estimator=RandomForestClassifier(bootstrap=True, class_weight=None, criterion='gini',\n",
       "            max_depth=None, max_features='auto', max_leaf_nodes=None,\n",
       "            min_impurity_decrease=0.0, min_impurity_split=None,\n",
       "            min_samples_leaf=1, min_samples_split=2,\n",
       "            min_weight_fraction_leaf=0.0, n_estimators='warn', n_jobs=None,\n",
       "            oob_score=False, random_state=42, verbose=0, warm_start=False),\n",
       "       fit_params=None, iid='warn', n_jobs=-1,\n",
       "       param_grid={'max_depth': [6, 8, 10, 20], 'min_samples_split': [5, 10, 15], 'min_samples_leaf': [4, 8, 12], 'n_estimators': [300, 400, 500], 'class_weight': [{0: 80}, {0: 85}, {0: 75}]},\n",
       "       pre_dispatch='2*n_jobs', refit=True, return_train_score='warn',\n",
       "       scoring='roc_auc', verbose=4)"
      ]
     },
     "execution_count": 97,
     "metadata": {},
     "output_type": "execute_result"
    }
   ],
   "source": [
    "from sklearn.model_selection import StratifiedKFold\n",
    "\n",
    "cv = StratifiedKFold(n_splits = 5, shuffle=True, random_state = SEED)\n",
    "\n",
    "rdf = RandomForestClassifier(random_state = SEED) \n",
    "\n",
    "params = {'max_depth': [6, 8, 10, 20], \n",
    "              'min_samples_split': [5, 10, 15],\n",
    "              'min_samples_leaf' : [4, 8, 12],\n",
    "              'n_estimators' : [300, 400, 500],\n",
    "              'class_weight':[{0:80}, {0:85}, {0:75}]\n",
    "             }\n",
    "\n",
    "grid_clf = GridSearchCV(estimator = rdf, \n",
    "                        param_grid = params,\n",
    "                        cv = cv, \n",
    "                        n_jobs=-1,\n",
    "                        verbose=4,\n",
    "                        scoring='roc_auc')\n",
    "grid_clf.fit(X_train, y_train)"
   ]
  },
  {
   "cell_type": "code",
   "execution_count": 163,
   "metadata": {},
   "outputs": [
    {
     "name": "stdout",
     "output_type": "stream",
     "text": [
      "Final Roc_auc score on the training data: 0.5279\n"
     ]
    }
   ],
   "source": [
    "best_clf = grid_clf.best_estimator_\n",
    "best_predictions = best_clf.predict_proba(X_test)[:,1]\n",
    "\n",
    "print(\"Final Roc_auc score on the training data: {:.4f}\".format(roc_auc_score(y_test, best_predictions)))"
   ]
  },
  {
   "cell_type": "markdown",
   "metadata": {},
   "source": [
    "### Using SMOTE"
   ]
  },
  {
   "cell_type": "code",
   "execution_count": 168,
   "metadata": {},
   "outputs": [],
   "source": [
    "from imblearn.over_sampling import SMOTE\n",
    "from collections import Counter\n",
    "sm = SMOTE(random_state=SEED)\n",
    "from imblearn import pipeline as pl"
   ]
  },
  {
   "cell_type": "code",
   "execution_count": 176,
   "metadata": {},
   "outputs": [],
   "source": [
    "pipeline = pl.make_pipeline(sm, RandomForestClassifier(random_state=SEED, n_estimators=1000))"
   ]
  },
  {
   "cell_type": "code",
   "execution_count": 177,
   "metadata": {},
   "outputs": [],
   "source": [
    "# Train the classifier with balancing\n",
    "pipeline.fit(X_train, y_train)\n",
    "\n",
    "# Test the classifier and get the prediction\n",
    "y_pred_bal = pipeline.predict(X_test)"
   ]
  },
  {
   "cell_type": "code",
   "execution_count": 178,
   "metadata": {},
   "outputs": [
    {
     "data": {
      "text/plain": [
       "0.502525326893627"
      ]
     },
     "execution_count": 178,
     "metadata": {},
     "output_type": "execute_result"
    }
   ],
   "source": [
    "roc_auc_score(y_test, y_pred_bal)"
   ]
  }
 ],
 "metadata": {
  "kernelspec": {
   "display_name": "Python 3",
   "language": "python",
   "name": "python3"
  },
  "language_info": {
   "codemirror_mode": {
    "name": "ipython",
    "version": 3
   },
   "file_extension": ".py",
   "mimetype": "text/x-python",
   "name": "python",
   "nbconvert_exporter": "python",
   "pygments_lexer": "ipython3",
   "version": "3.6.5"
  }
 },
 "nbformat": 4,
 "nbformat_minor": 2
}
